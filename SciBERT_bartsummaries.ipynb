{
  "cells": [
    {
      "cell_type": "markdown",
      "metadata": {
        "id": "view-in-github",
        "colab_type": "text"
      },
      "source": [
        "<a href=\"https://colab.research.google.com/github/tmathema/myrepo/blob/master/SciBERT_bartsummaries.ipynb\" target=\"_parent\"><img src=\"https://colab.research.google.com/assets/colab-badge.svg\" alt=\"Open In Colab\"/></a>"
      ]
    },
    {
      "cell_type": "code",
      "execution_count": null,
      "metadata": {
        "id": "gAr9iqePuZlM",
        "colab": {
          "base_uri": "https://localhost:8080/"
        },
        "outputId": "d296d0e7-7792-45cc-f455-c25eb167c9d1"
      },
      "outputs": [
        {
          "output_type": "stream",
          "name": "stdout",
          "text": [
            "Mounted at /content/gdrive\n"
          ]
        }
      ],
      "source": [
        "from google.colab import drive \n",
        "drive.mount('/content/gdrive')"
      ]
    },
    {
      "cell_type": "code",
      "execution_count": null,
      "metadata": {
        "id": "WHAZTvj702Cj"
      },
      "outputs": [],
      "source": [
        "pip install sentence_transformers"
      ]
    },
    {
      "cell_type": "code",
      "execution_count": null,
      "metadata": {
        "id": "52QnkbWO9C38"
      },
      "outputs": [],
      "source": [
        "!pip install torch\n",
        "!pip install transformers"
      ]
    },
    {
      "cell_type": "code",
      "execution_count": null,
      "metadata": {
        "id": "BlTx-6yt0Ny2"
      },
      "outputs": [],
      "source": [
        "import numpy as np\n",
        "import pandas as pd\n",
        "import re\n",
        "import time\n",
        "import datetime as datetime\n",
        "import os \n",
        "from pandas import DataFrame\n",
        "import transformers\n",
        "from transformers import BertTokenizer, BertModel\n",
        "import nltk\n",
        "import torch\n"
      ]
    },
    {
      "cell_type": "code",
      "source": [
        "#import pickle\n",
        "#with open('/content/gdrive/MyDrive/bart_summary.pkl', 'rb') as f:\n",
        " # data = pickle.load(f)"
      ],
      "metadata": {
        "id": "pHDTQzE9wmPj"
      },
      "execution_count": null,
      "outputs": []
    },
    {
      "cell_type": "code",
      "source": [
        "data = pd.read_pickle('/content/gdrive/MyDrive/bart_summarydf.pkl')"
      ],
      "metadata": {
        "id": "g86gto0wt6GO"
      },
      "execution_count": null,
      "outputs": []
    },
    {
      "cell_type": "code",
      "source": [
        "X_test = pd.read_pickle('/content/gdrive/MyDrive/X_test.pkl')"
      ],
      "metadata": {
        "id": "ityWUPJ3j0aA"
      },
      "execution_count": null,
      "outputs": []
    },
    {
      "cell_type": "code",
      "source": [
        "X_test = X_test.reset_index(drop = True)"
      ],
      "metadata": {
        "id": "OTYZxW2IlEOH"
      },
      "execution_count": null,
      "outputs": []
    },
    {
      "cell_type": "code",
      "source": [
        "X_test.title.iloc[0]"
      ],
      "metadata": {
        "id": "1KXHQM6nnJ0M",
        "colab": {
          "base_uri": "https://localhost:8080/",
          "height": 36
        },
        "outputId": "10cdf86e-912a-4f9b-ce59-a6fe4576937d"
      },
      "execution_count": null,
      "outputs": [
        {
          "output_type": "execute_result",
          "data": {
            "application/vnd.google.colaboratory.intrinsic+json": {
              "type": "string"
            },
            "text/plain": [
              "'Learning from the rhetoric of academics using educational technology'"
            ]
          },
          "metadata": {},
          "execution_count": 9
        }
      ]
    },
    {
      "cell_type": "code",
      "source": [
        "data.head()"
      ],
      "metadata": {
        "id": "Ix1kdqHYb5lU"
      },
      "execution_count": null,
      "outputs": []
    },
    {
      "cell_type": "code",
      "source": [
        "#summaries = []\n",
        "#for i in range(len(data)):\n",
        "#  values = ' '.join(str(v) for v in data[i])\n",
        " # summaries.append(values)"
      ],
      "metadata": {
        "id": "iOSEP-fwyjqo"
      },
      "execution_count": null,
      "outputs": []
    },
    {
      "cell_type": "code",
      "source": [
        "#summaries = pd.DataFrame(summaries, columns=['text'])"
      ],
      "metadata": {
        "id": "kb2aESDegQHu"
      },
      "execution_count": null,
      "outputs": []
    },
    {
      "cell_type": "code",
      "execution_count": null,
      "metadata": {
        "id": "iEjMJJBN6ToY"
      },
      "outputs": [],
      "source": [
        "def text_preprocessing(text):\n",
        "    \"\"\"\n",
        "    - Remove entity mentions (eg. '@united')\n",
        "    - Correct errors (eg. '&amp;' to '&')\n",
        "    @param    text (str): a string to be processed.\n",
        "    @return   text (Str): the processed string.\n",
        "    \"\"\"\n",
        "    # Remove '@name'\n",
        "    text = re.sub(r'(@.*?)[\\s]', ' ', text)\n",
        "\n",
        "    # Replace '&amp;' with '&'\n",
        "    text = re.sub(r'&amp;', '&', text)\n",
        "\n",
        "    # Remove trailing whitespace\n",
        "    text = re.sub(r'\\s+', ' ', text).strip()\n",
        "\n",
        "  \n",
        "    #text = re.sub(r\"\\[(.*?)\\]\", \"\", text)  # Remove [+XYZ chars] in content\n",
        "    text = re.sub(r\"�\", \"\", text) #remove � character from text\n",
        "    text = re.sub(r\"\\w+…|…\", \"\", text)  # Remove ellipsis (and last word)\n",
        "    text = re.sub(r\"(?<=\\w)-(?=\\w)\", \" \", text)  # Replace dash between words\n",
        "    text = re.sub(r\"(\\'\\] \\[)\", \" \", text)\n",
        "   \n",
        "    return text\n",
        "\n",
        "data['text1'] = data.summary.apply(text_preprocessing)\n"
      ]
    },
    {
      "cell_type": "code",
      "source": [
        "summaries = data.text1"
      ],
      "metadata": {
        "id": "yDXKS7Of0cjQ"
      },
      "execution_count": null,
      "outputs": []
    },
    {
      "cell_type": "code",
      "execution_count": null,
      "metadata": {
        "id": "qWK3LYduSsVc"
      },
      "outputs": [],
      "source": [
        "sentences = data.text1.astype('str').tolist()"
      ]
    },
    {
      "cell_type": "code",
      "execution_count": null,
      "metadata": {
        "id": "FOkd3SSTDPen",
        "colab": {
          "base_uri": "https://localhost:8080/"
        },
        "outputId": "0bbb5a0f-3906-4e67-8814-214785d03ef6"
      },
      "outputs": [
        {
          "output_type": "execute_result",
          "data": {
            "text/plain": [
              "1107"
            ]
          },
          "metadata": {},
          "execution_count": 19
        }
      ],
      "source": [
        "len(sentences)"
      ]
    },
    {
      "cell_type": "code",
      "execution_count": null,
      "metadata": {
        "id": "m0PnfA4D-PIh"
      },
      "outputs": [],
      "source": [
        "def bert_text_preparation(text, tokenizer):\n",
        "    \"\"\"Preparing the input for BERT\n",
        "    \n",
        "    Takes a string argument and performs\n",
        "    pre-processing like adding special tokens,\n",
        "    tokenization, tokens to ids, and tokens to\n",
        "    segment ids. All tokens are mapped to seg-\n",
        "    ment id = 1.\n",
        "    \n",
        "    Args:\n",
        "        text (str): Text to be converted\n",
        "        tokenizer (obj): Tokenizer object\n",
        "            to convert text into BERT-re-\n",
        "            adable tokens and ids\n",
        "        \n",
        "    Returns:\n",
        "        list: List of BERT-readable tokens\n",
        "        obj: Torch tensor with token ids\n",
        "        obj: Torch tensor segment ids\n",
        "    \n",
        "    \n",
        "    \"\"\"\n",
        "    marked_text = \"[CLS] \" + text + \" [SEP]\"\n",
        "    tokenized_text = tokenizer.tokenize(marked_text)\n",
        "    indexed_tokens = tokenizer.convert_tokens_to_ids(tokenized_text)\n",
        "    segments_ids = [1]*len(indexed_tokens)\n",
        "\n",
        "    # Convert inputs to PyTorch tensors\n",
        "    tokens_tensor = torch.tensor([indexed_tokens])\n",
        "    segments_tensors = torch.tensor([segments_ids])\n",
        "\n",
        "    return tokenized_text, tokens_tensor, segments_tensors\n",
        "    \n",
        "def get_bert_embeddings(tokens_tensor, segments_tensors, model):\n",
        "    \"\"\"Get embeddings from an embedding model\n",
        "    \n",
        "    Args:\n",
        "        tokens_tensor (obj): Torch tensor size [n_tokens]\n",
        "            with token ids for each token in text\n",
        "        segments_tensors (obj): Torch tensor size [n_tokens]\n",
        "            with segment ids for each token in text\n",
        "        model (obj): Embedding model to generate embeddings\n",
        "            from token and segment ids\n",
        "    \n",
        "    Returns:\n",
        "        list: List of list of floats of size\n",
        "            [n_tokens, n_embedding_dimensions]\n",
        "            containing embeddings for each token\n",
        "    \n",
        "    \"\"\"\n",
        "    \n",
        "    # Gradient calculation id disabled\n",
        "    # Model is in inference mode\n",
        "    with torch.no_grad():\n",
        "        outputs = model(tokens_tensor, segments_tensors)\n",
        "        # Removing the first hidden state\n",
        "        # The first state is the input state\n",
        "        hidden_states = outputs[2][1:]\n",
        "\n",
        "    # Getting embeddings from the final BERT layer\n",
        "    token_embeddings = hidden_states[-1]\n",
        "    # Collapsing the tensor into 1-dimension\n",
        "    token_embeddings = torch.squeeze(token_embeddings, dim=0)\n",
        "    # Converting torchtensors to lists\n",
        "    list_token_embeddings = [token_embed.tolist() for token_embed in token_embeddings]\n",
        "\n",
        "    return list_token_embeddings\n"
      ]
    },
    {
      "cell_type": "code",
      "execution_count": null,
      "metadata": {
        "id": "PzdWigOZ7WfE"
      },
      "outputs": [],
      "source": [
        "from transformers import *\n",
        "tokenizer = AutoTokenizer.from_pretrained('allenai/scibert_scivocab_uncased')\n",
        "model = AutoModel.from_pretrained('allenai/scibert_scivocab_uncased')"
      ]
    },
    {
      "cell_type": "code",
      "source": [
        "#tokenizer.save_pretrained('/content/gdrive/MyDrive/tokenizer/')\n",
        "#model.save_pretrained('/content/gdrive/MyDrive/tokenizer/')"
      ],
      "metadata": {
        "id": "EB4_8ah8tQfm"
      },
      "execution_count": null,
      "outputs": []
    },
    {
      "cell_type": "code",
      "source": [
        "tokenizer = AutoTokenizer.from_pretrained('/content/gdrive/MyDrive/tokenizer/')\n",
        "model = AutoModel.from_pretrained('/content/gdrive/MyDrive/tokenizer/')"
      ],
      "metadata": {
        "id": "uOMTw1cEvDB_"
      },
      "execution_count": null,
      "outputs": []
    },
    {
      "cell_type": "code",
      "execution_count": null,
      "metadata": {
        "id": "4B363ddcvcCy"
      },
      "outputs": [],
      "source": [
        "t = []\n",
        "for i in range(len(sentences)):\n",
        "  token = bert_text_preparation(sentences[i], tokenizer)\n",
        "  t.append(token)"
      ]
    },
    {
      "cell_type": "code",
      "source": [
        "t[0]"
      ],
      "metadata": {
        "id": "q29_hAVeiGHo"
      },
      "execution_count": null,
      "outputs": []
    },
    {
      "cell_type": "code",
      "execution_count": null,
      "metadata": {
        "id": "v-oj-YcF8OTv"
      },
      "outputs": [],
      "source": [
        "from sentence_transformers import SentenceTransformer, models\n",
        "from torch import nn\n",
        "\n",
        "word_embedding_model = models.Transformer('allenai/scibert_scivocab_uncased', max_seq_length=512)\n",
        "\n",
        "pooling_model = models.Pooling(word_embedding_model.get_word_embedding_dimension(), \\\n",
        "                               pooling_mode_max_tokens = False, \\\n",
        "                               pooling_mode_mean_tokens = False,\n",
        "                               pooling_mode_mean_sqrt_len_tokens = True)\n",
        "\n",
        "# DENSE MODEL:\n",
        "# Add two trainable feed-forward networks (DAN)\n",
        "dense_model = models.Dense(in_features=pooling_model.get_sentence_embedding_dimension(), out_features=768, activation_function=nn.Tanh())\n",
        "# Here, we add a on top of the pooling layer a fully connected dense layer with Tanh activation\n",
        "# A fully-connected feed-forward network to create a Deep Averaging Network (DAN). You can stack multiple Dense models. \n",
        "\n",
        "\n",
        "\n",
        "sentence_embedding_model = SentenceTransformer(modules=[word_embedding_model, pooling_model, dense_model]) # pooling_mo"
      ]
    },
    {
      "cell_type": "code",
      "execution_count": null,
      "metadata": {
        "colab": {
          "base_uri": "https://localhost:8080/"
        },
        "id": "INhiAWcA_-HH",
        "outputId": "be981d42-4616-4220-a326-f55d972754e2"
      },
      "outputs": [
        {
          "output_type": "stream",
          "name": "stdout",
          "text": [
            "Max Sequence Length: 512\n"
          ]
        }
      ],
      "source": [
        "print(\"Max Sequence Length:\", sentence_embedding_model.max_seq_length)"
      ]
    },
    {
      "cell_type": "code",
      "execution_count": null,
      "metadata": {
        "colab": {
          "base_uri": "https://localhost:8080/",
          "height": 49,
          "referenced_widgets": [
            "853208db23f542e48c8bf4887511ffaa",
            "e4f6fa5f808c46ffb59e3e5776ce17e0",
            "704521372da243c988e3990456017ef5",
            "c050bf3d77d24f37904f7749727f4460",
            "bc2f62cec0ec431390e7c4406bb527ff",
            "cab614831c4d4ce78ff21b603ddd5860",
            "d393149d57b84c399600c4073225a478",
            "27dfbeb84e09418395b2c6dda64e3ab8",
            "9d38a6422180482c9935c76e87c9ac98",
            "38d6ae10cd6a405a95762dbb3bd63597",
            "cace61ce172c472cb400ee944f7b152f"
          ]
        },
        "id": "zkN08WULFAif",
        "outputId": "95a84f85-eee4-4d8a-ac77-44c66fff9267"
      },
      "outputs": [
        {
          "output_type": "display_data",
          "data": {
            "application/vnd.jupyter.widget-view+json": {
              "model_id": "853208db23f542e48c8bf4887511ffaa",
              "version_minor": 0,
              "version_major": 2
            },
            "text/plain": [
              "Batches:   0%|          | 0/9 [00:00<?, ?it/s]"
            ]
          },
          "metadata": {}
        }
      ],
      "source": [
        "#Sentences are encoded by calling model.encode()\n",
        "summary_embeddings = sentence_embedding_model.encode(sentences, batch_size = 128, convert_to_numpy = True, show_progress_bar=True)"
      ]
    },
    {
      "cell_type": "code",
      "source": [
        "summary_embeddings = pd.DataFrame(summary_embeddings)"
      ],
      "metadata": {
        "id": "ZH4z6nPcCnqh"
      },
      "execution_count": null,
      "outputs": []
    },
    {
      "cell_type": "code",
      "source": [
        "summary_embeddings.shape"
      ],
      "metadata": {
        "colab": {
          "base_uri": "https://localhost:8080/"
        },
        "id": "O_ycTfCJC1gQ",
        "outputId": "a43c02f4-740d-4046-841c-507625c806d2"
      },
      "execution_count": null,
      "outputs": [
        {
          "output_type": "execute_result",
          "data": {
            "text/plain": [
              "(1107, 768)"
            ]
          },
          "metadata": {},
          "execution_count": 30
        }
      ]
    },
    {
      "cell_type": "code",
      "execution_count": null,
      "metadata": {
        "id": "uhz7ORckoSWG"
      },
      "outputs": [],
      "source": [
        "bert_metadata = pd.concat([summaries, X_test, summary_embeddings], axis=1)"
      ]
    },
    {
      "cell_type": "code",
      "source": [
        "titles = bert_metadata.title"
      ],
      "metadata": {
        "id": "hFj8J9trlrRl"
      },
      "execution_count": null,
      "outputs": []
    },
    {
      "cell_type": "code",
      "execution_count": null,
      "metadata": {
        "id": "YKRqrPXODwT4"
      },
      "outputs": [],
      "source": [
        "from sklearn.manifold import TSNE\n",
        "tsne_20 = TSNE(n_components=2, method='exact', verbose = 1, random_state = 32, n_iter = 1000, perplexity = 20)"
      ]
    },
    {
      "cell_type": "code",
      "execution_count": null,
      "metadata": {
        "id": "dKR8J8kcCJkR"
      },
      "outputs": [],
      "source": [
        "from sklearn.manifold import TSNE\n",
        "tsne_30 = TSNE(n_components=2, method='exact', verbose = 1, random_state = 32, n_iter = 1000, perplexity = 30)"
      ]
    },
    {
      "cell_type": "code",
      "execution_count": null,
      "metadata": {
        "id": "vGIZZ5zMCJSW"
      },
      "outputs": [],
      "source": [
        "from sklearn.manifold import TSNE\n",
        "tsne_50 = TSNE(n_components=2, method='exact', verbose = 1, random_state = 32, n_iter = 1000, perplexity = 50)"
      ]
    },
    {
      "cell_type": "code",
      "execution_count": null,
      "metadata": {
        "id": "1NmpsXIvD_o8"
      },
      "outputs": [],
      "source": [
        "tsne20_obj= tsne_20.fit_transform(summary_embeddings)"
      ]
    },
    {
      "cell_type": "code",
      "execution_count": null,
      "metadata": {
        "id": "sz34r7XlCXDC"
      },
      "outputs": [],
      "source": [
        "tsne30_obj= tsne_30.fit_transform(summary_embeddings)"
      ]
    },
    {
      "cell_type": "code",
      "execution_count": null,
      "metadata": {
        "id": "dZz1sLiSCX_4"
      },
      "outputs": [],
      "source": [
        "tsne50_obj= tsne_50.fit_transform(summary_embeddings)"
      ]
    },
    {
      "cell_type": "code",
      "execution_count": null,
      "metadata": {
        "id": "6LVN57dAEJgj"
      },
      "outputs": [],
      "source": [
        "tsne20_df = pd.DataFrame(tsne20_obj, columns = ('dim1', 'dim2'))\n",
        "tsne20_df[\"title\"] = titles\n",
        "#tsne_df['tokens'] = list(sentences_tokenized)\n",
        "tsne20_df.head(10)"
      ]
    },
    {
      "cell_type": "code",
      "execution_count": null,
      "metadata": {
        "id": "4RMTD6ibClOI"
      },
      "outputs": [],
      "source": [
        "tsne30_df = pd.DataFrame(tsne30_obj, columns = ('dim1', 'dim2'))\n",
        "tsne30_df[\"title\"] = titles\n",
        "#tsne_df['tokens'] = list(sentences_tokenized)\n",
        "tsne30_df.head(10)"
      ]
    },
    {
      "cell_type": "code",
      "execution_count": null,
      "metadata": {
        "id": "acS40Vy7CoKO"
      },
      "outputs": [],
      "source": [
        "tsne50_df = pd.DataFrame(tsne50_obj, columns = ('dim1', 'dim2'))\n",
        "tsne50_df[\"title\"] = titles\n",
        "#tsne_df['tokens'] = list(sentences_tokenized)\n",
        "tsne50_df.head(10)"
      ]
    },
    {
      "cell_type": "markdown",
      "metadata": {
        "id": "6xYSyqeKpVMs"
      },
      "source": [
        "# Spectral clustering"
      ]
    },
    {
      "cell_type": "code",
      "execution_count": null,
      "metadata": {
        "id": "-eybgDS_EUb2"
      },
      "outputs": [],
      "source": [
        "# Modelling Helpers, see above the description\n",
        "from sklearn.cluster import SpectralClustering\n",
        "import pandas as pd\n",
        "import numpy as np\n",
        "import pickle\n",
        "import pandas as pd \n",
        "import matplotlib.pyplot as plt \n",
        "from sklearn.decomposition import PCA \n",
        "from sklearn.metrics import silhouette_score "
      ]
    },
    {
      "cell_type": "code",
      "execution_count": null,
      "metadata": {
        "id": "15VEiUGRA3lc"
      },
      "outputs": [],
      "source": [
        "from scipy.spatial.distance import pdist, squareform\n",
        "def getAffinityMatrix(coordinates, k = 10):\n",
        "    \"\"\"\n",
        "    Calculate affinity matrix based on input coordinates matrix and the numeber\n",
        "    of nearest neighbours.\n",
        "    \n",
        "    Apply local scaling based on the k nearest neighbour\n",
        "        References:\n",
        "    https://papers.nips.cc/paper/2619-self-tuning-spectral-clustering.pdf\n",
        "    \"\"\"\n",
        "    # calculate euclidian distance matrix\n",
        "    dists = squareform(pdist(coordinates)) \n",
        "    \n",
        "    # for each row, sort the distances ascendingly and take the index of the \n",
        "    #k-th position (nearest neighbour)\n",
        "    knn_distances = np.sort(dists, axis=0)[k]\n",
        "    knn_distances = knn_distances[np.newaxis].T\n",
        "    \n",
        "    # calculate sigma_i * sigma_j\n",
        "    local_scale = knn_distances.dot(knn_distances.T)\n",
        "\n",
        "    affinity_matrix = dists * dists\n",
        "    affinity_matrix = -affinity_matrix / local_scale\n",
        "    # divide square distance matrix by local scale\n",
        "    affinity_matrix[np.where(np.isnan(affinity_matrix))] = 0.0\n",
        "    # apply exponential\n",
        "    affinity_matrix = np.exp(affinity_matrix)\n",
        "    np.fill_diagonal(affinity_matrix, 0)\n",
        "    return affinity_matrix"
      ]
    },
    {
      "cell_type": "code",
      "execution_count": null,
      "metadata": {
        "id": "iaYbwIff_mma"
      },
      "outputs": [],
      "source": [
        "import scipy\n",
        "from scipy.sparse import csgraph\n",
        "# from scipy.sparse.linalg import eigsh\n",
        "from numpy import linalg as LA\n",
        "def eigenDecomposition(A, plot = True, topK = 5):\n",
        "    \"\"\"\n",
        "    :param A: Affinity matrix\n",
        "    :param plot: plots the sorted eigen values for visual inspection\n",
        "    :return A tuple containing:\n",
        "    - the optimal number of clusters by eigengap heuristic\n",
        "    - all eigen values\n",
        "    - all eigen vectors\n",
        "    \n",
        "    This method performs the eigen decomposition on a given affinity matrix,\n",
        "    following the steps recommended in the paper:\n",
        "    1. Construct the normalized affinity matrix: L = D−1/2ADˆ −1/2.\n",
        "    2. Find the eigenvalues and their associated eigen vectors\n",
        "    3. Identify the maximum gap which corresponds to the number of clusters\n",
        "    by eigengap heuristic\n",
        "    \n",
        "    References:\n",
        "    https://papers.nips.cc/paper/2619-self-tuning-spectral-clustering.pdf\n",
        "    http://www.kyb.mpg.de/fileadmin/user_upload/files/publications/attachments/Luxburg07_tutorial_4488%5b0%5d.pdf\n",
        "    \"\"\"\n",
        "    L = csgraph.laplacian(A, normed=True)\n",
        "    n_components = A.shape[0]\n",
        "    \n",
        "    # LM parameter : Eigenvalues with largest magnitude (eigs, eigsh), that is, largest eigenvalues in \n",
        "    # the euclidean norm of complex numbers.\n",
        "#     eigenvalues, eigenvectors = eigsh(L, k=n_components, which=\"LM\", sigma=1.0, maxiter=5000)\n",
        "    eigenvalues, eigenvectors = LA.eig(L)\n",
        "    \n",
        "    if plot:\n",
        "        plt.title('Largest eigen values of input matrix')\n",
        "        plt.scatter(np.arange(len(eigenvalues)), eigenvalues)\n",
        "        plt.xlabel('number of eigen values')\n",
        "        plt.ylabel('eigen values')\n",
        "        plt.grid()\n",
        "        \n",
        "    # Identify the optimal number of clusters as the index corresponding\n",
        "    # to the larger gap between eigen values\n",
        "    index_largest_gap = np.argsort(np.diff(eigenvalues))[::-1][:topK]\n",
        "    nb_clusters = index_largest_gap + 1\n",
        "        \n",
        "    return nb_clusters, eigenvalues, eigenvectors"
      ]
    },
    {
      "cell_type": "code",
      "execution_count": null,
      "metadata": {
        "id": "LjtVtrPfAbTJ"
      },
      "outputs": [],
      "source": [
        "affinity_matrix = getAffinityMatrix(tsne20_df.iloc[:,:2], k = 10)\n",
        "k, _,  _ = eigenDecomposition(affinity_matrix)\n",
        "print(f'Optimal number of clusters {k}')"
      ]
    },
    {
      "cell_type": "code",
      "execution_count": null,
      "metadata": {
        "id": "Yb3aphqgC9EB"
      },
      "outputs": [],
      "source": [
        "affinity_matrix = getAffinityMatrix(tsne30_df.iloc[:,:2], k = 10)\n",
        "k, _,  _ = eigenDecomposition(affinity_matrix)\n",
        "print(f'Optimal number of clusters {k}')"
      ]
    },
    {
      "cell_type": "code",
      "execution_count": null,
      "metadata": {
        "id": "EdXMh6geC80n"
      },
      "outputs": [],
      "source": [
        "affinity_matrix = getAffinityMatrix(tsne50_df.iloc[:,:2], k = 10)\n",
        "k, _,  _ = eigenDecomposition(affinity_matrix)\n",
        "print(f'Optimal number of clusters {k}')"
      ]
    },
    {
      "cell_type": "code",
      "execution_count": null,
      "metadata": {
        "id": "LAEPaqvZ4_ud"
      },
      "outputs": [],
      "source": [
        "# the default k-means label assignment didn't work well\n",
        "clustering_20 = SpectralClustering(n_clusters=138, random_state = 2, n_neighbors = 10,\n",
        "                                affinity ='rbf', assign_labels=\"discretize\").fit(tsne20_df.iloc[:,:2])"
      ]
    },
    {
      "cell_type": "code",
      "execution_count": null,
      "metadata": {
        "id": "YKHkCsYHDH9v"
      },
      "outputs": [],
      "source": [
        "# the default k-means label assignment didn't work well\n",
        "clustering_30 = SpectralClustering(n_clusters= 86, random_state = 2, n_neighbors = 10,\n",
        "                                affinity ='rbf', assign_labels=\"discretize\").fit(tsne30_df.iloc[:,:2])"
      ]
    },
    {
      "cell_type": "code",
      "execution_count": null,
      "metadata": {
        "id": "Lx0DQQJVDIzX"
      },
      "outputs": [],
      "source": [
        "# the default k-means label assignment didn't work well\n",
        "clustering_50 = SpectralClustering(n_clusters=166, random_state = 2, n_neighbors = 10,\n",
        "                                affinity ='rbf', assign_labels=\"discretize\").fit(tsne50_df.iloc[:,:2])"
      ]
    },
    {
      "cell_type": "code",
      "execution_count": null,
      "metadata": {
        "id": "lmlo2VIpJJVU"
      },
      "outputs": [],
      "source": [
        "y_pred_tsne20 = pd.DataFrame(clustering_20.labels_)\n",
        "y_pred_tsne30 = pd.DataFrame(clustering_30.labels_)\n",
        "y_pred_tsne50 = pd.DataFrame(clustering_50.labels_)"
      ]
    },
    {
      "cell_type": "code",
      "execution_count": null,
      "metadata": {
        "id": "h1LdYrWXJSeJ"
      },
      "outputs": [],
      "source": [
        "import sklearn.metrics as metrics\n",
        "metrics.silhouette_score(tsne20_df.iloc[:,:2], y_pred_tsne20, metric='euclidean')"
      ]
    },
    {
      "cell_type": "code",
      "execution_count": null,
      "metadata": {
        "id": "qZH-7CzaDjV3"
      },
      "outputs": [],
      "source": [
        "metrics.silhouette_score(tsne30_df.iloc[:,:2], y_pred_tsne30, metric='euclidean')"
      ]
    },
    {
      "cell_type": "code",
      "execution_count": null,
      "metadata": {
        "id": "7iNAHOZQDnNx"
      },
      "outputs": [],
      "source": [
        "metrics.silhouette_score(tsne50_df.iloc[:,:2], y_pred_tsne50, metric='euclidean')"
      ]
    },
    {
      "cell_type": "code",
      "execution_count": null,
      "metadata": {
        "id": "x1qw9NyJZe4V"
      },
      "outputs": [],
      "source": [
        "tsne20_df['labels'] = y_pred_tsne20\n",
        "tsne30_df['labels'] = y_pred_tsne30\n",
        "tsne50_df['labels'] = y_pred_tsne50"
      ]
    },
    {
      "cell_type": "code",
      "execution_count": null,
      "metadata": {
        "id": "mrOhAV7AZlS9"
      },
      "outputs": [],
      "source": [
        "import bokeh.plotting as bp\n",
        "from bokeh.models import HoverTool, BoxSelectTool\n",
        "from bokeh.models import ColumnDataSource\n",
        "from bokeh.plotting import figure, show, output_notebook, reset_output\n",
        "from bokeh.palettes import d3\n",
        "import bokeh.models as bmo\n",
        "from bokeh.io import save, output_file"
      ]
    },
    {
      "cell_type": "code",
      "execution_count": null,
      "metadata": {
        "id": "8KxiJ9KQgWee"
      },
      "outputs": [],
      "source": [
        "from bokeh.models import ColumnDataSource, ColorBar\n",
        "from bokeh.palettes import d3\n",
        "from bokeh.transform import linear_cmap"
      ]
    },
    {
      "cell_type": "code",
      "execution_count": null,
      "metadata": {
        "id": "QsBLzuq0UugH"
      },
      "outputs": [],
      "source": [
        "from bokeh.transform import linear_cmap\n",
        "from bokeh.palettes import d3\n",
        "from bokeh.models import CategoricalColorMapper\n",
        "from bokeh.palettes import Viridis256, Turbo256, Inferno256, Greys256\n",
        "from bokeh.models import CategoricalColorMapper\n",
        "from bokeh.models import LinearColorMapper, ColorBar\n",
        "from bokeh.transform import transform\n",
        "from bokeh.plotting import figure,show\n",
        "\n",
        "output_notebook()\n",
        "plot_tsne = bp.figure(plot_width = 700, plot_height = 500, \n",
        "                       title = \"Clustering of UCT publication(t-SNE of 20 perplexity dimensionsinality reduction)\",\n",
        "                       tools = \"pan, wheel_zoom, box_zoom, reset, hover, save\",\n",
        "                       x_axis_type = None, y_axis_type = None, min_border = 1)\n",
        "\n",
        "#palette = d3[\"Category20\"][len(tsne1020_df[\"labels\"].unique())]\n",
        "#mapper = linear_cmap(field_name='labels', palette=palette ,low=min(tsne1020_df[\"labels\"]) ,high=max(tsne1020_df[\"labels\"]))\n",
        "mapper = LinearColorMapper(palette='Turbo256', low=tsne20_df[\"labels\"].min() ,high=tsne20_df[\"labels\"].max())\n",
        "\n",
        "#color_map = CategoricalColorMapper(factors = umap1020_df[\"labels\"].unique(), palette = palette)\n",
        "\n",
        "plot_tsne.scatter(x = \"dim1\", y = \"dim2\", \n",
        "                 color= transform('labels', mapper), \n",
        "                 source = tsne20_df,\n",
        "                 alpha = 0.7)\n",
        "#color_bar = ColorBar(color_mapper=mapper['transform'], width=8,  location=(0,0),title=\"cluster labels\")\n",
        "color_bar = ColorBar(color_mapper = mapper,\n",
        "                     label_standoff = 14,\n",
        "                     location = (0,0),\n",
        "                     title = 'Plot')\n",
        "plot_tsne.add_layout(color_bar, 'right')\n",
        "hover = plot_tsne.select(dict(type = HoverTool))\n",
        "hover.tooltips = {\"paper\": \"@title\"}\n",
        "\n",
        "show(plot_tsne)"
      ]
    },
    {
      "cell_type": "code",
      "execution_count": null,
      "metadata": {
        "id": "xtATKEqjEDdJ",
        "colab": {
          "base_uri": "https://localhost:8080/",
          "height": 517
        },
        "outputId": "284cc5ef-9da8-4881-f226-10167687eb1f"
      },
      "outputs": [
        {
          "output_type": "display_data",
          "data": {
            "application/javascript": [
              "\n",
              "(function(root) {\n",
              "  function now() {\n",
              "    return new Date();\n",
              "  }\n",
              "\n",
              "  var force = true;\n",
              "\n",
              "  if (typeof root._bokeh_onload_callbacks === \"undefined\" || force === true) {\n",
              "    root._bokeh_onload_callbacks = [];\n",
              "    root._bokeh_is_loading = undefined;\n",
              "  }\n",
              "\n",
              "  var JS_MIME_TYPE = 'application/javascript';\n",
              "  var HTML_MIME_TYPE = 'text/html';\n",
              "  var EXEC_MIME_TYPE = 'application/vnd.bokehjs_exec.v0+json';\n",
              "  var CLASS_NAME = 'output_bokeh rendered_html';\n",
              "\n",
              "  /**\n",
              "   * Render data to the DOM node\n",
              "   */\n",
              "  function render(props, node) {\n",
              "    var script = document.createElement(\"script\");\n",
              "    node.appendChild(script);\n",
              "  }\n",
              "\n",
              "  /**\n",
              "   * Handle when an output is cleared or removed\n",
              "   */\n",
              "  function handleClearOutput(event, handle) {\n",
              "    var cell = handle.cell;\n",
              "\n",
              "    var id = cell.output_area._bokeh_element_id;\n",
              "    var server_id = cell.output_area._bokeh_server_id;\n",
              "    // Clean up Bokeh references\n",
              "    if (id != null && id in Bokeh.index) {\n",
              "      Bokeh.index[id].model.document.clear();\n",
              "      delete Bokeh.index[id];\n",
              "    }\n",
              "\n",
              "    if (server_id !== undefined) {\n",
              "      // Clean up Bokeh references\n",
              "      var cmd = \"from bokeh.io.state import curstate; print(curstate().uuid_to_server['\" + server_id + \"'].get_sessions()[0].document.roots[0]._id)\";\n",
              "      cell.notebook.kernel.execute(cmd, {\n",
              "        iopub: {\n",
              "          output: function(msg) {\n",
              "            var id = msg.content.text.trim();\n",
              "            if (id in Bokeh.index) {\n",
              "              Bokeh.index[id].model.document.clear();\n",
              "              delete Bokeh.index[id];\n",
              "            }\n",
              "          }\n",
              "        }\n",
              "      });\n",
              "      // Destroy server and session\n",
              "      var cmd = \"import bokeh.io.notebook as ion; ion.destroy_server('\" + server_id + \"')\";\n",
              "      cell.notebook.kernel.execute(cmd);\n",
              "    }\n",
              "  }\n",
              "\n",
              "  /**\n",
              "   * Handle when a new output is added\n",
              "   */\n",
              "  function handleAddOutput(event, handle) {\n",
              "    var output_area = handle.output_area;\n",
              "    var output = handle.output;\n",
              "\n",
              "    // limit handleAddOutput to display_data with EXEC_MIME_TYPE content only\n",
              "    if ((output.output_type != \"display_data\") || (!Object.prototype.hasOwnProperty.call(output.data, EXEC_MIME_TYPE))) {\n",
              "      return\n",
              "    }\n",
              "\n",
              "    var toinsert = output_area.element.find(\".\" + CLASS_NAME.split(' ')[0]);\n",
              "\n",
              "    if (output.metadata[EXEC_MIME_TYPE][\"id\"] !== undefined) {\n",
              "      toinsert[toinsert.length - 1].firstChild.textContent = output.data[JS_MIME_TYPE];\n",
              "      // store reference to embed id on output_area\n",
              "      output_area._bokeh_element_id = output.metadata[EXEC_MIME_TYPE][\"id\"];\n",
              "    }\n",
              "    if (output.metadata[EXEC_MIME_TYPE][\"server_id\"] !== undefined) {\n",
              "      var bk_div = document.createElement(\"div\");\n",
              "      bk_div.innerHTML = output.data[HTML_MIME_TYPE];\n",
              "      var script_attrs = bk_div.children[0].attributes;\n",
              "      for (var i = 0; i < script_attrs.length; i++) {\n",
              "        toinsert[toinsert.length - 1].firstChild.setAttribute(script_attrs[i].name, script_attrs[i].value);\n",
              "        toinsert[toinsert.length - 1].firstChild.textContent = bk_div.children[0].textContent\n",
              "      }\n",
              "      // store reference to server id on output_area\n",
              "      output_area._bokeh_server_id = output.metadata[EXEC_MIME_TYPE][\"server_id\"];\n",
              "    }\n",
              "  }\n",
              "\n",
              "  function register_renderer(events, OutputArea) {\n",
              "\n",
              "    function append_mime(data, metadata, element) {\n",
              "      // create a DOM node to render to\n",
              "      var toinsert = this.create_output_subarea(\n",
              "        metadata,\n",
              "        CLASS_NAME,\n",
              "        EXEC_MIME_TYPE\n",
              "      );\n",
              "      this.keyboard_manager.register_events(toinsert);\n",
              "      // Render to node\n",
              "      var props = {data: data, metadata: metadata[EXEC_MIME_TYPE]};\n",
              "      render(props, toinsert[toinsert.length - 1]);\n",
              "      element.append(toinsert);\n",
              "      return toinsert\n",
              "    }\n",
              "\n",
              "    /* Handle when an output is cleared or removed */\n",
              "    events.on('clear_output.CodeCell', handleClearOutput);\n",
              "    events.on('delete.Cell', handleClearOutput);\n",
              "\n",
              "    /* Handle when a new output is added */\n",
              "    events.on('output_added.OutputArea', handleAddOutput);\n",
              "\n",
              "    /**\n",
              "     * Register the mime type and append_mime function with output_area\n",
              "     */\n",
              "    OutputArea.prototype.register_mime_type(EXEC_MIME_TYPE, append_mime, {\n",
              "      /* Is output safe? */\n",
              "      safe: true,\n",
              "      /* Index of renderer in `output_area.display_order` */\n",
              "      index: 0\n",
              "    });\n",
              "  }\n",
              "\n",
              "  // register the mime type if in Jupyter Notebook environment and previously unregistered\n",
              "  if (root.Jupyter !== undefined) {\n",
              "    var events = require('base/js/events');\n",
              "    var OutputArea = require('notebook/js/outputarea').OutputArea;\n",
              "\n",
              "    if (OutputArea.prototype.mime_types().indexOf(EXEC_MIME_TYPE) == -1) {\n",
              "      register_renderer(events, OutputArea);\n",
              "    }\n",
              "  }\n",
              "\n",
              "  \n",
              "  if (typeof (root._bokeh_timeout) === \"undefined\" || force === true) {\n",
              "    root._bokeh_timeout = Date.now() + 5000;\n",
              "    root._bokeh_failed_load = false;\n",
              "  }\n",
              "\n",
              "  var NB_LOAD_WARNING = {'data': {'text/html':\n",
              "     \"<div style='background-color: #fdd'>\\n\"+\n",
              "     \"<p>\\n\"+\n",
              "     \"BokehJS does not appear to have successfully loaded. If loading BokehJS from CDN, this \\n\"+\n",
              "     \"may be due to a slow or bad network connection. Possible fixes:\\n\"+\n",
              "     \"</p>\\n\"+\n",
              "     \"<ul>\\n\"+\n",
              "     \"<li>re-rerun `output_notebook()` to attempt to load from CDN again, or</li>\\n\"+\n",
              "     \"<li>use INLINE resources instead, as so:</li>\\n\"+\n",
              "     \"</ul>\\n\"+\n",
              "     \"<code>\\n\"+\n",
              "     \"from bokeh.resources import INLINE\\n\"+\n",
              "     \"output_notebook(resources=INLINE)\\n\"+\n",
              "     \"</code>\\n\"+\n",
              "     \"</div>\"}};\n",
              "\n",
              "  function display_loaded() {\n",
              "    var el = document.getElementById(null);\n",
              "    if (el != null) {\n",
              "      el.textContent = \"BokehJS is loading...\";\n",
              "    }\n",
              "    if (root.Bokeh !== undefined) {\n",
              "      if (el != null) {\n",
              "        el.textContent = \"BokehJS \" + root.Bokeh.version + \" successfully loaded.\";\n",
              "      }\n",
              "    } else if (Date.now() < root._bokeh_timeout) {\n",
              "      setTimeout(display_loaded, 100)\n",
              "    }\n",
              "  }\n",
              "\n",
              "\n",
              "  function run_callbacks() {\n",
              "    try {\n",
              "      root._bokeh_onload_callbacks.forEach(function(callback) {\n",
              "        if (callback != null)\n",
              "          callback();\n",
              "      });\n",
              "    } finally {\n",
              "      delete root._bokeh_onload_callbacks\n",
              "    }\n",
              "    console.debug(\"Bokeh: all callbacks have finished\");\n",
              "  }\n",
              "\n",
              "  function load_libs(css_urls, js_urls, callback) {\n",
              "    if (css_urls == null) css_urls = [];\n",
              "    if (js_urls == null) js_urls = [];\n",
              "\n",
              "    root._bokeh_onload_callbacks.push(callback);\n",
              "    if (root._bokeh_is_loading > 0) {\n",
              "      console.debug(\"Bokeh: BokehJS is being loaded, scheduling callback at\", now());\n",
              "      return null;\n",
              "    }\n",
              "    if (js_urls == null || js_urls.length === 0) {\n",
              "      run_callbacks();\n",
              "      return null;\n",
              "    }\n",
              "    console.debug(\"Bokeh: BokehJS not loaded, scheduling load and callback at\", now());\n",
              "    root._bokeh_is_loading = css_urls.length + js_urls.length;\n",
              "\n",
              "    function on_load() {\n",
              "      root._bokeh_is_loading--;\n",
              "      if (root._bokeh_is_loading === 0) {\n",
              "        console.debug(\"Bokeh: all BokehJS libraries/stylesheets loaded\");\n",
              "        run_callbacks()\n",
              "      }\n",
              "    }\n",
              "\n",
              "    function on_error(url) {\n",
              "      console.error(\"failed to load \" + url);\n",
              "    }\n",
              "\n",
              "    for (let i = 0; i < css_urls.length; i++) {\n",
              "      const url = css_urls[i];\n",
              "      const element = document.createElement(\"link\");\n",
              "      element.onload = on_load;\n",
              "      element.onerror = on_error.bind(null, url);\n",
              "      element.rel = \"stylesheet\";\n",
              "      element.type = \"text/css\";\n",
              "      element.href = url;\n",
              "      console.debug(\"Bokeh: injecting link tag for BokehJS stylesheet: \", url);\n",
              "      document.body.appendChild(element);\n",
              "    }\n",
              "\n",
              "    const hashes = {\"https://cdn.bokeh.org/bokeh/release/bokeh-2.3.3.min.js\": \"dM3QQsP+wXdHg42wTqW85BjZQdLNNIXqlPw/BgKoExPmTG7ZLML4EGqLMfqHT6ON\", \"https://cdn.bokeh.org/bokeh/release/bokeh-tables-2.3.3.min.js\": \"8x57I4YuIfu8XyZfFo0XVr2WAT8EK4rh/uDe3wF7YuW2FNUSNEpJbsPaB1nJ2fz2\", \"https://cdn.bokeh.org/bokeh/release/bokeh-widgets-2.3.3.min.js\": \"3QTqdz9LyAm2i0sG5XTePsHec3UHWwVsrOL68SYRoAXsafvfAyqtQ+h440+qIBhS\"};\n",
              "\n",
              "    for (let i = 0; i < js_urls.length; i++) {\n",
              "      const url = js_urls[i];\n",
              "      const element = document.createElement('script');\n",
              "      element.onload = on_load;\n",
              "      element.onerror = on_error.bind(null, url);\n",
              "      element.async = false;\n",
              "      element.src = url;\n",
              "      if (url in hashes) {\n",
              "        element.crossOrigin = \"anonymous\";\n",
              "        element.integrity = \"sha384-\" + hashes[url];\n",
              "      }\n",
              "      console.debug(\"Bokeh: injecting script tag for BokehJS library: \", url);\n",
              "      document.head.appendChild(element);\n",
              "    }\n",
              "  };\n",
              "\n",
              "  function inject_raw_css(css) {\n",
              "    const element = document.createElement(\"style\");\n",
              "    element.appendChild(document.createTextNode(css));\n",
              "    document.body.appendChild(element);\n",
              "  }\n",
              "\n",
              "  \n",
              "  var js_urls = [\"https://cdn.bokeh.org/bokeh/release/bokeh-2.3.3.min.js\", \"https://cdn.bokeh.org/bokeh/release/bokeh-widgets-2.3.3.min.js\", \"https://cdn.bokeh.org/bokeh/release/bokeh-tables-2.3.3.min.js\"];\n",
              "  var css_urls = [];\n",
              "  \n",
              "\n",
              "  var inline_js = [\n",
              "    function(Bokeh) {\n",
              "      Bokeh.set_log_level(\"info\");\n",
              "    },\n",
              "    function(Bokeh) {\n",
              "    \n",
              "    \n",
              "    }\n",
              "  ];\n",
              "\n",
              "  function run_inline_js() {\n",
              "    \n",
              "    if (root.Bokeh !== undefined || force === true) {\n",
              "      \n",
              "    for (var i = 0; i < inline_js.length; i++) {\n",
              "      inline_js[i].call(root, root.Bokeh);\n",
              "    }\n",
              "    } else if (Date.now() < root._bokeh_timeout) {\n",
              "      setTimeout(run_inline_js, 100);\n",
              "    } else if (!root._bokeh_failed_load) {\n",
              "      console.log(\"Bokeh: BokehJS failed to load within specified timeout.\");\n",
              "      root._bokeh_failed_load = true;\n",
              "    } else if (force !== true) {\n",
              "      var cell = $(document.getElementById(null)).parents('.cell').data().cell;\n",
              "      cell.output_area.append_execute_result(NB_LOAD_WARNING)\n",
              "    }\n",
              "\n",
              "  }\n",
              "\n",
              "  if (root._bokeh_is_loading === 0) {\n",
              "    console.debug(\"Bokeh: BokehJS loaded, going straight to plotting\");\n",
              "    run_inline_js();\n",
              "  } else {\n",
              "    load_libs(css_urls, js_urls, function() {\n",
              "      console.debug(\"Bokeh: BokehJS plotting callback run at\", now());\n",
              "      run_inline_js();\n",
              "    });\n",
              "  }\n",
              "}(window));"
            ],
            "application/vnd.bokehjs_load.v0+json": "\n(function(root) {\n  function now() {\n    return new Date();\n  }\n\n  var force = true;\n\n  if (typeof root._bokeh_onload_callbacks === \"undefined\" || force === true) {\n    root._bokeh_onload_callbacks = [];\n    root._bokeh_is_loading = undefined;\n  }\n\n  \n\n  \n  if (typeof (root._bokeh_timeout) === \"undefined\" || force === true) {\n    root._bokeh_timeout = Date.now() + 5000;\n    root._bokeh_failed_load = false;\n  }\n\n  var NB_LOAD_WARNING = {'data': {'text/html':\n     \"<div style='background-color: #fdd'>\\n\"+\n     \"<p>\\n\"+\n     \"BokehJS does not appear to have successfully loaded. If loading BokehJS from CDN, this \\n\"+\n     \"may be due to a slow or bad network connection. Possible fixes:\\n\"+\n     \"</p>\\n\"+\n     \"<ul>\\n\"+\n     \"<li>re-rerun `output_notebook()` to attempt to load from CDN again, or</li>\\n\"+\n     \"<li>use INLINE resources instead, as so:</li>\\n\"+\n     \"</ul>\\n\"+\n     \"<code>\\n\"+\n     \"from bokeh.resources import INLINE\\n\"+\n     \"output_notebook(resources=INLINE)\\n\"+\n     \"</code>\\n\"+\n     \"</div>\"}};\n\n  function display_loaded() {\n    var el = document.getElementById(null);\n    if (el != null) {\n      el.textContent = \"BokehJS is loading...\";\n    }\n    if (root.Bokeh !== undefined) {\n      if (el != null) {\n        el.textContent = \"BokehJS \" + root.Bokeh.version + \" successfully loaded.\";\n      }\n    } else if (Date.now() < root._bokeh_timeout) {\n      setTimeout(display_loaded, 100)\n    }\n  }\n\n\n  function run_callbacks() {\n    try {\n      root._bokeh_onload_callbacks.forEach(function(callback) {\n        if (callback != null)\n          callback();\n      });\n    } finally {\n      delete root._bokeh_onload_callbacks\n    }\n    console.debug(\"Bokeh: all callbacks have finished\");\n  }\n\n  function load_libs(css_urls, js_urls, callback) {\n    if (css_urls == null) css_urls = [];\n    if (js_urls == null) js_urls = [];\n\n    root._bokeh_onload_callbacks.push(callback);\n    if (root._bokeh_is_loading > 0) {\n      console.debug(\"Bokeh: BokehJS is being loaded, scheduling callback at\", now());\n      return null;\n    }\n    if (js_urls == null || js_urls.length === 0) {\n      run_callbacks();\n      return null;\n    }\n    console.debug(\"Bokeh: BokehJS not loaded, scheduling load and callback at\", now());\n    root._bokeh_is_loading = css_urls.length + js_urls.length;\n\n    function on_load() {\n      root._bokeh_is_loading--;\n      if (root._bokeh_is_loading === 0) {\n        console.debug(\"Bokeh: all BokehJS libraries/stylesheets loaded\");\n        run_callbacks()\n      }\n    }\n\n    function on_error(url) {\n      console.error(\"failed to load \" + url);\n    }\n\n    for (let i = 0; i < css_urls.length; i++) {\n      const url = css_urls[i];\n      const element = document.createElement(\"link\");\n      element.onload = on_load;\n      element.onerror = on_error.bind(null, url);\n      element.rel = \"stylesheet\";\n      element.type = \"text/css\";\n      element.href = url;\n      console.debug(\"Bokeh: injecting link tag for BokehJS stylesheet: \", url);\n      document.body.appendChild(element);\n    }\n\n    const hashes = {\"https://cdn.bokeh.org/bokeh/release/bokeh-2.3.3.min.js\": \"dM3QQsP+wXdHg42wTqW85BjZQdLNNIXqlPw/BgKoExPmTG7ZLML4EGqLMfqHT6ON\", \"https://cdn.bokeh.org/bokeh/release/bokeh-tables-2.3.3.min.js\": \"8x57I4YuIfu8XyZfFo0XVr2WAT8EK4rh/uDe3wF7YuW2FNUSNEpJbsPaB1nJ2fz2\", \"https://cdn.bokeh.org/bokeh/release/bokeh-widgets-2.3.3.min.js\": \"3QTqdz9LyAm2i0sG5XTePsHec3UHWwVsrOL68SYRoAXsafvfAyqtQ+h440+qIBhS\"};\n\n    for (let i = 0; i < js_urls.length; i++) {\n      const url = js_urls[i];\n      const element = document.createElement('script');\n      element.onload = on_load;\n      element.onerror = on_error.bind(null, url);\n      element.async = false;\n      element.src = url;\n      if (url in hashes) {\n        element.crossOrigin = \"anonymous\";\n        element.integrity = \"sha384-\" + hashes[url];\n      }\n      console.debug(\"Bokeh: injecting script tag for BokehJS library: \", url);\n      document.head.appendChild(element);\n    }\n  };\n\n  function inject_raw_css(css) {\n    const element = document.createElement(\"style\");\n    element.appendChild(document.createTextNode(css));\n    document.body.appendChild(element);\n  }\n\n  \n  var js_urls = [\"https://cdn.bokeh.org/bokeh/release/bokeh-2.3.3.min.js\", \"https://cdn.bokeh.org/bokeh/release/bokeh-widgets-2.3.3.min.js\", \"https://cdn.bokeh.org/bokeh/release/bokeh-tables-2.3.3.min.js\"];\n  var css_urls = [];\n  \n\n  var inline_js = [\n    function(Bokeh) {\n      Bokeh.set_log_level(\"info\");\n    },\n    function(Bokeh) {\n    \n    \n    }\n  ];\n\n  function run_inline_js() {\n    \n    if (root.Bokeh !== undefined || force === true) {\n      \n    for (var i = 0; i < inline_js.length; i++) {\n      inline_js[i].call(root, root.Bokeh);\n    }\n    } else if (Date.now() < root._bokeh_timeout) {\n      setTimeout(run_inline_js, 100);\n    } else if (!root._bokeh_failed_load) {\n      console.log(\"Bokeh: BokehJS failed to load within specified timeout.\");\n      root._bokeh_failed_load = true;\n    } else if (force !== true) {\n      var cell = $(document.getElementById(null)).parents('.cell').data().cell;\n      cell.output_area.append_execute_result(NB_LOAD_WARNING)\n    }\n\n  }\n\n  if (root._bokeh_is_loading === 0) {\n    console.debug(\"Bokeh: BokehJS loaded, going straight to plotting\");\n    run_inline_js();\n  } else {\n    load_libs(css_urls, js_urls, function() {\n      console.debug(\"Bokeh: BokehJS plotting callback run at\", now());\n      run_inline_js();\n    });\n  }\n}(window));"
          },
          "metadata": {}
        },
        {
          "output_type": "display_data",
          "data": {
            "text/html": [
              "\n",
              "\n",
              "\n",
              "\n",
              "\n",
              "\n",
              "  <div class=\"bk-root\" id=\"adf30478-8c6c-4127-9399-cffec8ba482a\" data-root-id=\"1070\"></div>\n"
            ]
          },
          "metadata": {}
        },
        {
          "output_type": "display_data",
          "data": {
            "application/javascript": [
              "(function(root) {\n",
              "  function embed_document(root) {\n",
              "    \n",
              "  var docs_json = {\"45447d3d-e5ac-4e1b-bd42-24b176d2b27c\":{\"defs\":[],\"roots\":{\"references\":[{\"attributes\":{\"height\":500,\"min_border\":1,\"renderers\":[{\"id\":\"1100\"}],\"right\":[{\"id\":\"1102\"}],\"title\":{\"id\":\"1071\"},\"toolbar\":{\"id\":\"1088\"},\"width\":700,\"x_range\":{\"id\":\"1073\"},\"x_scale\":{\"id\":\"1077\"},\"y_range\":{\"id\":\"1075\"},\"y_scale\":{\"id\":\"1079\"}},\"id\":\"1070\",\"subtype\":\"Figure\",\"type\":\"Plot\"},{\"attributes\":{},\"id\":\"1106\",\"type\":\"UnionRenderers\"},{\"attributes\":{\"high\":85,\"low\":0,\"palette\":[\"#30123b\",\"#311542\",\"#32184a\",\"#341b51\",\"#351e58\",\"#36215f\",\"#372365\",\"#38266c\",\"#392972\",\"#3a2c79\",\"#3b2f7f\",\"#3c3285\",\"#3c358b\",\"#3d3791\",\"#3e3a96\",\"#3f3d9c\",\"#4040a1\",\"#4043a6\",\"#4145ab\",\"#4148b0\",\"#424bb5\",\"#434eba\",\"#4350be\",\"#4353c2\",\"#4456c7\",\"#4458cb\",\"#455bce\",\"#455ed2\",\"#4560d6\",\"#4563d9\",\"#4666dd\",\"#4668e0\",\"#466be3\",\"#466de6\",\"#4670e8\",\"#4673eb\",\"#4675ed\",\"#4678f0\",\"#467af2\",\"#467df4\",\"#467ff6\",\"#4682f8\",\"#4584f9\",\"#4587fb\",\"#4589fc\",\"#448cfd\",\"#438efd\",\"#4291fe\",\"#4193fe\",\"#4096fe\",\"#3f98fe\",\"#3e9bfe\",\"#3c9dfd\",\"#3ba0fc\",\"#39a2fc\",\"#38a5fb\",\"#36a8f9\",\"#34aaf8\",\"#33acf6\",\"#31aff5\",\"#2fb1f3\",\"#2db4f1\",\"#2bb6ef\",\"#2ab9ed\",\"#28bbeb\",\"#26bde9\",\"#25c0e6\",\"#23c2e4\",\"#21c4e1\",\"#20c6df\",\"#1ec9dc\",\"#1dcbda\",\"#1ccdd7\",\"#1bcfd4\",\"#1ad1d2\",\"#19d3cf\",\"#18d5cc\",\"#18d7ca\",\"#17d9c7\",\"#17dac4\",\"#17dcc2\",\"#17debf\",\"#18e0bd\",\"#18e1ba\",\"#19e3b8\",\"#1ae4b6\",\"#1be5b4\",\"#1de7b1\",\"#1ee8af\",\"#20e9ac\",\"#22eba9\",\"#24eca6\",\"#27eda3\",\"#29eea0\",\"#2cef9d\",\"#2ff09a\",\"#32f197\",\"#35f394\",\"#38f491\",\"#3bf48d\",\"#3ff58a\",\"#42f687\",\"#46f783\",\"#4af880\",\"#4df97c\",\"#51f979\",\"#55fa76\",\"#59fb72\",\"#5dfb6f\",\"#61fc6c\",\"#65fc68\",\"#69fd65\",\"#6dfd62\",\"#71fd5f\",\"#74fe5c\",\"#78fe59\",\"#7cfe56\",\"#80fe53\",\"#84fe50\",\"#87fe4d\",\"#8bfe4b\",\"#8efe48\",\"#92fe46\",\"#95fe44\",\"#98fe42\",\"#9bfd40\",\"#9efd3e\",\"#a1fc3d\",\"#a4fc3b\",\"#a6fb3a\",\"#a9fb39\",\"#acfa37\",\"#aef937\",\"#b1f836\",\"#b3f835\",\"#b6f735\",\"#b9f534\",\"#bbf434\",\"#bef334\",\"#c0f233\",\"#c3f133\",\"#c5ef33\",\"#c8ee33\",\"#caed33\",\"#cdeb34\",\"#cfea34\",\"#d1e834\",\"#d4e735\",\"#d6e535\",\"#d8e335\",\"#dae236\",\"#dde036\",\"#dfde36\",\"#e1dc37\",\"#e3da37\",\"#e5d838\",\"#e7d738\",\"#e8d538\",\"#ead339\",\"#ecd139\",\"#edcf39\",\"#efcd39\",\"#f0cb3a\",\"#f2c83a\",\"#f3c63a\",\"#f4c43a\",\"#f6c23a\",\"#f7c039\",\"#f8be39\",\"#f9bc39\",\"#f9ba38\",\"#fab737\",\"#fbb537\",\"#fbb336\",\"#fcb035\",\"#fcae34\",\"#fdab33\",\"#fda932\",\"#fda631\",\"#fda330\",\"#fea12f\",\"#fe9e2e\",\"#fe9b2d\",\"#fe982c\",\"#fd952b\",\"#fd9229\",\"#fd8f28\",\"#fd8c27\",\"#fc8926\",\"#fc8624\",\"#fb8323\",\"#fb8022\",\"#fa7d20\",\"#fa7a1f\",\"#f9771e\",\"#f8741c\",\"#f7711b\",\"#f76e1a\",\"#f66b18\",\"#f56817\",\"#f46516\",\"#f36315\",\"#f26014\",\"#f15d13\",\"#ef5a11\",\"#ee5810\",\"#ed550f\",\"#ec520e\",\"#ea500d\",\"#e94d0d\",\"#e84b0c\",\"#e6490b\",\"#e5460a\",\"#e3440a\",\"#e24209\",\"#e04008\",\"#de3e08\",\"#dd3c07\",\"#db3a07\",\"#d93806\",\"#d73606\",\"#d63405\",\"#d43205\",\"#d23005\",\"#d02f04\",\"#ce2d04\",\"#cb2b03\",\"#c92903\",\"#c72803\",\"#c52602\",\"#c32402\",\"#c02302\",\"#be2102\",\"#bb1f01\",\"#b91e01\",\"#b61c01\",\"#b41b01\",\"#b11901\",\"#ae1801\",\"#ac1601\",\"#a91501\",\"#a61401\",\"#a31201\",\"#a01101\",\"#9d1001\",\"#9a0e01\",\"#970d01\",\"#940c01\",\"#910b01\",\"#8e0a01\",\"#8b0901\",\"#870801\",\"#840701\",\"#810602\",\"#7d0502\",\"#7a0402\"]},\"id\":\"1095\",\"type\":\"LinearColorMapper\"},{\"attributes\":{\"color_mapper\":{\"id\":\"1095\"},\"label_standoff\":14,\"location\":[0,0],\"major_label_policy\":{\"id\":\"1104\"},\"title\":\"Plot\"},\"id\":\"1102\",\"type\":\"ColorBar\"},{\"attributes\":{},\"id\":\"1105\",\"type\":\"Selection\"},{\"attributes\":{},\"id\":\"1082\",\"type\":\"WheelZoomTool\"},{\"attributes\":{\"source\":{\"id\":\"1096\"}},\"id\":\"1101\",\"type\":\"CDSView\"},{\"attributes\":{},\"id\":\"1079\",\"type\":\"LinearScale\"},{\"attributes\":{\"bottom_units\":\"screen\",\"fill_alpha\":0.5,\"fill_color\":\"lightgrey\",\"left_units\":\"screen\",\"level\":\"overlay\",\"line_alpha\":1.0,\"line_color\":\"black\",\"line_dash\":[4,4],\"line_width\":2,\"right_units\":\"screen\",\"syncable\":false,\"top_units\":\"screen\"},\"id\":\"1087\",\"type\":\"BoxAnnotation\"},{\"attributes\":{},\"id\":\"1081\",\"type\":\"PanTool\"},{\"attributes\":{},\"id\":\"1086\",\"type\":\"SaveTool\"},{\"attributes\":{},\"id\":\"1104\",\"type\":\"NoOverlap\"},{\"attributes\":{},\"id\":\"1077\",\"type\":\"LinearScale\"},{\"attributes\":{\"active_multi\":null,\"tools\":[{\"id\":\"1081\"},{\"id\":\"1082\"},{\"id\":\"1083\"},{\"id\":\"1084\"},{\"id\":\"1085\"},{\"id\":\"1086\"}]},\"id\":\"1088\",\"type\":\"Toolbar\"},{\"attributes\":{\"data\":{\"dim1\":{\"__ndarray__\":\"8brKwOvz0sA2LJzB7bpgQQsDRsGx58jBM01LQdskcUHnKrJAVr6mwXfyj0H58sJBOkLxQAejpEB77bnAkFw2v+3CGMJVHrRA98pgQfb2TsIh0VdBXEmswR9EL8HS8CBCYXuVwRdRhsCw/5ZBWVguQSNNy8G0ZJXAKGubwePHjcCDUlHCMfi9v9H1K8IG8kbBEg08QZhkL8LLb7vBNwoKQh14qkBOp1PBO1rywE8PHsL6qk9B3zOtQboOAUHsUJU/0gbcwKSip0ACrsVBFNUwwVbsy8Hmc9tA/Zv7QWD04EFTXapBfwqSQdQM2sEcUEdBCDP9wb6DEUJ536LAAAS1wJuNkUBw6ANC50gKQtnmVMFN7cTBZlBAQL8yrD9lRRTBa26YwdKDPz/xkd3BSCdiQfqwfMDnG/i/rQwdwO5XusEsRUnC78peQYjnyUAqUSXBy7hRwVaAB0GitqXBZc9qQYYg4kBVpS5BaoHnQbevM0LOCBVBlwwBQqckwsEBCDhBIK7eQdpYhUEdekTBBcGgv5D/F0LkKprAHAdSwVJgq0F5ZLDBM0RqQet6MELOqX5BU7GbwUJlikGsyshAuW+0PxFSysAg0PC/UeT/wGTLL0E9R49B5/ucwT+i8D9vRq/Bwv7swSdXgUFmEAxCys22wOdjt0FgfBy/dbqAP/R5tUHh4a5BGkGzQZCr4kFOnuM/lCt/v6sX9EEE5C3BFYwhwc5vr8ARdbNAB6SPQfKZwUGEDJnBFWjgwUBnDkFL9ppAOe4rwWG2p8GQNgNCmmp8wM04XkEW1YDAkaY7wusFwMGwbxPBFA44wgbWuUHJ0UrBE+EvwjhF0sG5a5I/DIYOwLygqcGnHo3Bss/rQQBk5kD0vF9BaR4pwrNOGsHYkC7AfH7TPxmyfEG9tLtBlpARwagiPcF1o+jBZYOGQdB82z84q8NAk7AfwlfotkG5BxRCP0AhQV/XrcHsW2TB0sz7wUt2acDb9LrB3g6vQVpEjcEQHmXAikAZQMeG8EGtnf/Bb9TvP17GJkFEfblB+z+rweSbU8KcYtu+30MnwMbwYMCvY3q/nO1VwhZyQsEKxefBs/QGwXdIr0F9LWhAI0AewXVMhL3iuxZBROLfwHmd7kGTpDHCf00cwjK6msE6KsVBncgqQNwBJUFY/m1BGJwxweu2JMGYtJbBvU/CQAhw5cE8gGhBQoOGQQ9PvUFaVSvAWeiiQWFwpkE2aN7BWHVNwWph7kAHmg5ArmoHwmNRi0HBHpRA0lCRQb8r6kG79GJBpTPfQbXe0sB6GNnB2Lz+QEYpMD8ib6zA92GmQRUPzcASK7c/rn+JQSbqtUGYBRxCZa+IwVDgCcFsg0VAEfOtwPldlcHwkI5BnkTeQfhQmkHh9ZdBMKywwb54AkE229s/iUz5vzcnhT+55BnC8zu3wFBWS0GbLqBB6aw6wamIxMAo8IBBkKIgwTPrkkCfMue/p5ycQdlrMEHV2CzCVNz9Qec+dUJkzUpBpqgPwUBdtEGAIQPAFkKNwbsii8EzSxDCj7sBQumbncE0jYZAkwqWQS57tUEn5YdB+pGswUGVR0HRcrzA10CIwHVTR8DOMn5BEA2QwM/EhcGcd5dBzCcWQh82nsGGHtpA41EBQXReicEMOFZBVeh3wf5aksGFeATCBOLlQOFa2r/QxU7CKjqJQTOTdMExWzNBtGo8wZC8bEDV/jNCZ2ckwP/XlUEibuRBXxcFwl8CcUGCExBCehKeQY/loUH7fmXAqQ8PwaGJ5sEnXwdCE30IQeG9NMJsro9BBPFOQV1HOUKiShVBi0ptQcU1VkFjyqrBpfqowcpbB0GGYwbBcJCBQX6OYMHJR9ZAAKezQTzfKkIGT7hAnwYMQYNs6MEZiyjCtxmkwVFa98GlNKfBrFCswc1D1MELRohBxWQ6wDfIlcH5uRnB63BSweq5UsH+AyBBagkqQaw2dkGZE13BWhKjwQ1oxUCyJwxCC6QyQX3WSsF5Ox3BC/H8QGPqu8FpR2lBeprLwcfD774UBhNBYhj4QbRal0HCcIFBqhzfP/u3psAnx2q+uQ2VQaCZQsECD5vB6oKcQSwzFcL4XCZBnydGQde4L8GfD0nBD623QUjsLkIYEW7BK9jFQHxd3j4lLiFC83+ywK8QAMJgJNy/ww/BwbfgOr91v5DBUEm+wZVcMsL02ArAaE8qwYrKosFItqk/a/WUwaG+Ub+WJ3tB3OitwNGMlMGq2JbB42fxwena8sA8eSdAF1xSQQUgR8GTDbzAlfylwc3nIj/cFDNAfl4gQi//E8J1lhvBqVafQHHmaT+DWerA7FeEwF9NukAfDVC/VtVoQFv3jMEt9t7AFUVMQTvR8cC7FZJBMlD1wb2i3cB/dLFBBUIbwj3zDb/0cINBuCozQORt87+R9InBRVUdQnHxmUFKPka/MyP6Qe0MrEFi9ZpAtBz5wdkOQsFHFUBBHd0bQBXEiD+6fHZBOVIkwk3/pkCQIyBBwzhBQTbhVkG/BlJBLwrgwB401cAU6xFBG+G2wf62C8EzU8RBDye0QXTETEBzve5BDt92QjTHoUE+Zk1BIpRgwOLhscGt+ezATB8JwnjIiMG5VLfA7g2WwaBDpMCx2PXBBTK/QcdUckH8i/zBDvQhQPJl0MG6QYnBE+LowQ9PscEkj+BADpBEQU1qK0JfWP1BPFcTQDy72T+nHxPBmBtNwdGexMAYewtCF2KmQet3GEIYt35B3NKfwWHWq8B6T+k/PcICQR4MQsGtUu5AUML4wXoFHb8o1qVBPhafwB/M+kDL/XxBhJ4awj5RWMEvGL5BMOawQTKHKUIQ/K1BpXIBwr7ol0FTp69BaMMqQRdqzsADdSNBwpX0wfzAKMG3Xw5BriwzwEvNUcE2lGK/q7c7wSYtfUFQKb/AQ8l6vtW+pMGg2KLASBvnPyAv48F2TabBRMLzQZOACUJm2v1BUIOiwfkyEsCSVtvBxqu1vpSnRcIjes3BKlY8QZU6kUFWS0TCQcvxwNOlAsLPkY1BROZqwQPXoUDidbDBmi0mv+Xpl0HStgK/gt4+QuxNwsEvxNVAvuHVQZ8lhcCacPFAxMwuwXHJp0EJ/fa+nDibQePHqsHvnQxBPLN4Qa6L9EGBx5LAgWW/QMUnGEGjxCBBN9GZQWKcDcHgPttBSCnCQctxlMEVgwPBdi8WwsER70Fp/zBB2SXuv8eTjcGK4RpBrJZJwM6AIUJi/1O/5d3nQZdGez60MhlB+xxcQOR+GsIa9LhBiHAAQFAC3kDakAnA+u0AQu9SEsGSY1/BwxWjQeeQp8FfVMhAEJkOQhSH6EC5Tfa//BEIQh/87UFZtobA6k3QwFjHGsI8RCrCBv8kQkSXCcGUVkLBESykwe0D68DU/t1BPJCYwGY2N0LHd1C/cBSYQWBF9MHbq0bBrm0hwg/bs8C61BLCzQPLQfOuAMKbmD7Cg2bYwe/Z7kCImDk/tp5Ywek7U0E3MclB5ynYQMVZxL+5aO/BRpxCwV6KAsGY/cm/uzdHwjYPzkHixwrCLr2+QRKEpkEWakbBas+fwQOcLMKPzh1CfkqDv/UgZsGoSL3BHxE6wXmy0ME+D5g/vWBNQcK2IMFWP77BS73bwGUagcBYhJDBDVCJwHcn50EqGs1Bpdf7QTm7i0GV/PnAqAYRQWqrw8FcnuxAg5ShQYL3DEI2SRvBJ34Wwc664sFzN5BBlMILwkEYtcF15fXBNKQywQT/5j+MHWxBEeBkwe76MsHQsy3BNOC+Qd0Gu8EfPjXBewt1Qhing0EVpZdBqeFbQXIOGkIWUY/BOkPewX1ElMEXGFHB0rEXwbCxhUEmalDBQzc0wePvgsH9UlFB1+m1QOg10MBaBtDBTgT9QavWoz/vZrHB6D2RwAQ8BEGIqBpBYbPRQfgD68DjnOW/FRfxwInHkUElwGVBNcNgv3A6q0CND9JAf8PQQfScJcKmXITBzRRgQBuelEDMr05A+KIHQggAKEGZNovBTVBXQUg3YEFeRh3Bzw3BwW/GMkH65d5BLUptwFrclz9c25xB0PZoQbof6UCGgOrBKwE5QRZaykHtLePBmmCewciDpUHZwuRBTaJVwQvplsBfMZ1BJHL5QekUakG3WtBB0ueeQR7EHEIvmTNAYyn1QaZ//kGoEyrB1s6mwQTWCUJPGgBC1vQHwq0e7MEKrwDCTpQqwbNTpUBBQI/Adbkqv/6JAkFox1VBPTjCv/yaT0FuHQ5BKtrkwSyyAsKF/3HB3nUTQjqZ0kDTqxLCaXnNwSLwlMFb0epASXHkvsXWJ0ILe0zCDkgkwkxcesEupTfAlk86Qe7e+cAfNybCaROxQecQt0EL7ihBWmaBQVxc+cFWTB5BqlSVQFOdYcEuGi5BXmcZQVZMnMHuIk5B9pMAwUtje8BDSqhAPcuYwaFjckIfcqpB/PWhwb/lJ0HuEApAzv0RQkqd+cFWTalBLywYwbcmZUGJfRxCWEO8wXZADEAC9FXAyZ2YQbmpCMGHZgTBNrxAQc0lrEClyLnB0ML7wK9LysA3R6M/SvaqwQHl7EAkPEvBpQirQWpqxMHq4TRCkSeywOlsRUAsCZNBC5OIQcgtNMEHdK3Bmo2vQYK3wcDjGty/3YK+wP2CgcEWozrBhQXdQYshB0KZKDVBCK3ewVSMFUKBrQPB5qZlQY41dUHVCFHB7EjXwa0JjEG3QE7Bnyv8v92IS8JT+L1BoYGVwBO7CEGHMYlBjeGkwVGuFkK8eQTCBBODQbPl3sCrtxFCwYmywXrsd8DVzQBBpO5ZQWfAiUHc6ZRBLLvQP9yeNEEjlIJA1gSNQDcG0EGIJDZB2d2/wYvRj0ECU7s/cwz/QT5whMFBpvRAtHakQdeQFsDAEyFBGpJJQUSONMDFkvBBO5ORwYE7Qz/eWQJCoGNRQXoeIUIQCWFBLz78vZ1jn78nNEJBSFitwZjosEAQT3DBaimFwTpfiECrsXXAu8WpQOcoJMHQvH9B724hwh7yGULi/IHB1/zgQQIX6b8XGPDByp7eQQd150FSpJvBehy/QHUZEkE29q1Buu0SwXwQgUHcbdg/4xS/QdcQP0Ca86pBNPAQwVY75MGUcfNAByWSQa8QKT/sTADCwiwFwSf64EHPRyrBXmS8wGGL70ElbefBnWVMwA+JzEEU/ylB6hrkQNtOAsLRzLtARQvPwRIQ8UGnuBRBnJREQLPDIcJIDrG9BDX3QNrywEBMtjNBYnW/QafsVcIMQOO/IxIFwrAY60EJwYhBtrW1QNcbmT2L4D5CMZ7WwZATR8HSkqjBptCUQeYZRMH8PXPAjVS9wMAsW8GE0ndBACfBwVwYIsKyEAbCnTd3wX+rhkG0ng3BeKkfwrc9J8JycqfBTDsPwbmDeUGtiqdBVcSxwQIUPcAQ7bBAnGvZQXiHgMFJnX0+aY8bQqbLEEKX3a7BMzUMQaSWSkHxKuNBoraUQe6KbMFt5obBKVAXQllZiUFC7KdBR2IVwUkP0MDJGEJBxUjxQIb1oEFV4su/otEEweGTLkHbXD9A5EGiwSzaTkHxqaDBOH6hQZ7D6EEMHy/AVsahwfaLO788BdLAfX2RwcjIrsF95ydALSXMwUlNXD/wRvDA8nRYP2yjMcJIGJ5Bi0NyQnZ8MMEVpJbBm9A7wViJHEFxgGG/Q2zrQUqbVEFsM9/AXwUgwq4F40FXrTNBl0TZwUb1v8EqJuhBDFczQraFiz88oAA/212/QLnIK8Jzkto//y2OwOxkX8HWZlxBjN4gQf0kp8DIMIXAvPjQwefSPMH0y49AvMP9wdX34sEtr8tBkilfQJtb5kCcHUtBP+7aQXtRKUFMkIw/hHibQXEjCMGsQcVB0fyswBkb+MC1/P4/aZtwQTkPEEEC7F5BFvdmP6oEhcFpBzLC\",\"dtype\":\"float32\",\"order\":\"little\",\"shape\":[1107]},\"dim2\":{\"__ndarray__\":\"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\",\"dtype\":\"float32\",\"order\":\"little\",\"shape\":[1107]},\"index\":[0,1,2,3,4,5,6,7,8,9,10,11,12,13,14,15,16,17,18,19,20,21,22,23,24,25,26,27,28,29,30,31,32,33,34,35,36,37,38,39,40,41,42,43,44,45,46,47,48,49,50,51,52,53,54,55,56,57,58,59,60,61,62,63,64,65,66,67,68,69,70,71,72,73,74,75,76,77,78,79,80,81,82,83,84,85,86,87,88,89,90,91,92,93,94,95,96,97,98,99,100,101,102,103,104,105,106,107,108,109,110,111,112,113,114,115,116,117,118,119,120,121,122,123,124,125,126,127,128,129,130,131,132,133,134,135,136,137,138,139,140,141,142,143,144,145,146,147,148,149,150,151,152,153,154,155,156,157,158,159,160,161,162,163,164,165,166,167,168,169,170,171,172,173,174,175,176,177,178,179,180,181,182,183,184,185,186,187,188,189,190,191,192,193,194,195,196,197,198,199,200,201,202,203,204,205,206,207,208,209,210,211,212,213,214,215,216,217,218,219,220,221,222,223,224,225,226,227,228,229,230,231,232,233,234,235,236,237,238,239,240,241,242,243,244,245,246,247,248,249,250,251,252,253,254,255,256,257,258,259,260,261,262,263,264,265,266,267,268,269,270,271,272,273,274,275,276,277,278,279,280,281,282,283,284,285,286,287,288,289,290,291,292,293,294,295,296,297,298,299,300,301,302,303,304,305,306,307,308,309,310,311,312,313,314,315,316,317,318,319,320,321,322,323,324,325,326,327,328,329,330,331,332,333,334,335,336,337,338,339,340,341,342,343,344,345,346,347,348,349,350,351,352,353,354,355,356,357,358,359,360,361,362,363,364,365,366,367,368,369,370,371,372,373,374,375,376,377,378,379,380,381,382,383,384,385,386,387,388,389,390,391,392,393,394,395,396,397,398,399,400,401,402,403,404,405,406,407,408,409,410,411,412,413,414,415,416,417,418,419,420,421,422,423,424,425,426,427,428,429,430,431,432,433,434,435,436,437,438,439,440,441,442,443,444,445,446,447,448,449,450,451,452,453,454,455,456,457,458,459,460,461,462,463,464,465,466,467,468,469,470,471,472,473,474,475,476,477,478,479,480,481,482,483,484,485,486,487,488,489,490,491,492,493,494,495,496,497,498,499,500,501,502,503,504,505,506,507,508,509,510,511,512,513,514,515,516,517,518,519,520,521,522,523,524,525,526,527,528,529,530,531,532,533,534,535,536,537,538,539,540,541,542,543,544,545,546,547,548,549,550,551,552,553,554,555,556,557,558,559,560,561,562,563,564,565,566,567,568,569,570,571,572,573,574,575,576,577,578,579,580,581,582,583,584,585,586,587,588,589,590,591,592,593,594,595,596,597,598,599,600,601,602,603,604,605,606,607,608,609,610,611,612,613,614,615,616,617,618,619,620,621,622,623,624,625,626,627,628,629,630,631,632,633,634,635,636,637,638,639,640,641,642,643,644,645,646,647,648,649,650,651,652,653,654,655,656,657,658,659,660,661,662,663,664,665,666,667,668,669,670,671,672,673,674,675,676,677,678,679,680,681,682,683,684,685,686,687,688,689,690,691,692,693,694,695,696,697,698,699,700,701,702,703,704,705,706,707,708,709,710,711,712,713,714,715,716,717,718,719,720,721,722,723,724,725,726,727,728,729,730,731,732,733,734,735,736,737,738,739,740,741,742,743,744,745,746,747,748,749,750,751,752,753,754,755,756,757,758,759,760,761,762,763,764,765,766,767,768,769,770,771,772,773,774,775,776,777,778,779,780,781,782,783,784,785,786,787,788,789,790,791,792,793,794,795,796,797,798,799,800,801,802,803,804,805,806,807,808,809,810,811,812,813,814,815,816,817,818,819,820,821,822,823,824,825,826,827,828,829,830,831,832,833,834,835,836,837,838,839,840,841,842,843,844,845,846,847,848,849,850,851,852,853,854,855,856,857,858,859,860,861,862,863,864,865,866,867,868,869,870,871,872,873,874,875,876,877,878,879,880,881,882,883,884,885,886,887,888,889,890,891,892,893,894,895,896,897,898,899,900,901,902,903,904,905,906,907,908,909,910,911,912,913,914,915,916,917,918,919,920,921,922,923,924,925,926,927,928,929,930,931,932,933,934,935,936,937,938,939,940,941,942,943,944,945,946,947,948,949,950,951,952,953,954,955,956,957,958,959,960,961,962,963,964,965,966,967,968,969,970,971,972,973,974,975,976,977,978,979,980,981,982,983,984,985,986,987,988,989,990,991,992,993,994,995,996,997,998,999,1000,1001,1002,1003,1004,1005,1006,1007,1008,1009,1010,1011,1012,1013,1014,1015,1016,1017,1018,1019,1020,1021,1022,1023,1024,1025,1026,1027,1028,1029,1030,1031,1032,1033,1034,1035,1036,1037,1038,1039,1040,1041,1042,1043,1044,1045,1046,1047,1048,1049,1050,1051,1052,1053,1054,1055,1056,1057,1058,1059,1060,1061,1062,1063,1064,1065,1066,1067,1068,1069,1070,1071,1072,1073,1074,1075,1076,1077,1078,1079,1080,1081,1082,1083,1084,1085,1086,1087,1088,1089,1090,1091,1092,1093,1094,1095,1096,1097,1098,1099,1100,1101,1102,1103,1104,1105,1106],\"labels\":[0,0,84,82,57,65,77,77,21,42,77,63,74,82,43,70,68,82,77,61,77,49,58,69,85,82,77,82,46,43,46,31,61,74,33,14,82,33,65,69,21,20,70,33,77,75,72,82,0,44,34,48,65,82,63,1,77,77,37,40,38,69,0,74,74,9,2,14,53,82,74,51,25,74,37,21,0,47,82,84,61,75,77,17,48,21,0,75,4,72,9,69,77,9,76,75,63,77,17,43,69,70,0,21,46,32,69,77,46,74,77,73,70,7,70,82,75,49,21,8,35,21,69,43,77,0,70,56,77,34,63,47,74,1,48,0,70,72,77,63,84,49,4,77,0,85,3,43,21,0,33,49,80,33,34,65,33,38,73,47,46,85,9,82,75,33,48,54,0,74,77,43,43,26,75,82,21,80,56,69,82,49,0,26,43,85,6,0,54,73,23,37,77,74,77,0,61,21,74,82,70,79,0,36,70,75,73,0,43,18,43,52,43,10,65,34,21,77,77,51,58,30,82,66,40,72,34,74,56,34,35,80,82,0,68,40,82,21,52,32,1,28,35,77,82,0,77,62,21,75,6,69,0,17,74,43,45,77,34,77,77,0,82,82,43,82,33,70,77,75,0,28,77,43,77,73,72,40,33,52,76,77,51,34,82,25,79,10,2,0,21,56,77,21,84,40,74,73,0,74,24,65,77,69,0,77,82,58,74,85,84,76,82,82,61,77,0,18,0,77,69,7,67,1,37,75,69,75,77,82,57,35,9,74,43,77,77,69,74,77,21,46,85,82,74,75,0,77,63,69,82,74,19,10,46,35,78,84,36,75,21,45,11,20,41,77,21,74,58,0,77,69,72,80,17,72,65,21,53,82,72,3,67,77,82,39,82,75,14,46,77,55,77,77,80,51,75,69,0,82,82,64,0,37,82,35,82,50,85,33,21,0,42,77,30,0,82,43,84,0,37,11,73,82,0,62,84,43,82,69,68,43,21,31,51,43,18,82,82,50,43,21,43,75,5,43,21,33,0,77,13,74,30,64,77,82,23,77,21,38,71,21,21,73,75,80,44,77,74,27,82,0,83,82,46,0,77,77,21,52,76,72,82,70,65,0,35,0,83,85,0,5,6,77,5,82,36,30,35,46,74,21,69,52,73,74,0,17,43,69,77,69,75,0,0,70,77,71,77,36,59,75,82,72,32,10,41,77,75,69,77,5,75,77,82,0,21,38,43,21,82,0,82,0,82,82,59,84,74,21,38,0,60,2,29,65,83,36,82,61,36,77,75,61,43,68,75,0,74,49,73,77,82,76,66,21,63,0,82,51,56,74,21,0,77,77,9,54,82,82,82,56,0,63,6,84,0,55,52,77,43,79,72,74,69,70,1,82,4,82,80,77,47,18,83,3,0,58,56,65,21,69,18,70,69,9,82,0,10,33,69,43,48,65,51,34,24,69,43,75,38,58,80,82,10,63,19,33,49,72,82,51,77,77,77,83,15,0,0,74,61,63,55,77,77,0,78,33,12,73,57,76,0,38,74,21,0,46,43,83,84,73,34,77,63,77,28,77,35,74,75,2,51,43,37,77,35,85,68,58,74,77,58,80,58,56,36,43,76,72,75,75,16,25,49,8,71,58,75,20,58,0,75,82,70,76,9,21,46,82,21,82,9,51,0,70,75,75,21,74,18,1,33,65,82,77,77,69,40,65,75,77,48,65,21,52,0,21,77,21,77,26,82,63,37,0,56,29,58,39,75,9,77,34,56,69,74,52,60,58,65,63,52,68,68,19,80,82,70,31,72,75,43,75,4,66,38,65,12,77,33,65,46,82,31,69,61,33,65,43,77,0,80,34,77,74,74,26,77,47,0,77,4,65,72,43,74,74,84,76,77,84,74,82,69,38,56,58,77,69,85,31,54,77,0,43,74,82,49,0,74,31,46,21,57,21,35,69,28,77,77,32,80,49,72,51,70,54,30,43,63,69,77,37,12,62,77,77,0,35,21,58,73,61,56,24,82,77,85,69,76,21,0,69,65,83,82,82,77,75,82,21,4,77,56,75,65,77,21,52,65,21,72,82,77,75,73,52,85,74,2,27,69,72,73,70,77,0,21,0,0,73,43,74,22,56,80,16,65,34,0,15,34,9,0,82,82,56,82,77,0,34,77,75,57,35,82,67,21,35,57,52,48,70,60,35,70,56,82,77,35,82,38,63,82,4,10,47,74,82,72,6,79,31,5,63,77,74,77,76,49,0,84,56,0,74,70,58,75,49,33,35,46,40,62,80,33,84,0,77,77,49,54,82,29,85,82,12,69,42,21,21,52,77,0,49,69,72,75,0,43,72,74,77,43,11,21,82,85,77,84,77,9,82,78,74,43,46,65,82,66,47,51,0,43,77,76,22,8,48,82,59,52,77,74,80,52,82,15,46,63,69,82,0,82,33,73,0,48,77,77,82,0,36,48,74,37,36,56,13,74,77,77,72,21,75,0,1,28,0,82,77,82,75,82,25,33],\"title\":[\"Learning from the rhetoric of academics using educational technology\",\"Race and assessment practice in South Africa:  understanding black academic experience\",\"Search for magnetic monopoles and stable particles with high electric charges in 8\\u00a0TeV pp collisions with the ATLAS detector\",\"Sleep and BMI in South African urban and rural, high and low-income preschool children\",\"Predicting the long-term impact of antiretroviral therapy scale-up on population incidence of tuberculosis\",\"The Pan-University Network for Global Health: framework for collaboration and review of global health needs\",\"A process evaluation exploring the lay counsellor experience of delivering a task shared psycho-social intervention for perinatal depression in Khayelitsha, South Africa\",\"The secret life of young adolescents living with HIV in northern Mozambique - a mixed methods study\",\"Herbivores shape woody plant communities in theKruger National Park: lessons from three long-termexclosures\",\"Water, Sanitation, and Hygiene Vulnerability among Rural Areas and Small Towns in South Africa: Exploring the Role of Climate Change, Marginalization, and Inequality\",\"Perspectives on the psychological and emotional burden of having gestational diabetes amongst low-income women in Cape Town, South Africa\",\"Quantitative 18F-FDG PET-CT scan characteristics correlate with tuberculosis treatment response\",\"A Comparison of Close-Range Photogrammetry to Terrestrial Laser Scanning for Heritage Documentation\",\"Assessing rates and contextual predictors of 5-year mortality among HIV-infected and HIV-uninfected individuals following HIV testing in Durban, South Africa\",\"The GMRT 150 MHz all-sky radio survey: First alternative data release TGSS ADR1\",\"A review of childhood vestibular disorders\",\"Charles Darwin and John Herschel\",\"Characteristics of perinatal depression in rural central, India: a cross-sectional study\",\"The children\\u2019s nursing workforce in Kenya, Malawi, Uganda, South Africa and Zambia: generating an initial indication of the extent of the workforce and training activity\",\"Society of Lloyd's v Price: Characterization and 'gap' in the Conflict of Laws\",\"Process evaluations of task sharing interventions for perinatal depression in low and middle income countries (LMIC): a systematic review and qualitative meta-synthesis\",\"Crystallization of recombinant Bacteroides fragilis glutamine synthetase (GlnN) isolated using a novel and rapid purification protocol\",\"The influence of Mn on the tensile properties of SSM-HPDC A1-Cu-Mg-Ag alloy A201\",\"RNA-Seq analysis of resistant and susceptible sub-tropical maize lines reveals a role for kauralexins in resistance to grey leaf spot disease, caused by Cercospora zeina\",\"Schools of public health in low and middle-income countries: an imperative investment for improving the health of populations?\",\"Paediatric triage in South Africa\",\"Impact of district mental health care plans on symptom severity and functioning of patients with priority mental health conditions: the Programme for Improving Mental Health Care (PRIME) cohort protocol\",\"Effect of Moringa oleifera Lam. leaf powder on the pharmacokinetics of nevirapine in HIV-infected adults: a one sequence cross-over study\",\"Information content-based gene ontology functional similarity measures: which one to use for a given biological data type?\",\"ISO observations of obscured Asymptotic Giant Branch stars in the Large Magellanic Cloud\",\"Human papillomavirus prevalence, viral load and pre-cancerous lesions of the cervix in women initiating highly active antiretroviral therapy in South Africa: a cross-sectional study\",\"Cooperative Behaviours with Swarm Intelligence in Multirobot Systems for Safety Inspections in Underground Terrains\",\"\\u2018When are complementary goods similar? Waterford Wedgwood PLC v Assembled Investments (Proprietary) Ltd\\u2019\",\"Three decades of research on the greater Agulhas Current\",\"The secondary role of the spirit  purport and objects of the Bill of Rights in the common law's development\",\"Gunshot injuries of the spine\",\"Individual and contextual factors associated with low childhood immunisation coverage in sub-Saharan Africa: a multilevel analysis\",\"Duelling prospecting rights: a non-custodial second?\",\"The importance of identified cause-of-death information being available for public health surveillance, actions and research\",\"An angiotensin I-converting enzyme mutation (Y465D) causes a dramatic increase in blood ACE via accelerated ACE shedding\",\"Conservation and monitoring of invertebrates in terrestrial protected areas\",\"Helsinki by nature: The Nature Step to Respiratory Health\",\"Nutritional management of a complicated surgical patient by means of fistuloclysis\",\"The right to health in international law: Its implications for the obligations of state and non-state actors in ensuring access to essential medicine\",\"South African tobacco smoking cessation clinical practice guideline\",\"Major depressive disorder and its association with adherence to antiretroviral therapy and quality of life: cross-sectional survey of people living with HIV/AIDS in Northwest Ethiopia\",\"N-acetylcysteine for non-paracetamol drug-induced liver injury: a systematic review protocol\",\"Sensory neuropathy and metabolic risk factors in human immune deficiency virus infected South Africans receiving protease inhibitors\",\"The quantitative literacy of South African school-leavers who qualify for higher education\",\"HIV infection is associated with a lower incidence of constriction in presumed tuberculous pericarditis: a prospective observational study\",\"Effect of artemether-lumefantrine policy and improved vector control on malaria burden in KwaZulu-Natal, South Africa\",\"Age-related decrements in cycling and running performance\",\"Meeting report: South African Medical Research Council Standard of Care in Clinical Research in Low- And Middle-Income Settings Summit, November 2017\",\"Prognostic indicators in the World Health Organization\\u2019s algorithm for seriously ill HIV-infected inpatients with suspected tuberculosis\",\"Host-Parasite Arms Races and Rapid Changes in Bird Egg Appearance\",\"Advantages and challenges of microalgae as a source of oil for biodiesel\",\"Knowledge and expectations of labour among primigravid women in the public health sector\",\"\\u2018Opening up the mind\\u2019: problem-solving therapy delivered by female lay health workers to improve access to evidence-based care for depression and other common mental disorders through the Friendship Bench Project in Zimbabwe\",\"Reversion and conversion of Mycobacterium tuberculosis IFN-gamma ELISpot results during anti-tuberculous treatment in HIV-infected children\",\"\\u201cI don\\u2019t know when he will be back\\u201d: life-changing events challenge the community ART Group model\\u2013 a qualitative research study, Tete, Mozambique\",\"\\u201cNot a single white person should be allowed to go under\\u201d: Swartgevaar and the origins of South Africa\\u2019s welfare state, 1924-1929\",\"The progestin-only contraceptive medroxyprogesterone acetate, but not norethisterone acetate, enhances HIV-1 Vpr-mediated apoptosis in human CD4+ T cells through the glucocorticoid receptor\",\"Investigating subscale differences among race and language groups on the Occupational Personality Profile\",\"Observation- and model-based estimates of particulate dry nitrogen deposition to the oceans\",\"Eastern South African hydroclimate over the past 270,000 years\",\"Sputum colour as a marker for bacteria in acute exacerbations of COPD: protocol for a systematic review and meta-analysis\",\"Distribution of high-risk human papillomavirus genotypes among HIV-negative women with and without cervical intraepithelial neoplasia in South Africa\",\"A quantitative analysis of complexity of human pathogen-specific CD4 T cell responses in healthy M. tuberculosis infected South Africans\",\"Unwrapping History at the Cape Town Waterfront\",\"The extent of problematic alcohol and other drug use within selected South African workplaces\",\"A 1000-year carbon isotope rainfall proxy record from South African baobab trees (Adansonia digitata L.)\",\"The impact of the National HIV Health Care Worker Hotline on patient care in South Africa\",\"Responding to COVID-19 threats to trial conduct: lessons learned from a feasibility trial of a psychological intervention for South African adolescents\",\"Ocean currents south of Africa from drifters\",\"Pigeon circoviruses display patterns of recombination, genomic secondary structure and selection similar to those of beak and feather disease viruses\",\"Environmental correlates of geographic divergence in a phenotypic trait: A case study using bat echolocation\",\"The importance and motivational content of money attitudes: South Africans with living standards similar to those in industrialised Western countries\",\"Entry-level students' reading abilities and what these abilities might mean for academic readiness\",\"Smoking, BCG and employment and the risk of tuberculosis infection in HIV-infected persons in South Africa\",\"Measurement of the cross-section of high transverse momentum vector bosons reconstructed as single jets and studies of jet substructure in pp collisions at $sqrt{s}$ = 7 TeV with the ATLAS detector\",\"Fuelling the sustainable development debate in South Africa\",\"Effect of body mass and physical activity volume and intensity on pedometry-measured activity energy expenditure in rural black South Africans in the Limpopo Province\",\"A situation analysis of mental health services and legislation in Ghana: challenges for transformation\",\"An integrated approach of community health worker support for HIV/AIDS and TB care in Angonia district, Mozambique\",\"Preventing musculoskeletal injuries among recreational adult volleyball players: design of a randomised prospective controlled trial\",\"Revised timeline and distribution of the earliest diverged human maternal lineages in southern Africa\",\"Educational investment towards the ideal future: South Africa\\u2019s strategic choices\",\"Effect of standard tuberculosis treatment on plasma cytokine levels in patients with active pulmonary tuberculosis\",\"The construction of a price index for contributions to South African open medical schemes\",\"Haemophagocytic lymphohistiocytosis following culture-proven pneumococcal infective endocarditis of the tricuspid valve\",\"Health-related quality of life and its association with medication adherence in active pulmonary tuberculosis\\u2013 a systematic review of global literature with focus on South Africa\",\"An oral recombinant Salmonella enterica serovar Typhimurium mutant elicits systemic antigen-specific CD8+ T cell cytokine responses in mice\",\"Program assessment of efforts to improve the quality of postpartum counselling in health centers in Morogoro region, Tanzania\",\"A systematic review of experimental methods to manipulate secondary hyperalgesia in humans: protocol\",\"Finding regular simple paths in graph databases\",\"A rapid method for detection of five known mutations associated with aminoglycoside-induced deafness\",\"Addressing an HIV cure in LMIC\",\"Sustainable financing options for mental health care in South Africa: findings from a situation analysis and key informant interviews\",\"HIV-infected infants born to women who tested HIV-negative during pregnancy\",\"Historical light curve and search for previous outbursts of Nova KT\\u00a0Eridani (2009)\",\"Acquired immune responses to three malaria vaccine candidates and their relationship to invasion inhibition in two populations naturally exposed to malaria\",\"Cervical lymph node biopsy - watch the nerves!\",\"The Rise of Emergent Corporate Sustainability: A Self-Organised View\",\"Adipokinetic hormone signaling through the gonadotropin-releasing hormone receptor modulates egg-laying in Caenorhabditis elegans\",\"UCT's admissons policies: Is the playing field level?\",\"De novo variants in CACNA1E found in patients with intellectual disability, developmental regression and social cognition deficit but no seizures\",\"Inducible deletion of CD28 prior to secondary nippostrongylus brasiliensis infection impairs worm expulsion and recall of protective memory CD4 (+) T cell responses\",\"Spare the rod and save the child: Assessing the impact of parenting on child behaviour and mental health\",\"Comparing the accuracy of brief versus long depression screening instruments which have been validated in low and middle income countries: a systematic review\",\"Psoralea margaretiflora (Psoraleeae, Fabaceae): A new species from the Sneeuberg Centre of Floristic Endemism, Eastern Cape, South Africa\",\"Significant improvements in pain after a six-week physiotherapist-led exercise and education intervention, in patients with osteoarthritis awaiting arthroplasty, in South Africa: a randomised controlled trial\",\"The use of the EQ-5D-Y health related quality of life outcome measure in children in the Western Cape, South Africa: psychometric properties, feasibility and usefulness - a longitudinal, analytical study\",\"Anaesthesia for lung volume reduction surgery\",\"The health impacts of extractive industry transnational corporations: a study of Rio Tinto in Australia and Southern Africa\",\"Taking the tension out of portal hypertension\",\"Understanding interventions for improving routine immunization coverage in children in low- and middle-income countries: a systematic review protocol\",\"Detectable HIV-1 in semen in individuals with very low blood viral loads\",\"Structure and Recognition of a Novel HIV-1 gp120-gp41 Interface Antibody that Caused MPER Exposure through Viral Escape\",\"Residency, habitat use and sexual segregation of white sharks, Carcharodon carcharias in False Bay, South Africa\",\"Size, efficiency and local democracy in South Africa: A preliminary assessment\",\"Democratic Civil-Military Relations: A Framework for Analysis\",\"Impacts of a South African coastal golf estate on shrubland bird communities\",\"The differential expression of Kiss1, MMP9 and angiogenic regulators across the feto-maternal interface of healthy human pregnancies: implications for trophoblast invasion and vessel development\",\"Near-infrared spectro-interferometry of Mira variables and comparisons to 1D dynamic model atmospheres and 3D convection simulations\",\"Accuracy and determinants of perceived HIV risk among young women in South Africa\",\"Investigating Affective Response and Job Impact with ERP Adoption\",\"A therapeutic approach to atopic eczema\",\"Tracing the colonization history of the Indian Ocean scops-owls (Strigiformes: Otus) with further insight into the spatio-temporal origin of the Malagasy avifauna\",\"Condom use and sexuality communication with adults: a study among high school students in South Africa and Tanzania\",\"Budesonide/formoterol and formoterol provide similar rapid relief in patients with acute asthma showing refractoriness to salbutamol\",\"Optimal uses of antiretrovirals for prevention in HIV-1 serodiscordant heterosexual couples in South Africa: a modelling study\",\"Conducting a meta-ethnography of qualitative literature: Lessons learnt\",\"Silicate and oxide inclusion characteristics and infra-red absorption analysis of diamonds from the Klipspringer kimberlites, South Africa\",\"An AraC/XylS family transcriptional regulator homologue from Bacteroides fragilis is associated with cell survival following DNA damage\",\"The Use of Sideline Video Review to Facilitate Management Decisions Following Head Trauma in Super Rugby\",\"Postgraduate Palliative care education: Evaluation of a South African Programme\",\"The management of complex pancreatic injuries\",\"Acute glycaemic effects of co-trimoxazole at prophylactic dose in healthy adults\",\"Quality care during labour and birth: a multi-country analysis of health system bottlenecks and potential solutions\",\"Association of human TLR1 and TLR6 deficiency with altered immune responses to BCG vaccination in South African infants\",\"Event-by-event mean pT fluctuations in pp and Pb\\u2013Pb collisions at the LHC\",\"Asparagine 706 and Glutamate 183 at the Catalytic Site of Sarcoplasmic Reticulum Ca 2+ -ATPase Play Critical but Distinct Roles in E 2 States\",\"The role of urine pregnancy testing in facilitating access to antenatal care and abortion services in South Africa: a cross-sectional study\",\"Exploring condom use decision-making among adolescents: the synergistic role of affective and rational processes\",\"Concerns about the South African Mathematical Literacy curriculum arising from experience of materials development\",\"\\u2018Feedback: Where data finally get thrilling\\u2019 \\u2013 tools for facility managers to use data for improved health outcomes in the prevention of mother-to-child transmission of HIV and antiretroviral therapy\",\"Acute psychosocial stress enhances visuospatial in healthy males\",\"Exploring inside-out Doppler tomography: magnetic cataclysmic variables\",\"Why do elephants damage savanna trees?\",\"Relationship and Innovation Orientation in a Business-to-Business Context\",\"Judicial discretion to exclude evidence in terms of s35(5) of the Constitution: S v Hena 2006 2 SACR 33 (SE)\",\"The mechanism of the amidases: mutating the glutamate adjacent to the catalytic triad inactivates the enzyme due to substrate mispositioning\",\"Bayesian inference for radio observations\",\"Negotiating the archive: Amnesty, justice and memory\",\"Ventriculoperitoneal shunt insertion in human immunodeficiency virus infected adults: a systematic review and meta-analysis\",\"Human resource management practices in a medical complex in the Eastern Cape, South Africa: Assessing their impact on the retention of doctors\",\"Transparency and Accountability under the new Company Law\",\"Paying to play - the pricing policies of casinos\",\"Risk factors affecting software projects in South Africa\",\"Categorisation and analysis of explanatory writing in mathematics\",\"Streptococcus pneumoniae Serotypes and Mortality in Adults and Adolescents in South Africa: Analysis of National Surveillance Data, 2003 - 2008\",\"\\\"Broadband\\\" bioinformatics skills transfer with the Knowledge Transfer Programme (KTP): educational model for upliftment and sustainable development\",\"The role of cardiac rehabilitation using exercise to decrease natriuretic peptide levels in non-surgical patients: a systematic review\",\"Effects of amodiaquine and artesunate on sulphadoxine-pyrimethamine pharmacokinetic parameters in children under five in Mali\",\"Diagnostic accuracy of a liquid chromatography-tandem mass spectrometry assay in small hair samples for rifampin-resistant tuberculosis drug concentrations in a routine care setting\",\"The drafters' dilemma: Some comments on the Corporate Laws Amendment Bill, 2006\",\"The impact of physical exercise on convergent and divergent thinking\",\"Role of micronutrients in HIV infection\",\"Occupational therapy hand assessment practices: Cause for concern?\",\"Will water abstraction from the Table Mountain Aquifer threaten endemic species? A case study at Cape Point, Cape Town\",\"Clustering of risk factors for non-communicable disease and healthcare expenditure in employees with private health insurance presenting for health risk appraisal: a cross-sectional study\",\"Type II-P supernovae from the SDSS-II supernova survey and the standardized candle method\",\"Disk mass and disk heating in the spiral galaxy NGC 3223\",\"Differences in access and patient outcomes across antiretroviral treatment clinics in the Free State province: A prospective cohorot study\",\"Adult meningitis in a setting of high HIV and TB prevalence: findings from 4961 suspected cases\",\"Case report: Severe central nervous system manifestations associated with aberrant efavirenz metabolism in children: the role of CYP2B6 genetic variation\",\"Blow me down: A new perspective on Aloe dichotoma mortality from windthrow\",\"DSM-5: a collection of psychiatrist views on the changes, controversies, and future directions\",\"A highly divergent South African geminivirus species illuminates the ancient evolutionary history of this family\",\"Optimization of a multi-well colorimetric assay to determine haem species in Plasmodium falciparum in the presence of anti-malarials\",\"Accuracy of reporting food energy intake: Influence of ethnicity and body weight status in South African women\",\"The quaternary structure of the amidase from Geobacillus pallidus RAPc8 is revealed by its crystal packing\",\"Avoiding frustrations of unprepared students with online quizzes\",\"Toward a global view of alcohol, tobacco, cannabis, and cocaine use: findings from the WHO World Mental Health Surveys\",\"2MASS J0516288+260738: Discovery of the first eclipsing late K + Brown dwarf binary system?\",\"Opening dialogue and fostering collaboration: different ways of knowing in fisheries research\",\"Determining ancestry proportions in complex admixture scenarios in South Africa using a novel proxy ancestry selection method\",\"Addressing dualism in mathematical abstraction: An argument for the role of Construal Level Theory in mathematics education\",\"Risk factors for substance use in pregnant women in South Africa\",\"Content validity and test-retest reliability of a low back pain questionnaire in Zimbabwean adolescents\",\"Outcomes of antiretroviral treatment programmes in rural Lesotho: health centres and hospitals compared\",\"Accelerating Sustainable Development Goals for South African adolescents from high HIV prevalence areas: a longitudinal path analysis\",\"Training Trainers in health and human rights: Implementing curriculum change in South African health sciences institutions\",\"Depositional environments of the lower Permian Dwyka diamictite and Prince Albert shale inferred from the geochemistry of early diagenetic concretions, southwest Karoo Basin, South Africa.\",\"Comparison of an interactive with a didactic educational intervention for improving the evidence-based practice knowledge of occupational therapists in the public health sector in South Africa: a randomised controlled trial\",\"A Work Systems View of Unplanned Business Process Change: The Case of #feesmustfall at a South African University\",\"What's so wrong with Williams vs Evans? An examination of the Concept of the Supposition in Futuro\",\"Targeting of industrial audits for DSM planning\",\"Investigation of the effect of mineralogy as rate-limiting factors in large particle leaching\",\"Case management of malaria: Treatment and chemoprophylaxis\",\"Phaco-emulsification versus manual small-incision cataract surgery in South Africa\",\"Can share capital be reduced other than by way of a buy-back?\",\"From fixing to possibility: changing a learning model for undergraduate students\",\"A review of mathematical programming models of irrigation water values\",\"Endoscopic injection sclerotherapy for bleeding varices in children with intrahepatic and extrahepatic portal venous obstruction: benefit of injection tract embolisation\",\"Association between perceived built environmental attributes and physical activity among adults in South Africa\",\"A systematic review of the psychometric properties of the cross-cultural translations and adaptations of the Multidimensional Perceived Social Support Scale (MSPSS)\",\"\\u2018The place is suffering': enabling dialogue between students' discourses and academic literacy conventions in engineering.\",\"Rings and filaments: The remarkable detached CO shell  of U Antliae\",\"A framework for the informed normalization of printed microarrays\",\"Herschel observations of Hickson compact groups of galaxies: Unveiling the properties of cold dust\",\"A novel candidate HIV vaccine vector based on the replication deficient Capripoxvirus, Lumpy skin disease virus (LSDV)\",\"An estimate of the recreational value of the Agulhas Plain, South Africa, with special reference to the value of plant biodiversity\",\"Justice and legitimacy hindered by uncertainty the legal status of traditional councils in North West Province\",\"The state of our prisons and what this reveals about our society\",\"Treatment-seeking for tuberculosis-suggestive symptoms: a reflection on the role of human agency in the context of universal health coverage in Malawi\",\"Accommodating dynamic oceanographic processes and pelagic biodiversity in marine conservation planning\",\"How experiences become data: the process of eliciting adverse event, medical history and concomitant medication reports in antimalarial and antiretroviral interaction trials\",\"Could cash and good parenting affect child cognitive development? A cross-sectional study in South Africa and Malawi\",\"The utility of a shortened palliative care screening tool to predict death within 12\\u2009months \\u2013 a prospective observational study in two south African hospitals with a high HIV burden\",\"Thermophilic mineral bioleaching performance: A compromise between maximising mineral loading and maximising microbial growth and activity\",\"Synthesis and X-ray structure of a new pyrrolo[1,2-b]-pyridazine derivative\",\"Chronic otorrhoea: Spectrum of microorganisms and antibiotic sensitivity in a South African cohort\",\"Enhancing PMIPv6 for Better Handover Performance among Heterogeneous Wireless Networks in a Micromobility Domain\",\"The HIV epidemic and sexual and reproductive health policy integration: views of South African policymakers\",\"Independent external validation and comparison of prevalent diabetes risk prediction models in a mixed-ancestry population of South Africa\",\"Severe adverse events during second-line tuberculosis treatment in the context of high HIV Co-infection in South Africa: a retrospective cohort study\",\"O- And H-Isotope Study of the Carbon Leader Reef at the Tau Tona and Savuka Mines (Western Deep Levels) South Africa: Implications for the origin and evolution of Witwatersrand Basin Fluids\",\"East African cassava mosaic-like viruses from Africa to Indian ocean islands: molecular diversity, evolutionary history and geographical dissemination of a bipartite begomovirus\",\"Escitalopram in the prevention of posttraumatic stress disorder: a pilot randomized controlled trial\",\"Opportunities and obstacles to cooperation between the BRICS: A view from South Africa\",\"Anomalous coupling of scalars to gauge fields\",\"Decomposition of socioeconomic inequalities in cigarette smoking: the case of Namibia\",\"Rethinking Impact: Applying Altmetrics to Southern African Research\",\"Speculating Ancestor(ie)s: The Cavernous Memory of White Innocence and Fluid Embodiments of Afrofuturist Memory-Work\",\"The challenge of bridging the gap between researchers and policy makers: experiences of a Health Policy Research Group in engaging policy makers to support evidence informed policy making in Nigeria\",\"Should countries implementing an artemisinin-based combination malaria treatment policy also introduce rapid diagnostic tests?\",\"Comparative population genetics of the German shepherd dog in South Africa\",\"RNAseq analysis of heart tissue from mice treated with atenolol and isoproterenol reveals a reciprocal transcriptional response\",\"Exome sequencing identifies novel dysferlin mutation in a family with pauci-symptomatic heterozygous carriers\",\"Mechanisms by which circadian rhythm disruption may lead to cancer\",\"Environmental drivers of coccolithophore abundance and calcification across Drake Passage (Southern Ocean)\",\"Competing coalitions: The politics of renewable energy and fossil fuels in Mexico, South Africa and Thailand\",\"Process evaluation of a brief messaging intervention to improve diabetes treatment adherence in sub-Saharan Africa\",\"The association between a detectable HIV viral load and non-communicable diseases comorbidity in HIV positive adults on antiretroviral therapy in Western Cape, South Africa\",\"An analysis of the impact of pedagogic interventions in first-year academic development and mainstream courses in microeconomics\",\"The developmental effects of HIV and alcohol: a comparison of gestational outcomes among babies from South African communities with high prevalence of HIV and alcohol use\",\"Vine Signal Extraction - an Application of remote sensing in precision Viticulture\",\"Assessing the South African sardine resource: two stocks rather than one?\",\"Efficacy and safety of fluticasone furoate 100\\u00a0\\u03bcg and 200\\u00a0\\u03bcg once daily in the treatment of moderate-severe asthma in adults and adolescents: a 24-week randomised study\",\"Genome-wide association studies of severe P. falciparum malaria susceptibility: progress, pitfalls and prospects\",\"Lipoarabinomannan in urine during tuberculosis treatment: association with host and pathogen factors and mycobacteriuria\",\"The compilation of multilingual concept literacy glossaries at the University of Cape Town: a lexicographical function theoretical approach\",\"An approach for evaluating early and long term mother-to-child transmission of HIV (MTCT) in low and middle income countries: a South African experience\",\"Exploring South Africa\\u2019s southern frontier: A 20-year vision for polar research through the South African National Antarctic Programme\",\"Obscuration effects in super-soft-source X-ray spectra\",\"Mapping right ventricular myocardial mechanics using 3D cine DENSE cardiovascular magnetic resonance\",\"Validation of a brief mental health screening tool for pregnant women in a low socio-economic setting\",\"Antibiotics for the primary prevention of acute rheumatic fever: a meta-analysis\",\"A qualitative analysis of factors influencing HPV vaccine uptake in Soweto, South Africa among adolescents and their caregivers\",\"A descriptive analysis of HIV prevalence, HIV service uptake, and HIV-related risk behaviour among patients attending a mental health clinic in Rural Malawi\",\"What is SAPS 'doing' in Kinshasa? Exploring the dyamics of South-South policing building\",\"Outcome of AIDS-associated cryptococcal meningitis initially treated with 200 mg/day or 400 mg/day of fluconazole\",\"Self-report measurement of pain & symptoms in palliative care patients: a comparison of verbal, visual and hand scoring methods in Sub-Saharan Africa\",\"X-ray pulsations from the region of the supergiant fast X-ray transient IGR J17544\\u22122619\",\"Reduced referral and case fatality rates for severe symptomatic hyperlactataemia in a South African public sector antiretroviral programme: a retrospective observational study\",\"Not too 'Great Expectations': considering the right to health care in prisons and its constitutional implementation\",\"Does sentinel lymph node biopsy have a role in node-positive head and neck squamous carcinoma?\",\"Scrambling for access: availability, accessibility, acceptability and quality of healthcare for lesbian, gay, bisexual and transgender people in South Africa\",\"Amiodarone-induced thyroid dysfunction\",\"The challenge of teaching large classes in higher education in South Africa : a battle to be waged outside the classroom\",\"Nitrogen isotopic evidence for a shift from nitrate- to diazotroph-fueled export production in the VAHINE mesocosm experiments\",\"Methamphetamine use and sexual risk behaviour in Cape Town  South Africa:   A review of data from 8 studies conducted between 2004 and 2007\",\"OPTICAL DISCOVERY OF PROBABLE STELLAR TIDAL DISRUPTION FLARES\",\"Progress of organisational data mining in South Africa\",\"How do children at special schools and their parents perceive their HRQoL compared to children at open schools?\",\"Erratum to: Investigation of the association between the TCF7L2 rs7903146 (C/T) gene polymorphism and obesity in a Cameroonian population: a pilot study\",\"\\u201cI passed the test!\\u201d Evidence of diagnostic misconception in the recruitment of population controls for an H3Africa genomic study in Cape Town, South Africa\",\"Understanding copyright in support of scholarship: some possible challenges to scholars and academic librarians in the digital environment?\",\"Conserved immune recognition hierarchy of mycobacterial PE/PPE proteins during infection in natural hosts\",\"Bekker v Naude: The Supreme Court of Appeal settles the meaning of 'Drafted' in Section 2(3) of the Wills Act, but creates a potential constitutional problem\",\"\\u201cA very humiliating illness\\u201d: a qualitative study of patient-centered Care for Rifampicin-Resistant Tuberculosis in South Africa\",\"Integrating Mental Health into General Health Care: Lessons From HIV\",\"Can point-of-care urine LAM strip testing for tuberculosis add value to clinical decision making in hospitalised HIV-infected persons\",\"Public health implications of changing patterns of recruitment into the South African mining industry, 1973\\u20132012: a database analysis\",\"Setting priorities in health research using the model proposed by the World Health Organization: development of a quantitative methodology using tuberculosis in South Africa as a worked example\",\"A combinatorial interpretation for Schreyer's tetragonal invariants\",\"Gender-Based Violence: examining battered woman syndrome as a criminal defence\",\"Validation of cervical cancer screening methods in HIV positive women from Johannesburg South Africa\",\"Not Mere Lexicographic Cosmetics: The Compilation and Structural Features of Isichazamazwi SezoMculo\",\"A fine-scale assessment of the ecosystem service-disservice dichotomy in the context of urban ecosystems affected by alien plant invasions\",\"Experimental evidence indicating that mastreviruses probably did not co-diverge with their hosts\",\"Social service offices as a point of entry into substance abuse treatment for poor South Africans\",\"Biological survey of the Prince Edward Islands, December 2008\",\"Search for Higgs and Z Boson Decays to \\u03d5 \\u03b3 with the ATLAS Detector\",\"Community-driven citizen science approach to explore cardiovascular disease risk perception, and develop prevention advocacy strategies in sub-Saharan Africa: a programme protocol\",\"Influence of the Madden\\u2013Julian Oscillation on Southern African Summer Rainfall\",\"The psychosis treatment gap and its consequences in rural Ethiopia\",\"Achievement goal profiles, trait-anxiety and state-emotion of young female competitive horse riders\",\"New records and new species of Asclepiadaceae from Namibia\",\"Children need others: Triggers for playfulness in pre-schoolers with multiple disabilities living within an informal settlement\",\"Long-term player development in rugby - how are we doing in South Africa?\",\"Building capacity for antiretroviral delivery in South Africa: A qualitative evaluation of the PALSA PLUS nurse training programme\",\"Proteomic Analysis of Excretory-Secretory Products of Mesocestoides corti Metacestodes Reveals Potential Suppressors of Dendritic Cell Functions\",\"Changing Conceptions of Public \\u2018Management\\u2019 and Public Sector Reform in South Africa\",\"Evaluating a South African mobile application for healthcare professionals to improve diagnosis and notification of pesticide poisonings\",\"Prevalence and etiologies of pulmonary hypertension in Africa: a systematic review and meta-analysis\",\"Purely competitive evolutionary dynamics for games\",\"New species in the section <i>Multinerviae of <i>Cliffortia</i> (Rosaceae)\",\"Dimensions of open research: critical reflections on openness in the ROER4D project\",\"Finite Temperature QCD Sum Rules: a review\",\"Is air pollution a risk factor for rheumatoid arthritis?\",\"Overweight, obesity, underweight and stunting in female primary school learners in rural KwaZulu-Natal, South Africa\",\"Measuring Corruption Risk in the South African Public Service: An Institutional Analysis\",\"Remoteness in contract: Under revision in the House of Lords too?\",\"Reaching the hard to reach: longitudinal investigation of adolescents' attendance at an after-school sexual and reproductive health programme in Western Cape, South Africa\",\"Case Study Focus: Papers and Proceedings\",\"Ensemble-based multi-filter feature selection method for DDoS detection in cloud computing\",\"\\u2018The village of my childhood\\u2019: nostalgia, narrative and landscape in an engineering course in South Africa\",\"Human Rights and Workman's Compensation: The experiences of two injured workers.\",\"Deletion of IL-4 receptor alpha on dendritic cells renders BALB/c mice hypersusceptible to Leishmania major infection\",\"The co-operative model as a means of stakeholder management: an exploratory qualitative analysis\",\"Performance of the Toddler and Infant (TANDI) Health-Related Quality of Life Instrument in 3\\u20134-Year-Old Children\",\"An overview of mechanisms of desiccation tolerance in selected angiosperm resurrection plants\",\"Lipoprotein lipase activity is decreased in a large cohort of patients with coronary artery disease and is associated with changes in lipids and lipoproteins\",\"Clinical utility of a commercial LAM-ELISA assay for TB diagnosis in HIV-infected patients using urine and sputum samples\",\"Induction of ER stress in macrophages of tuberculosis granulomas\",\"Treatment outcomes in HIV-infected adolescents attending a community-based antiretroviral therapy clinic in South Africa\",\"Brief problem-solving therapy for antenatal depressive symptoms in primary care in rural Ethiopia: protocol for a randomised, controlled feasibility trial\",\"South African quantity surveyors: issues of gender and race in the workplace\",\"Monitoring of antiretroviral therapy and mortality in HIV programmes in Malawi, South Africa and Zambia: mathematical modelling study\",\"Multiple targets, mixing strategies: Complicating feminist analysis of contemporary South African women's movements\",\"Quantifying the Collision Dose in Rugby League: A Systematic Review, Meta-analysis, and Critical Analysis\",\"Herders and foragers on Kasteelberg: Interim report of excavations 1999-2002\",\"The value of beadwork for women living with HIV/AIDS\",\"Spousal age difference and associated predictors of intimate partner violence in Nigeria\",\"Reported infant feeding practices and contextual influences on breastfeeding: qualitative interviews with women registered to MomConnect in three South African provinces\",\"Interleukin 4 promotes the development of ex-Foxp3 Th2 cells during immunity to intestinal helminths\",\"An ultrastructural investigation of the surface microbiota present on the leaves and reproductive structures of the resurrection plant Myrothamnus flabellifolia\",\"Alignment between chronic disease policy and practice: case study at a primary care facility\",\"Bird-borne video-cameras show that seabird movement patterns relate to previously unrevealed proximate environment, not prey\",\"Low carbohydrate versus isoenergetic balanced diets for reducing weight and cardiovascular risk: a systematic review and meta-analysis\",\"\\u201cChoice Set\\u201d for health behavior in choice-constrained settings to frame research and inform policy: examples of food consumption, obesity and food security\",\"Management of HIV-associated cryptococcal disease in South Africa\",\"A new approach to the optimal target selection problem\",\"Identification of new drug targets and resistance mechanisms in Mycobacterium tuberculosis\",\"Learning in the academic workplace: the harmonization of the collective and the individual habitus\",\"Knowledge management practices and challenges in international networked NGOs: the case of one world international\",\"The anti-Pseudomonas aeruginosa antibody Panobacumab is efficacious on acute pneumonia in neutropenic mice and has additive effects with meropenem\",\"Filamin a binds to CCR2B and regulates its internalization\",\"Prevalence of bacterial contamination of powdered infant feeds in a hospital enviroment\",\"Sourcing the ore from the Drierivier copper smelting site in central Namibia, using lead isotope fingerprinting\",\"Energy and economic development: Challenges for South Africa\",\"The functional architecture of mother-infant communication, and the development of infant social expressiveness in the first two months\",\"The global epidemiology of syphilis in the past century - a systematic review based on antenatal syphilis prevalence\",\"Writing and teaching the history of unfree labour in Africa and the Indian Ocean in the twenty-first century\",\"The role of inflammation in HPV infection of the Oesophagus\",\"Search for new phenomena in different-flavour high-mass dilepton final states in pp collisions at root s=13Tev with the ATLAS detector\",\"Consumer choice in an energy efficient lighting context\",\"Linkage to HIV care and antiretroviral therapy in Cape Town, South Africa\",\"Power Maximization and Turbulence Intensity Management through Axial Induction-Based Optimization and Efficient Static Turbine Deployment\",\"Dual energy window imaging for optimisation of P/V ratios in VP SPECT\",\"Outcomes for family medicine postgraduate training in South Africa\",\"The ART of rationing - the need for a new approach to rationing health interventions\",\"Cost-effectiveness analysis of the available strategies for diagnosing malaria in outpatient clinics in Zambia\",\"A Qualitative study of language barriers between South African health care providers and cross-border migrants\",\"Roles of spatial scale and rarity on the relationship between butterfly species richness and human density in South Africa\",\"Nomenclature and typification of southern African species of <i>Euphorbia</i>\",\"In vitro anti-plasmodial activity of Dicoma anomala subsp. gerrardii (Asteraceae): identification of its main active constituent, structure-activity relationship studies and gene expression profiling\",\"Issues related to the adoption of e-books in academic libraries: a literature review\",\"The content of delusions in a sample of South African Xhosa people with schizophrenia\",\"p53 requires the stress sensor USF1 to direct appropriate cell fate decision\",\"Sickle cell disease, sickle trait and the risk for venous thromboembolism: a systematic review and meta-analysis\",\"Singularities on the brane are not isotropic\",\"Spatial models for the rational allocation of routinely distributed bed nets to public health facilities in Western Kenya\",\"Cardiovascular risk factors in patients with Addison's disease: a comparative study of South African and Swedish patients\",\"Responsible governance for mental health research in low resource countries\",\"Comparative morphology of the mouthparts of the megadiverse South African monkey beetles (Scarabaeidae: Hopliini): feeding adaptations and guild structure\",\"The problem of orginality and value in the Lady Michaelis gifts to the South African National Gallery\",\"Prerequisites for National Health Insurance in South Africa: Results of a national household survey\",\"Cochleo-vestibular clinical findings among drug resistant Tuberculosis Patients on therapy-a pilot study\",\"Serotonin transporter gene (SLC6A4) polymorphism and susceptibility to a home-visiting maternal-infant attachment intervention delivered by community health workers in South Africa: Reanalysis of a randomized controlled trial\",\"Prevalence and antimicrobial resistance profiles of respiratory microbial flora in African children with HIV-associated chronic lung disease\",\"Factors influencing adherence to dietary guidelines: a qualitative study on the experiences of patients with type 2 diabetes attending a clinic in Cape Town\",\"Integration of TB and ART services fails to improve TB treatment outcomes: Comparison of ART/TB primary healthcare services in Cape Town, South Africa\",\"Embedding open data practice: Developing indicators on the institutionalisation of open data practice in two African governments\",\"Assessment of routine laboratory screening of adult psychiatric patients presenting to an emergency centre in Cape Town\",\"Effectiveness of patient adherence groups as a model of care for stable patients on antiretroviral therapy in Khayelitsha, Cape Town, South Africa\",\"Rugby and cervical spine injuries-has anything changed? A 5-year review in the Western Cape\",\"Hitting a Moving Target: A Model for Malaria Elimination in the Presence of Population Movement\",\"Problem drinking as a risk factor for tuberculosis: a propensity score matched analysis of a national survey\",\"Value-at-risk for the USD/ZAR exchange rate : the variance-gamma model\",\"Making HIV testing work at the point of care in South Africa: a qualitative study of diagnostic practices\",\"A comparative study of an NGO-sponsored CHW programme versus a ministry of health sponsored CHW programme in rural Kenya: a process evaluation\",\"How flat is our Universe really?\",\"Shared decision making and the practice of community translation in presenting a pre-final Afrikaans for the Western Cape Disabilities of the Arm, Shoulder and Hand (DASH) questionnaire: a proposal for improved translation and cross-cultural adaptation\",\"Fifty years of paediatric anaesthesia - newapproaches to an old technique\",\"HIV-1 subtype C transmitted founders modulate dendritic cell inflammatory responses\",\"Assessment at the boundaries: service learning as case study\",\"Strong associations between national prevalence of various STIs suggests sexual network connectivity is a common underpinning risk factor\",\"Inequalities in multimorbidity in South Africa\",\"Characterisation of STEC and other diarrheic E. coli isolated on CHROMagar\\u2122STEC at a tertiary referral hospital, Cape Town\",\"The assessment of complex tasks: a double reading\",\"Tobacco use and nicotine dependence among people living with HIV who drink heavily in South Africa: a cross-sectional baseline study\",\"Spirit(ed) away: preventing foetal alcohol syndrome with motivational interviewing and cognitve behavioural therapy\",\"Developing reproducible bioinformatics analysis workflows for heterogeneous computing environments to support African genomics\",\"Undereporting of acute pesticide poisoning in Tanzania: modelling results from two cross-sectional studies\",\"Deep Ks -near-infrared surface photometry of 80 dwarf irregular galaxies in the local volume\",\"'Thinking like a fish': adaptive strategies for coping with vulnerability and variability emerging from a relational engagement with kob\",\"In search of philosophical justifications and suitable models for the horizontal application of human rights\",\"A review on heat and mass integration techniques for energy and material minimization during CO2 capture\",\"MOOCs, openness and changing educator practices: an Activity Theory case study\",\"Elevation and cholera: an epidemiological spatial analysis of the cholera epidemic in Harare, Zimbabwe, 2008-2009\",\"Building freeways: piloting communication skills in additional languages to health service personnel in Cape Town, South Africa\",\"trans-Bromohydridobis-(triphenylphosphine)platinum(II)\",\"Psychometric properties of the Self-Esteem Questionnaire for South African adolescents\",\"Effects of long-term organophosphate exposures on neurological symptoms, vibration sense and tremor amongst South African farm workers\",\"WISE J233237.05\\u2013505643.5: A DOUBLE-PEAKED, BROAD-LINED ACTIVE GALACTIC NUCLEUS WITH A SPIRAL-SHAPED RADIO MORPHOLOGY\",\"Multiplicity dependence of the average transverse momentum in pp, p\\u2013Pb, and Pb\\u2013Pb collisions at the LHC\",\"The Research Commons: a new creature in the library?\",\"Population level mental distress in rural Ethiopia\",\"Implementing a structured triage system at a community health centre using Kaizen\",\"The influence of power and actor relations on priority setting and resource allocation practices at the hospital level in Kenya: a case study\",\"The epidemiology and clinical correlates of HIV-1 co-receptor tropism in non-subtype B infections from India, Uganda and South Africa\",\"Designing and implementing an information service model for geography teachers in a developing country: the case for Lesotho\",\"Empirical Mode Decomposition on the sphere: application to the spatial scales of surface temperature variations\",\"Z boson production in p + Pb collisions at \\u221asNN = 5.02 TeV measured with the ATLAS detector\",\"The Naini Tal -Cape survey for pulsations in chemically peculiarA-type stars: I. Methods and preliminary results\",\"Disruption of maternal gut microbiota during gestation alters offspring microbiota and immunity\",\"Poxvirus Protein N1L Targets the I-\\u03baB Kinase Complex, Inhibits Signaling to NF-\\u03baB by the Tumor Necrosis Factor Superfamily of Receptors, and Inhibits NF-\\u03baB and IRF3 Signaling by Toll-like Receptors\",\"Clearing the ground: Spurious attacks and genuine issues in the debate about philosophy in a post\\u2010colonial society\",\"NTT and NOT spectroscopy of SDSS-II supernovae\",\"Storm-triggered landslides in the Peruvian Andes and implications for  topography, carbon cycles, and biodiversity\",\"Identification of animal movement patterns using tri-axial magnetometry\",\"Psychiatric emergency service users at Groote Schuur Hospital\",\"The VMC survey: I. strategy and first data\",\"Decision support for selecting a shortlist of electricity-saving options: A modified SMAA approach\",\"Systematic review of antiretroviral-associated lipodystrophy: lipoatrophy, but not central fat gain, is an antiretroviral adverse drug reaction\",\"AGILE: a seamless phase I/IIa platform for the rapid evaluation of candidates for COVID-19 treatment: an update to the structured summary of a study protocol for a randomised platform trial letter\",\"Analytic results for the Tsallis thermodynamic variables\",\"H\\u2009i kinematics, mass distribution and star formation threshold in NGC 6822, using the SKA pathfinder KAT-7\",\"Risk of predation: a critical force driving habitat quality perception and foraging behavior of granivorous birds in a Nigerian forest reserve\",\"DEGREE OF POLARIZATION AND SOURCE COUNTS OF FAINT RADIO SOURCES FROM STACKING POLARIZED INTENSITY\",\"Renal safety of a tenofovir-containing first line regimen: experience from an antiretroviral cohort in rural Lesotho\",\"One step forward, two steps back? The governance of the World Bank Climate Investment Funds\",\"Cosmological performance of SKA H\\u2009i galaxy surveys\",\"Eta Carinae: A South African perspective\",\"Sentencing white-collar offenders: beyond a one dimensional approach\",\"Does belonging matter?  Exploring the role of social connectedness as a critical factor in students' transition to higher education\",\"Perspectives on contraceptive implant use in women living with HIV in Cape Town, South Africa: a qualitative study among primary healthcare providers and stakeholders\",\"Relative hypovolaemia\",\"Equatorial insolation: from precession harmonics to eccentricity frequencies\",\"Inclusion of Hydroxycinnamic Acids in Methylated Cyclodextrins: Host-Guest Interactions and Effects on Guest Thermal Stability\",\"Insects, Rodents, and Pets as Reservoirs, Vectors, and Sentinels of Antimicrobial Resistance\",\"\\u201cWith every passing day I feel like a candle, melting little by little.\\u201d experiences of long-term displacement amongst Syrian refugees in Shatila, Lebanon\",\"Quality of asthma care: Western Cape Province, South Africa\",\"Prevalence of HIV-associated ophthalmic disease among patients enrolling for antiretroviral treatment in India: A cross-sectional study\",\"Predictors of alcohol and other drug use among pregnant women in a peri-urban South African setting\",\"Population Dynamics, Disturbance, and Pattern Evolution: Identifying the Fundamental Scales of Organization in a Model Ecosystem\",\"Securitisation: The Case of Post-9/11 United States Africa Policy\",\"Erratum to: Scaling up strategies of the chronic respiratory disease programme of the European Innovation Partnership on Active and Healthy Ageing (Action Plan B3: Area 5)\",\"Sensory drive mediated by climatic gradients partially explains divergence in acoustic signals in two horseshoe bat species, Rhinolophus swinnyi and Rhinolophus simulator\",\"Updated assessment of the South African kingklip resource including an initial attempt at including  catch-at-length data\",\"How does the EQ-5D-Y Proxy version 1 perform in 3, 4 and 5-year-old children?\",\"A comparison of self-report and antiretroviral detection to inform estimates of antiretroviral therapy coverage, viral load suppression and HIV incidence in Kwazulu-Natal, South Africa\",\"Phenotypes of adults with congenital heart disease around the globe: a cluster analysis\",\"Clinical characteristics and initial management of patients with tuberculous pericarditis in the HIV era: the Investigation of the Management of Pericarditis in Africa (IMPI Africa) registry\",\"Public/community engagement in health research with men who have sex with men in sub-Saharan Africa: challenges and opportunities\",\"Overlap in utilization of juvenile Cape Horse Mackerel by Cape Fur Seals and the purse-seine fishery in Namibia\",\"Defining and conceptualising data harmonisation: a scoping review protocol\",\"Mental health problems and socioeconomic disadvantage: a controlled household study in rural Ethiopia\",\"Customer relationship management: Are software applications aligned with business objectives?\",\"Effects of an electric field on white sharks: in situ testing of an electric deterrent\",\"Efficacy and safety of artemether\\u2013lumefantrine, artesunate\\u2013amodiaquine, and dihydroartemisinin\\u2013piperaquine for the treatment of uncomplicated Plasmodium falciparum malaria in three provinces in Angola, 2017\",\"Prevalence of asthma and allergic rhinitis among adults in Yaounde, Cameroon\",\"Towards understanding the quantitative literacy demands of a first-year medical curriculum\",\"Living with systemic lupus erythematosus in South Africa: a bitter pill to swallow\",\"Hookah pipe smoking among health sciences students\",\"Patterns of distribution and spatial indicators of ecosystem change based on key species in the Southern Benguela\",\"SDT: a virus classification tool based on pairwise sequence alignment and identity calculation\",\"Factors relevant to the assessment of the unfairness or unreasonableness of contract terms: some guidance from the German law on standard contract terms (2015) 26 Stellenbosch Law Review 85-109.\",\"Citizen science charts two major \\u201cstomatotypes\\u201d in the oral microbiome of adolescents and reveals links with habits and drinking water composition\",\"Full-term, peri-urban South African infants under 6 months of age are at risk for early-onset anaemia\",\"New treatments: Costs, benefits and decision-making procedures\",\"'Emerging ecosystems' - a washing-stone for ecologists, economists and sociologists?\",\"How do academics come to know? the structure and contestation of discipline-specific knowledge in a design school\",\"Just admissions: South African universities and the question of racial preference\",\"From borders and landscape to ecosystem: reconfiguring library services to meet the needs of South African youth\",\"Correlating standard penetration test and dynamic probe super heavy penetration resistance values in sandy soils\",\"Open Educational Resources within a Knowledge System for Achieving Quality Education SDG\",\"'Cascading participation' and the role of teachers in a collaborative HIV and Aids curriculum development project\",\"A selective assessment of business opportunities in South Africa under the Clean Development Mechanism\",\"Chromosome 9p21 SNPs associated with multiple disease phenotypes correlate with ANRIL expression\",\"Applying behavioural science to issues of public health in South Africa: The case for social norms intervention\",\"Climate change and developing countries\",\"Systemic delays in the initiation of antiretroviral therapy during pregnancy do not improve outcomes of HIV-positive mothers: a cohort study\",\"Nutritional supplement products: does the label information influence purchasing decisions for the physically active?\",\"Two Crystal Forms of a Hydrated 2:1 \\u03b2-Cyclodextrin Fluconazole Complex: Single Crystal X-ray Structures, Dehydration Profiles, and Conditions for Their Individual Isolation\",\"Gender inequitable masculinity and sexual entitlement in rape perpetration South Africa: findings of a cross-sectional study\",\"Analysing the socioeconomic determinants of hypertension in South Africa: a structural equation modelling approach\",\"Estimation of Above Ground Biomass in Forests Using Alos Palsar Data in Kericho and Aberdare Ranges\",\"Vultures of the seas: hyperacidic stomachs in wandering albatrosses as an adaptation to dispersed food resources, including fishery wastes\",\"Kisspeptin regulation of genes involved in cell invasion and angiogenesis in first trimester human trophoblast cells\",\"PMA: Protein Microarray Analyser, a user-friendly tool for data processing and normalization\",\"The Psychometric properties of the Roland Morris Disability Questionnaire for Patients with Chronic Mechanical Low Back Pain\",\"Maritime Aerosol Network as a component of Aerosol Robotic Network\",\"Formative assessment promotes learning in undergraduate clinical clerkships\",\"The case for Option B and Optional B+: Ensuring that South Africa\\u2019s commitment to eliminating mother-to-child transmission of HIV becomes a reality\",\"Shock-enhanced C+ emission and the detection of H2O from the Stephan\\u2019s Quintet group-wide shock using Herschel\",\"USF-1 is critical for maintaining genome integrity in response to UV-induced DNA photolesions\",\"The developmental effects of HIV and alcohol: a comparison of gestational outcomes among babies from South African communities with high prevalence of HIV and alcohol use\",\"A cross-reactive monoclonal antibody to nematode haemoglobin enhances protective immune responses to Nippostrongylus brasiliensis\",\"A cluster randomized controlled trial of extending ART refill intervals to six-monthly for anti-retroviral adherence clubs\",\"Towards measuring the performance of public libraries\",\"A critical discourse analysis of students' anonymous online postings\",\"Antiviral therapy in herpes virus infections\",\"Setting targets for human resources for eye health in sub-Saharan Africa: what evidence should be used?\",\"Scaling up strategies of the chronic respiratory disease programme of the European Innovation Partnership on Active and Healthy Ageing (Action Plan B3: Area 5)\",\"Gender and sexuality: emerging perspectives from the heterosexual epidemic in South Africa and implications for HIV risk and prevention\",\"Electricity supply industry modeling for multiple objectives under demand growth uncertainty\",\"Factors influencing Open Educational Practices and OER in the Global South: Meta-synthesis of the ROER4D project\",\"Paediatric HIV disclosure in South Africa - caregivers' perspectives on discussing HIV with infected children\",\"Health surveillance of employees on a lead mine, 1979-1989\",\"The clinical and molecular spectrum of galactosemia in patients from the Cape Town region of South Africa\",\"A Founder Mutation in MYO7A Underlies a Significant Proportion of Usher Syndrome in Indigenous South Africans: Implications for the African Diaspora\",\"\\u2018Not Black Enough\\u2019: Changing Expressions of Coloured Identity in Post-Apartheid South Africa\",\"Financing and cost-effectiveness analysis of public-private partnerships: provision of tuberculosis treatment in South Africa\",\"New Pressures, Old Foodways: Governance and Access to Edible Mopane Caterpillars, Imbrasia (=Gonimbrasia) Belina, in the Context of Commercialization and Environmental Change in South Africa\",\"Evaluation of the quality of informed consent in a vaccine field trial in a developing country setting\",\"Differential adaptation of Candida albicans in vivo modulates immune recognition by dectin-1\",\"The efficacy of a blended motivational interviewing and problem solving therapy intervention to reduce substance use among patients presenting for emergency services in South Africa: A randomized controlled trial\",\"A catalogue of galaxies behind the southern Milky Way: II. The Crux and Great Attractor regions ($lapprox$ 289\\u00b0 to 338\\u00b0)\",\"Recall of early non-fatal suicidality in a nationally representative sample of South Africans\",\"Perinatal depressive symptoms among low-income South African women at risk of depression: trajectories and predictors\",\"Coaches\\u2019 perceptions on qualities defining good adolescent rugby players and are important for player recruitment in talent identification programs: the SCRuM project\",\"Open Textbooks and Social Justice: Open Educational Practices to Address Economic, Cultural and Political Injustice at the University of Cape Town\",\"The influence of environmental variables on the presence of white sharks, Carcharodon carcharias at two popular Cape Town bathing beaches: A generalized additive mixed model\",\"South Africa's Strategic Arms Package: A critical Analysis\",\"On the Period-Luminosity-Colour-Metallicity relation and the pulsational characteristics of \\u03bb \\u00a0Bootis type stars\",\"Antarctic climate change: extreme events disrupt plastic phenotypic response in Ad\\u00e9lie penguins\",\"The burden of imported malaria in Gauteng Province\",\"Challenges and potentials for writing centres in South African tertiary institutions\",\"Knowledge of iodine nutrition in the South African adult population\",\"What should history teachers know? assessing history students authentically at the conclusion of the PGCE year\",\"A prospective cohort study on ambient air pollution and respiratory morbidities including childhood asthma in adolescents from the western Cape Province: study protocol\",\"Strengthening the expanded programme on immunization in Africa: looking beyond 2015\",\"OER use in the Global South: A baseline survey of higher education instructors\",\"Search for new phenomena in final states with an energetic jet and large missing transverse momentum in p p collisions at \\u221as=13 TeV using the ATLAS detector\",\"Biodegradability of wastewater and activated sludge organics in anaerobic digestion\",\"Creating larger and better connected protected areas enhances the persistence of big game species in the Maputaland-Pondoland-Albany biodiversity hotspot\",\"Securitisation in South Africa: 2000-2007\",\"A single public service for South Africa: Process and prospects\",\"Carbon and arsenic metabolism in Thiomonas strains: differences revealed diverse adaptation processes\",\"More men than women make mucosal IgA antibodies to Human papillomavirus type 16 (HPV-16) and HPV-18: a study of oral HPV and oral HPV antibodies in a normal healthy population\",\"Jet lag and environmental conditions that may influence exercise performance during the 2010 FIFA World Cup in South Africa\",\"Introducing a national health insurance system in South Africa: A general practitioner\\u2019s bottom-up approach to costing\",\"Restoration of oiled African penguins Spheniscus demersus a decade after the Apollo Sea spill\",\"Riding the tide of biopharming in Africa: Considerations for risk assessment\",\"Epidemiology of pharyngitis as reported by Zambian school children and their families: implications for demand-side interventions to prevent rheumatic heart disease\",\"K V Minister of Safety and Security and the increasingly blurred line between personal and vicarious liability\",\"Demand for healthcare services in Nigeria: a multivariate nested logit model\",\"\\u201cIt\\u2019s a secret between us\\u201d: a qualitative study on children and care-giver experiences of HIV disclosure in Kinshasa, Democratic Republic of Congo\",\"Survival of HIV-infected adolescents on antiretroviral therapy in Uganda: findings from a nationally representative cohort in Uganda\",\"Constitutional application\",\"PHOTOMETRIC ESTIMATES OF REDSHIFTS AND DISTANCE MODULI FOR TYPE Ia SUPERNOVAE\",\"Open access in South Africa: A case study and reflections\",\"The clinical presentation, utilization, and outcome of individuals with sickle cell anaemia presenting to urban emergency department of a tertiary hospital in Tanzania\",\"Curriculum reform in South Africa: more time for what?\",\"Contrasting evolution of sea surface temperature in the Benguela upwelling system under natural and anthropogenic climate forcings: BENGUELA UPWELLING EVOLUTION\",\"A Point Mutation in the Juxtamembrane Stalk of Human Angiotensin I-converting Enzyme Invokes the Action of a Distinct Secretase\",\"Unemployment and reservation wages in working-class Cape Town\",\"Importance of strategic management in the implementation of private medicine retailer programmes: case studies from three districts in Kenya\",\"Paediatric non-infectious uveitis in Cape Town, South Africa: a retrospective review of disease characteristics and outcomes on immunomodulating treatment\",\"Antenatal depressive symptoms and perinatal complications: a prospective study in rural Ethiopia\",\"Spatial information systems in managing public transport information\",\"Marine biodiversity in South Africa: an evaluation of current states of knowledge\",\"Are the effects of isoniaid preventive therapy and highly active antiretroviral therapy additive in preventing HIV-associated tuberculosis\",\"Subjective perceptions of success in top-class tennis players\",\"Prevalence of household food poverty in South Africa: results from a large, nationally representative survey\",\"Forensic medicine in South Africa: associations between medical practice and legal case progression and outcomes in female murders\",\"Recombination hotspots and host susceptibility modulate the adaptive value of recombination during maize streak virus evolution\",\"Estimation of sea-surface temperature around southern Africa from satellite-derived microwave observations\",\"The travelling salesman: A tribute to K Sello Duiker 1974-2005\",\"An integrative approach to psychiatric diagnosis and research\",\"An assessment of organisational values culture and performance in Cape Town's primary healthcare services\",\"Using the Medical Research Council framework for development and evaluation of complex interventions in a low resource setting to develop a theory-based treatment support intervention delivered via SMS text message to improve blood pressure control\",\"The burden of antenatal heart disease in South Africa: a systematic review\",\"Sexual dysfunction: A systematic review of South African research\",\"Tuberculosis preventive therapy: An underutilised strategy to reduce individual risk of TB and contribute to TB control\",\"Quantification of shared air: a social and environmental determinant of airborne disease transmission\",\"Normal reference values for thyroid uptake of technetium-99m pertechnetate for the Namibian population\",\"Human Immunodeficiency Virus? One of nature's greatest evolutionary machines\",\"Chapter 04. Framework to understand postgraduate students' adaption of academics' teaching materials as OER\",\"The HIV-1 transmission bottleneck\",\"Partitioning the heritability of Tourette syndrome and obsessive compulsive disorder reveals differences in genetic architecture\",\"Comparison of chemical freeze-out criteria in heavy-ion collisions\",\"Xhosalising English? Negotiating meaning and identity in economics\",\"Value and small firm premiums in the South African market\",\"Clade C HIV-1 isolates circulating in Southern Africa exhibit a greater frequency of dicysteine motif-containing Tat variants than those in Southeast Asia and cause increased neurovirulence\",\"\\\"A Baby Was an Added Burden\\\": Predictors and consequences of unintended pregnancies for female sex workers in Mombasa, Kenya: a mixed-methods study\",\"Discovery of an eclipsing dwarf nova in the ancient nova shell Te 11\",\"Inequalities for Extreme Zeros of Some Classical Orthogonal and q-orthogonal Polynomials\",\"Inflammatory arthritis in HIV positive patients: A practical guide\",\"Patterns of stress and strain rate in southern Africa\",\"Interference with Hemozoin Formation Represents an Important Mechanism of Schistosomicidal Action of Antimalarial Quinoline Methanols\",\"Technology in nephrology\",\"Magnesium-dependent Association and Folding of Oligonucleosomes Reconstituted with Ubiquitinated H2A\",\"Concurrent sexual partnerships and the HIV epidemics in Africa: evidence to move forward\",\"Protocol for a drugs exposure pregnancy registry for implementation in resource-limited settings\",\"What drives farmers to make top-down or bottom-up adaptation to climate change and fluctuations? A comparative study on 3 cases of apple farming in Japan and South Africa\",\"Patient advocacy and DSM-5\",\"Heavy drinking and contextual risk factors among adults in South Africa: findings from the International Alcohol Control study\",\"People-centred science: strengthening the practice of health policy and systems research\",\"A variational Bayes approach to the analysis of occupancy models\",\"Environmental factors influencing the distribution of Opuntia stricta, an invasive alien plant in the Kruger National Park, South Africa\",\"Paradoxical facilitation of working memory after basolateral amygdala damage\",\"Drawings as Imaginative Expressions of Philosophical Ideas in a Grade 2 South African literacy classroom\",\"The structural characterisation of HWCVD-deposited nanocrystalline silicon films\",\"Genetic variation and recombination of RdRp and HSP 70h genes of Citrus tristeza virus isolates from orange trees showing symptoms of citrus sudden death disease\",\"Antiretroviral treatment and the problem of political will in South Africa\",\"Ranging Behaviour of Verreaux's Eagles during the Pre-Breeding Period Determined through the Use of High Temporal Resolution Tracking\",\"The garlic compound ajoene covalently binds vimentin, disrupts the vimentin network and exerts anti-metastatic activity in cancer cells\",\"Efficient Bayesian analysis of occupancy models with logit link functions\",\"Avoiding allogenic blood transfusions in endoscopic angiofibroma surgery\",\"A MutS\\u03b2-Dependent Contribution of MutS\\u03b1 to Repeat Expansions in Fragile X Premutation Mice?\",\"A review of simulation models for the long-term management of type 2 diabetes in low-and-middle income countries\",\"Impact of a novel molecular TB diagnostic system in patients at high risk of TB mortality in rural South Africa (Uchwepheshe): study protocol for a cluster randomised trial\",\"The balance between excellence and equity on admission test: contributions of experiences in South Africa and Costa Rica\",\"Hope, fear, shame and frustration: Continuity and change in the expression of Coloured Identity in white supremacist South African 1910-1994\",\"South Africa's rape shield: Does section 227 of the Criminal Procedure Act affect an accused's fair trial rights?\",\"IL-4R\\u03b1-independent expression of mannose receptor and Ym1 by macrophages depends on their IL-10 responsiveness\",\"Spectroscopic properties of star-forming host galaxies and type Ia  supernova hubble residuals in a nearly unbiased sample\",\"Photographic measurement of upper-body sitting posture of high school students: A reliability and validity study\",\"A situational analysis of child and adolescent mental health services in Ghana  Uganda  South Africa and Zambia\",\"The epidemiology of tuberculosis in health care workers in South Africa: a systematic review\",\"Comparative performance characteristics of the urine lipoarabinomannan strip test and sputum smear microscopy in hospitalized HIV-infected patients with suspected tuberculosis in Harare, Zimbabwe\",\"Distinguishing the field of educational technology\",\"Deletion of IL-4Ralpha on CD4 T cells renders BALB/c mice resistant to Leishmania major infection\",\"Implications of the HST/FGS parallaxof SS\\u2009Cygnion the disc instability model\",\"The prevalence of hypotension and hypoxaemia in blunt traumatic brain injury in the prehospital setting of Johannesburg, South Africa: A retrospective chart review\",\"Managing Spoilers in a Hybrid War: The Democratic Republic of Congo (1996-2010)\",\"Terpyridyl complexes as antimalarial agents\",\"Access to health care for persons with disabilities in rural South Africa\",\"Congenital rubella: Is it nearly time to take action?\",\"Penal rehabilitation in the jurisprudence of the international criminal tribunal of Rwanda: pardon and commutation of sentence\",\"Quantitative Profiling of Colorectal Cancer-Associated Bacteria Reveals Associations between Fusobacterium spp., Enterotoxigenic Bacteroides fragilis (ETBF) and Clinicopathological Features of Colorectal Cancer\",\"A review of factors affecting the attractiveness of Angola to private equity (PE) investments\",\"Suspension and dissolution of municipal councils under section 139 of the Constitution\",\"Thapsigargin and Dimethyl Sulfoxide Activate Medium P i \\u2194 HOH Oxygen Exchange Catalyzed by Sarcoplasmic Reticulum Ca 2+ -ATPase\",\"The beta-glucan receptor dectin-1 recognizes specific morphologies of Aspergillus fumigatus\",\"Treatment outcomes of treatment-na\\u00efve Hepatitis C patients co-infected with HIV: a systematic review and meta-analysis of observational cohorts\",\"When is a decision problem not a nail?\",\"Childhood trauma in adults with social anxiety disorder and panic disorder: a cross-national study\",\"Effectiveness of early interventions for substance-using adolescents: findings from a systematic review and meta-analysis\",\"Attitudes of primary health care providers towards people with mental illness: evidence from two districts in Zambia\",\"The nutrient status of South African rivers: concentrations, trends and fluxes from the 1970s to 2005\",\"A Proposal to Curb Excessive Executive Remuneration\",\"Designing a course model for distance-based online bioinformatics training in Africa: The H3ABioNet experience\",\"Relationship antecedents that impact on outcomes of strategic stakeholder alliances\",\"Evidence for aeolian origins of heuweltjies from buried gravel layers\",\"The donations tax and estate duty implications of section 56(1)(d) of the Income Tax Act\",\"The neurobiology of HIV dementia: implications for practice in South Africa\",\"Estimating long-term volatility parameters for market-consistent models\",\"Evaluation of a nutrition supplementation programme in the Northern Cape Province of South Africa\",\"Emergence of three general practitioner contracting-in models in South Africa: a qualitative multi-case study\",\"SEAmester \\u2013 South Africa\\u2019s first class afloat\",\"Record review to explore the adequacy of post-operative vital signs monitoring using a local modified early warning score (mews) chart to evaluate outcomes\",\"Digital licence agreements and their effects on acquisitions and academic library users\",\"Cerebrospinal Fluid Cytokine Profiles Predict Risk of Early Mortality and Immune Reconstitution Inflammatory Syndrome in HIV-Associated Cryptococcal Meningitis\",\"Flotation of coal and sulphur from South African ultrafine colliery wastes\",\"Action-based flood forecasting for triggering humanitarian action\",\"The development of an intervention to manage pain in amaXhosa women living with HIV/AIDS\",\"Quantitative Literacy as situated social practice in Higher Education\",\"Less is more: Senwes and the concept of 'margin squeeze' in South African competition law\",\"Improvement in the modelling of geomagnetically induced currents in Southern Africa\",\"Fat mass and obesity associated (FTO) gene influences skeletal muscle phenotypes in non-resistance trained males and elite rugby playing position\",\"Technological literacy reconsidered: a model for enactment\",\"Persistent organic pollutants as risk factors for type 2 diabetes\",\"Evidence for a clumpy, rotating gas disk in a submillimeter galaxy at z = 4\",\"Optimal Energy Management of a Grid-Tied Solar PV-Battery Microgrid: A Reinforcement Learning Approach\",\"Alignment of the ALICE Inner Tracking System with cosmic-ray tracks\",\"North-South cooperation through BIOTA: An interdisciplinary monitoring programme in arid and semi-arid southern Africa\",\"Statin use and all-cause mortality in people living with HIV: a systematic review and meta-analysis\",\"Predicting the social consequences of orphanhood in southern Africa\",\"Investigating the signature of aquatic resource use within Pleistocene hominin dietary adaptations\",\"Strengthening prehospital clinical practice guideline implementation in South Africa: a qualitative case study\",\"Using a two-layered sphere model to investigate the impact of gas vacuoles on the inherent optical properties of <i>M. aeruginosa</i>\",\"Predictors of consent to cell line creation and immortalisation in a South African schizophrenia genomics study\",\"Improving the usability of the hierarchical file system\",\"A dendrochronological assessment of two South African Widdiringtonia species\",\"Sexual behaviour of Cape Townhigh-school students\",\"Transmission of HIV-1 CTL escape variants provides HLA-mismatched recipients with a survival advantage\",\"Efficiency of Buccal DNA sampling device in the mortuary\",\"Dipolar modulation in the size of galaxies: the effect of Doppler magnification\",\"Radiation biology-An important science for an advanced  nuclear nation like South Africa\",\"Community-based care of stroke patients in a rural african setting\",\"Totalitarianism*, (Same-Sex) marriage and democratic politics in post-apartheid South Africa\",\"Building the field of health policy and systems research: an agenda for action\",\"South Africa and the Responsibility to Protect: From champion to sceptic\",\"Effect of high temperature deposition on CoSi 2 phase formation\",\"Return period of extreme rainfall at George, South Africa\",\"Re-recruiting postpartum women living with HIV into a follow-up study in Cape Town, South Africa\",\"Synthesis of triazole-linked 2-trichloromethylquinazolines and exploration of their efficacy against P. falciparum\",\"Null tests of the cosmological constant using supernovae\",\"Investigation of particles with high crack density produced by HPGR and its effect on the redistribution of the particle size fraction in heaps\",\"Phylogenetic Evidence That Two Distinct Trichuris Genotypes Infect both Humans and Non-Human Primates\",\"A note on the statistical analysis of point judgment matrices\",\"The impact of the gas distribution on the determination of dynamical masses of galaxies using unresolved observations\",\"The world is not enough: Knowledge in question\",\"An African perspective on the genetic risk of chronic kidney disease: a systematic review\",\"Utility of CD4 cell counts for early prediction of virological failure during antiretroviral therapy in a resource-limited setting\",\"Medical care of the South African Olympic team: The Sydney 2000 experience\",\"Combinatorial effect of non-steroidal anti-inflammatory drugs and NF-kappaB inhibitors in ovarian cancer therapy\",\"Estimating the risk of declining funding for malaria in Ghana: the case for continued investment in the malaria response\",\"Critical Interaction of Actuator Domain Residues Arginine 174, Isoleucine 188, and Lysine 205 with Modulatory Nucleotide in Sarcoplasmic Reticulum Ca 2+ -ATPase\",\"Video Q&A: Rapid urine LAM test for HIV-associated TB - potential to reduce deaths? An interview with Stephen Lawn\",\"Next-generation ARIA care pathways for rhinitis and asthma: a model for multimorbid chronic diseases\",\"Melamine contamination in nutritional supplements - Is it an alarm bell for the general consumer, athletes, and 'Weekend Warriors'?\",\"Plasma levels of soluble urokinase-type plasminogen activator receptor (suPAR) and early mortality risk among patients enrolling for antiretroviral treatment in South Africa\",\"Priorities for developing countries in the global response to non-communicable diseases\",\"Anatomy of a pressure-induced, ferromagnetic-to-paramagnetic transition in pyrrhotite: Implications for the formation pressure of diamonds\",\"Network diversity structure  closeness and innovation of South African micro-entrepreneurs\",\"Proteinuric kidney disease in children at Queen Elizabeth Central Hospital, Malawi\",\"Adolescent and young pregnant women at increased risk of mother-to-child transmission of HIV and poorer maternal and infant health outcomes: A cohort study at public facilities in the Nelson Mandela Bay Metropolitan district, Eastern Cape, South Africa\",\"Carcinoid heart disease: Two clinical cases and a review\",\"Actively coupled optical waveguides\",\"ROB-MEN: a tool to assess risk of bias due to missing evidence in network meta-analysis\",\"Consistent phenological shifts in the making of a biodiversity hotspot: the Cape flora\",\"Prevalence and risk factors of overweight and obesity among children aged 6\\u201359 months in Cameroon: a multistage, stratified cluster sampling nationwide survey\",\"Human papillomavirus vaccine introduction in low-income and middle-income countries: guidance on the use of cost-effectiveness models\",\"Phenotypic convergence in genetically distinct lineages of a Rhinolophus species complex (Mammalia, Chiroptera)\",\"Decreasing household contribution to TB transmission with age: a retrospective geographic analysis of young people in a South African township\",\"Early warning scoring systems versus standard observations charts for wards in South Africa: a cluster randomized controlled trial\",\"The epidemiology of tuberculosis in health care workers in South Africa: a systematic review\",\"Bridging distance between actual and potential development: a case of using ICT mediated consultation tool\",\"Video-assisted Thoracoscopic pericardial window for penetrating cardiac trauma\",\"A blinded evaluation of the efficacy and safety of glycopyrronium, a once-daily long-acting muscarinic antagonist, versus tiotropium, in patients with COPD: the GLOW5 study\",\"Predictors of discordant latent tuberculosis infection test results amongst South African health care workers\",\"Optimization of biogas supply networks considering multiple objectives and auction trading prices of electricity\",\"Is the southern Benguela a significantregional sink of CO2?\",\"Flexible modelling of risk factors on the incidence of pneumonia in young children in South Africa using piece-wise exponential additive mixed modelling\",\"Genetics of Peripartum Cardiomyopathy: Current Knowledge, Future Directions and Clinical Implications\",\"The requirement of excusable mistake in the context of the condictio indebiti: Scottish and South African law compared\",\"A cleaner production assessment of the ultra-fine coal waste generated in South Africa\",\"Gut microbiota, short chain fatty acids, and obesity across the epidemiologic transition: the METS-Microbiome study protocol\",\"Women\\u2019s sexual scripting in the context of universal access to antiretroviral treatment\\u2014findings from the HPTN 071 (PopART) trial in South Africa\",\"Under-vaccinated groups in Europe and their beliefs, attitudes and reasons for non-vaccination; two systematic reviews\",\"Influence of Tumour Necrosis Factor Alpha on the Outcome of Ischaemic Postconditioning in the Presence of Obesity and Diabetes\",\"Participants\\u2019 perspectives of weekly telephonic mood monitoring in South Africa: a feasibility study\",\"Prison Reforms in Mozambique Fail to Touch the Ground: Accessing the Experience of Pre-trial Detainees in Maputo\",\"The failure of routine rapid HIV testing: a case study of improving low sensitivity in the field\",\"Integrating HIV care into nurse-led primary health care services in South Africa: a synthesis of three linked qualitative studies\",\"Short-latency afferent inhibition during selective finger movement\",\"Potential risks and solutions for sharing genome summary data from African populations\",\"Avian malaria prevalence and mosquito abundance in the Western Cape, South Africa\",\"Projection of gene-protein networks to the functional space of the proteome and its application to analysis of organism complexity\",\"Doing  being and becoming a first year occupational therapy student\",\"Pretesting the likely efficacy of suggested management approaches to data-poor fisheries\",\"Brief psychotherapy administered by non-specialised health workers to address risky substance use in patients with multidrug-resistant tuberculosis: a feasibility and acceptability study\",\"Sex-based differences in Ad\\u00e9lie Penguin (Pygoscelis adeliae) chick growth rates and diet\",\"Setting priorities for mental health care in Nepal: a formative study\",\"Sexual conflict predicts morphology and behavior in two species of penduline tits\",\"HIV-1 subtype C mosaic Gag expressed by BCG and MVA elicits persistent effector t cell responses in a prime-boost regimen in mice\",\"Proteogenomic analysis of mycobacterium smegmatis using high resolution mass spectrometry\",\"AI4R2R (AI for Rock to Revenue): A Review of the Applications of AI in Mineral Processing\",\"Observations and Conclusions of Dynamics Students\\u2019 Mathematical Fluency\",\"Patterns of recombination in HIV-1M are influenced by selection disfavouring the survival of recombinants with disrupted genomic RNA and protein structures\",\"Advancing the global physical activity agenda: recommendations for future research by the 2020 WHO physical activity and sedentary behavior guidelines development group\",\"On the nucleation of PdSi and NiSi 2 during the ternary Ni(Pd)/Si(100) reaction\",\"South Africa\",\"Where do HIV-infected adolescents go after transfer? \\u2013 Tracking transition/transfer of HIV-infected adolescents using linkage of cohort data to a health information system platform\",\"Children in reviews: Methodological issues in child-relevant evidence syntheses\",\"Post-traumatic stress disorder in children exposed to violence\",\"Varicella zoster virus-associated morbidity and mortality in Africa \\u2013 a systematic review\",\"Appearances can be deceptive: revealing a hidden viral infection with deep sequencing in a plant quarantine context\",\"Retinoic acid-independent expression of Meis2 during autopod patterning in the developing bat and mouse limb\",\"Interaction of Agulhas filaments with mesoscale turbulence: a case study\",\"Accumulation of splice variants and transcripts in response to PI3K inhibition in T cells\",\"Increase on the initial soluble heme levels in acidic conditions is an important mechanism for spontaneous heme crystallization in vitro\",\"The effect of a copper sulphate addition on the recovery of chromite in the flotation of UG2 Ore\",\"Out of Harm's Way? Tracking child abuse cases through the child protection system at five selected sites in South Africa - Research Report\",\"Toward identifying reproducible brain signatures of obsessive-compulsive profiles: rationale and methods for a new global initiative\",\"GenGraph: a python module for the simple generation and manipulation of genome graphs\",\"In a Country where You couldn't Make this Shit up?: Literary Non-Fiction in South Africa\",\"South Africa: Democracy without the people\",\"A review of factors affecting the attractiveness of Angola to private equity (PE) investments\",\"Why Are There Agulhas Rings?\",\"Laboratory-acquired infections of Salmonella enterica serotype Typhi in South Africa: phenotypic and genotypic analysis of isolates\",\"Is total glossectomy for advanced carcinoma of the tongue justified?\",\"Influence of the child\\u2019s perceived general health on the primary caregiver\\u2019s health status\",\"Anaesthesia and familial dysautonomia with congenital insensitivity to pain\",\"Plasma vitamin A and zinc levels in HIV-infected adults in Cape Town, South Africa\",\"Irradiated accretion discs in post novae\",\"Diagnosing tuberculosis in hospitalized HIV-infected individuals who cannot produce sputum: is urine lipoarabinomannan testing the answer?\",\"Accuracy of gestational age estimation from last menstrual period among women seeking abortion in South Africa, with a view to task sharing: a mixed methods study\",\"Distributed mobility management with mobile Host Identity Protocol proxy\",\"A century worth celebrating\",\"Agents of restorative justice? Probation officers in the child justice system\",\"Patients with tuberculosis disease have Mycobacterium tuberculosis-specific CD8 T cells with a pro-apoptotic phenotype and impaired proliferative capacity, which is not restored following treatment\",\"Researching HIV/AIDS and education in sub-Saharan Africa: Examining the gaps and challenges\",\"HIV Preventive research and minors\",\"South Africa & Zimbabwe: Silencing Critical Voices\",\"Treatment Contact Coverage for Probable Depressive and Probable Alcohol Use Disorders in Four Low- and Middle-Income Country Districts: The PRIME Cross-Sectional Community Surveys\",\"Recommendations for amniocentesis in HIV-positive women\",\"Quality of life among patients receiving palliative care in South Africa and Uganda: a multi-centred study\",\"IL-4 receptor-alpha-dependent control of Cryptococcus neoformans in the early phase of pulmonary infection\",\"Unjustified Enrichment\",\"Post-Commencement Finance - Domiciled Resident or Uneasy Foreign Transplant?\",\"A developmental approach to dealing with young offenders: An imperative for probation practice and policy framework\",\"HD 12098 -A new northern hemisphere roAp star\",\"Fostering evidence-based practice in community-based rehabilitation: strategies for implementation\",\"The Roles of Higher Education in the Democratization of Politics in Africa: Survey Reports from HERANA\",\"Comparison of life history strategy measures\",\"Efficacy in asthma of once-daily treatment with fluticasone furoate: a randomized, placebo-controlled trial\",\"Reducing substance use and sexual risk behaviour among men who have sex with men in South Africa\",\"Biological control in the management of invasive alien plants in South Africa, and the role of the Working for Water programme\",\"Vegetative morphology and interfire survival strategies in the Cape  Fynbos grasses\",\"Estimating aerodynamic roughness over complex surface terrain\",\"The complexity of rural contexts experienced by community disability workers in three southern African countries\",\"Using qualitative evidence in decision making for health and social interventions: an approach to assess confidence in findings from qualitative evidence syntheses (GRADE-CERQual)\",\"Strengthening post-graduate educational capacity for health policy and systems research and analysis: the strategy of the Consortium for Health Policy and Systems Analysis in Africa\",\"An evaluation of health systems equity in Indonesia: study protocol\",\"Influences on participant reporting in the World Health Organisation drugs exposure pregnancy registry; a qualitative study\",\"Sustainability of electricity supply and climate change in South Africa\",\"TSC-associated neuropsychiatric disorders (TAND): findings from the TOSCA natural history study\",\"HALOGAS: Extraplanar gas in NGC 3198\",\"Monitoring the oceanic flow between Africa and Antarctica: Report of the first GoodHope cruise\",\"Investigating Dunedin whistlers using volcanic lightning\",\"Electromagnetic proton form factors in large Nc QCD\",\"Activity theory as a potential framework for technology research in an unequal terrain\",\"Delivering HIV services in partnership: factors affecting collaborative working in a South African HIV programme\",\"Determination of the ratio of b-quark fragmentation fractions fs/ fd in pp collisions at \\u221as = 7 TeV with the ATLAS detector\",\"Temporal variation of cephalods in the diet of Cape fur seals in Namibia\",\"Effect of malaria on productivity in a workplace: the case of a banana plantation in Zimbabwe\",\"A post-gene silencing bioinformatics protocol for plant-defence gene validation and underlying process identification: case study of the Arabidopsis thaliana NPR1\",\"Military intervention in Africa\\u2019s conflicts as a route to peace: Strengths and pitfalls\",\"The influence of secondary structure, selection and recombination on rubella virus nucleotide substitution rate estimates\",\"MRI and gravimetric studies of hydrology in drip irrigated heaps and its effect on the propagation of bioleaching microorganisms\",\"Evidence map of knowledge translation strategies, outcomes, facilitators and barriers in African health systems\",\"Immune responses to the enduring hypoxic response antigen Rv0188 are preferentially detected in Mycobacterium bovis infected cattle with low pathology\",\"Guidance for evidence-informed policies about health systems: Linking guidance development to policy development\",\"The skin microbiome: impact of modern environments on skin ecology, barrier integrity, and systemic immune programming\",\"Excoriation (skin-picking) disorder: a systematic review of treatment options\",\"The profile of people reporting with low back pain to a resource poor clinic in Cape Town\",\"e/merging across Africa: five papers on the use of educational technology in African Higher Education\",\"HI observations of two new dwarf galaxies: Pisces A and B with the SKA Pathfinder KAT-7\",\"Identity and distribution of southern African sciaenid fish species of the genus Umbrina\",\"Safety and tolerability of single low-dose primaquine in a low-intensity transmission area in South Africa: an open-label, randomized controlled trial\",\"Desensitization of Gonadotropin-releasing Hormone Action in \\u03b1T3-1 Cells Due to Uncoupling of Inositol 1,4,5-Trisphosphate Generation and Ca 2+ Mobilization\",\"Mathematical Literacy of Students in First Year of Medical School at a South African University\",\"Empirical methods for the estimation of Southern Ocean CO<sub>2</sub>: support vector and random forest regression\",\"Effect of cell permeability and dehydrogenase expression on octane activation by CYP153A6-based whole cell Escherichia coli catalysts\",\"Outcomes for efavirenz versus nevirapine-containing regimens for treatment of HIV-1 infection: a systematic review and meta-analysis\",\"Are Namibian \\\"fairy circles\\\" the consequence of self-organizing spatial vegetation patterning\",\"Towards malaria elimination in Mpumalanga, South Africa: a population-level mathematical modelling approach\",\"Managing collections of human remains in South African museums and universities: Ethical policy-making and scientific value\",\"Opening the library catalogue up to the Web: a view from South Africa\",\"Nippostrongylus-induced intestinal hypercontractility requires IL-4 receptor alpha-responsiveness by T cells in mice\",\"Towards accounting for dissolved iron speciation in global ocean models\",\"Organisational culture and trust as influences over the implementation of equity-oriented policy in two South African case study hospitals\",\"Gender differences in homicide of neonates, infants, and children under 5 y in South Africa: results from the cross-sectional 2009 National Child Homicide Study\",\"Chromosome 16q22 variants in a region associated with cardiovascular phenotypes correlate with ZFHX3 expression in a transcript-specific manner\",\"A (giant) void is not mandatory to explain away dark energy with a Lema\\u00eetre-Tolman model\",\"The Functional Microdomain in Transmembrane Helices 2 and 7 Regulates Expression, Activation, and Coupling Pathways of the Gonadotropin-releasing Hormone Receptor\",\"Lesion-specific immune response in granulomas of patients with pulmonary tuberculosis: a pilot study\",\"Do urologists and gynaecologists manage posterior compartment prolapse differently?\",\"Presbyastasis: a multifactorial cause of balance problems in the elderly\",\"Knee osteoarthritis in professional football is related to severe knee injury and knee surgery\",\"Synthesis, crystal structure and hydroformylation activity of triphenylphosphite modified cobalt catalysts\",\"Constraining AGN triggering mechanisms through the clustering analysis of active black holes\",\"Optimizing 16S rRNA gene profile analysis from low biomass nasopharyngeal and induced sputum specimens\",\"Heterozygosity for a hypomorphic pol\\u03b2 mutation reduces the expansion frequency in a mouse model of the fragile x-related disorders\",\"\\u201cThe care is the best you can give at the time\\u201d: Health care professionals\\u2019 experiences in providing gender affirming care in South Africa\",\"HIV viral load as an independent risk factor for tuberculosis in South Africa: collaborative analysis of cohort studies\",\"Impaired CD4 T cell memory response to Streptococcus pneumoniae precedes CD4 T cell depletion in HIV-infected Malawian adults\",\"Phase distribution identification in the column leaching of low grade ores using MRI\",\"Assessing post-traumatic stress disorder in South African adolescents: using the child and adolescent trauma survey (CATS) as a screening tool\",\"Towards universal health coverage: a mixed-method study mapping the development of the faith-based non-profit sector in the Ghanaian health system\",\"Red socks and purple rain: the political uses of colour in late apartheid South Africa\",\"Psychiatric Contributions from South Africa: Ex Africa Semper Aliquid Novi\",\"A decision-making framework for restoring riparian zones degraded by invasive alien plants in South Africa\",\"In situ study of the growth properties of Ni-rare earth silicides for interlayer and alloy systems on Si(100)\",\"Statistics for electronic resources\",\"A warning to everyone who deals with a trust\",\"Extensive purifying selection acting on synonymous sites in HIV-1 Group M sequences\",\"The international visibility of South African IS research : an author-affiliation analysis in the top-ranked IS-Centric journals\",\"Cardiovascular risk status of Afro-origin populations across the spectrum of economic development: findings from the Modeling the Epidemiologic Transition Study\",\"Infant feeding knowledge, perceptions and practices among women with and without HIV in Johannesburg, South Africa: a survey in healthcare facilities\",\"Improving communication: the key to more effective MSE processes\",\"The arabidopsis cyclic nucleotide interactome\",\"Is air pollution a risk factor for rheumatoid arthritis?\",\"Drivers of bird species richness within moist high-altitude grasslands in eastern South Africa\",\"Judging essays: the challenge of interpretation\",\"Inhibition of corticosteroid-binding globulin gene expression by glucocorticoids involves C/EBP\\u03b2\",\"Bridging the health inequality gap: an examination of South Africa\\u2019s social innovation in health landscape\",\"Physical Crust Formation on Sandy Soils and Their Potential to Reduce Dust Emissions from Croplands\",\"The natural history of latent rheumatic heart disease in a 5\\u00a0year follow-up study: a prospective observational study\",\"The South African stroke risk in general practice study\",\"Moving towards universal health coverage for mental disorders in Ethiopia\",\"Comparison of vilanterol, a novel long-acting beta2 agonist, with placebo and a salmeterol reference arm in asthma uncontrolled by inhaled corticosteroids\",\"Asking the right questions: developing evidence-based strategies for treating HIV in women and children\",\"Density of key-species determines efficiency of macroalgae detritus uptake by intertidal benthic communities\",\"A questionnaire for assessing breastfeeding intentions and practices in Nigeria: validity, reliability and translation\",\"Carework and caring: A path to gender equitable practices among men in South Africa?\",\"Differences in genotype and virulence among four multidrug-resistant Streptococcus pneumoniae isolates belonging to the PMEN1 clone\",\"Assessment at antiretroviral clinics during TB treatment reduces loss to follow-up among HIV-infected patients\",\"Enforcement and effectiveness of consumer law in South Africa\",\"Alcohol use in a rural district in Uganda: findings from community-based and facility-based cross-sectional studies\",\"Modeling a regime shift in a kelp-forest ecosystem caused by a lobster range expansion\",\"Computational selection and prioritization of candidate genes for Fetal Alcohol Syndrome\",\"Implementation principles - turning intentions into outcomes\",\"The ecological and geographic context of morphological and genetic divergence in an understorey-dwelling bird\",\"The co-inheritance of alpha-thalassemia and sickle cell anemia is associated with better hematological indices and lower consultations rate in Cameroonian patients and could improve their survival\",\"Prevention and treatment of cardiovascular instability during spinal anaesthesia for Caesarean section\",\"Perceptions related to breastfeeding and the early introduction of complementary foods amongst migrants in Cape Town, South Africa\",\"Hepatitis C in HIV-infected individuals: a systematic review and meta-analysis of estimated prevalence in Africa\",\"Developing the African national health research systems barometer\",\"The porcine circovirus type 1 capsid gene promoter improves antigen expression and immunogenicity in a HIV-1 plasmid vaccine\",\"Feedback: The educational process of giving and receiving\",\"Ocean currents south of Africa from drifters\",\"Clinical validation of the HPVIR high-risk HPV test on cervical samples according to the international guidelines for human papillomavirus DNA test requirements for cervical cancer screening\",\"\\u201cCommunicate to vaccinate\\u201d: the development of a taxonomy of communication interventions to improve routine childhood vaccination\",\"Multiple helminth infection of the skin causes lymphocyte hypo-responsiveness mediated by Th2 conditioning of dermal myeloid cells\",\"Genotype-based personalised nutrition for obesity prevention and treatment: are we there yet?\",\"Social networks and ethnic niches:  an econometric analysis of the maufacturing sector in South Africa\",\"Anaesthesia and Charcot-Marie-Tooth Disease\",\"Demand and access to mental health services: a qualitative formative study in Nepal\",\"Politics\\u2013administration interface: The case of the city of Cape Town\",\"A step-by-step framework to assess benefits of established temperate marine protected areas\",\"How sociable? An exploratory study of university brand visibility in social media\",\"Operational research (ers) in development: Growing a new generation of operational researchers\",\"Development of a four-item physical activity index from information about subsistence living in rural African women: a descriptive, cross-sectional investigation\",\"Hubble Space Telescope and Optical Observations of Three Pulsating Accreting White Dwarfs in Cataclysmic Variables\",\"Differential interferometry techniques on l-band data employed for the monitoring of surface subsidence due to mining\",\"Rationale and design of the African group A streptococcal infection registry: the AFROStrep study\",\"Whole genome phylogenetic investigation of a West Nile virus strain isolated from a tick sampled from livestock in north eastern Kenya\",\"Access to health care for persons with disabilities in rural South Africa\",\"Adenosine Deaminase Acting on RNA-1 (ADAR1) Inhibits HIV-1 Replication in Human Alveolar Macrophages\",\"Racial discrimination: experiences of black medical school alumni at the University of Cape Town  1945-1994\",\"Nevirapine and efavirenz elicit different changes in lipid profiles in antiretroviral-therapy-naive patients infected with HIV-1\",\"The relationship between leader emotional intelligence and psychological climate: An exploratory study\",\"A 'quality revolution' constrained?  A critical reflection on quality assurance methodology from the South African higher education context\",\"Adherence to isoniazid prophylaxis among HIV-infected children: a randomized controlled trial comparing two dosing schedules\",\"Point-of-care ultrasound induced changes in management of unselected patients in the emergency department - a prospective single-blinded observational trial\",\"The metalexicographical contribution of Pedro A. Fuertes-Olivera and Ascension Arribas-Bano's pedagogical specialised lexicography: a critical review\",\"Who Governs Public Health? Donor Retreat and the Shifting Spheres of Influence in Southern African HIV/AIDS Policy Making\",\"Regional clinical registry data show increased incidence of cutaneous melanoma in Cape Town\",\"Genetic variability among complete human respiratory syncytial virus subgroup A genomes: bridging molecular evolutionary dynamics and epidemiology\",\"Real-time investigation of tuberculosis transmission: developing the Respiratory Aerosol Sampling Chamber (RASC)\",\"Using respondent-driven sampling (RDS) to recruit illegal poly-substance users in Cape Town, South Africa: implications and future directions\",\"Exploring the Impact of Computer-Mediated Communication on Interpersonal Relationships: A Tentative Model Using Characteristics and Behavioural Outcomes\",\"Bacterial loads measured by the Xpert MTB/RIF assay as markers of culture conversion and bacteriological cure in pulmonary TB\",\"Researching transformation at a South African university - ethical dilemmas in the politics of representation\",\"Management of community-acquired pneumonia in adults\",\"Antiretroviral treatment for children\",\"The quest for healing in South Africa's age of AIDS\",\"Azithromycin versus placebo for the treatment of HIV-associated chronic lung disease in children and adolescents (BREATHE trial): study protocol for a randomised controlled trial\",\"The Nainital-Cape Survey: IV. A search for pulsational variability in 108 chemically peculiar stars\\u22c6\",\"Can the wide range of resource behaviours evident across the ABFT MSE interim grid of OMS be \\u201ctamed\\u201d by the feedback control provided by a CMP?\",\"The Gap Between Constitutional Text and Social Practice: The Role of the Press\",\"Regional differences in prevalence of HIV-1 discordance in Africa and enrollment of HIV-1 discordant couples into an HIV-1 prevention trial\",\"Scoring protein relationships in functional interaction networks predicted from sequence data\",\"Motor learning: an analysis of 100 trials of a ski slalom game in children with and without developmental coordination disorder\",\"The role of cervical collars and verbal instructions in minimising spinal movement during self-extrication following a motor vehicle collision - a biomechanical study using healthy volunteers\",\"Assessing the suitability of antibiotic resistance markers and the indirect ELISA technique for studying the competitive ability of selected Cyclopia Vent. rhizobia under glasshouse and field conditions in South Africa\",\"Beyond 2000: Sharpening the focus on the indigenous languages\",\"Effect of oral fructose on ethanol elimination from the bloodstream\",\"Evidence of HIV-1 adaptation to host HLA alleles following chimp-to-human transmission\",\"Antimicrobial susceptibility of organisms causing community-acquired urinary tract infections in Gauteng Province, South Africa\",\"A mother\\u2019s choice: a qualitative study of mothers\\u2019 health seeking behaviour for their children with acute diarrhoea\",\"Indiscretion and other threats to confidentiality\",\"Phytodentistry in Africa: prospects for head and neck cancers\",\"A Customary Insurance Law?\",\"Linking avian communities and avian influenza ecology in southern Africa using epidemiological functional groups\",\"Therapeutic efficacy of sulfadoxine-pyrimethamine for plasmodium falciparum malaria\",\"\\\"Other patients are really in need of medical attention\\\" - the quality of health services for rape survivors in South Africa\",\"Who does the law seek to protect and from what? The application of international law on child labour in an African context\",\"Proportional reasoning as a threshold to numeracy at university: a framework for analysis\",\"Post-dispersal fate of Acacia seeds in an African savanna\",\"Single low-dose primaquine for blocking transmission of Plasmodium falciparum malaria \\u2013 a proposed model-derived age-based regimen for sub-Saharan Africa\",\"Diamond\\u2013Blackfan anemia RPL35A: a case report\",\"Pooled Sequencing of 531 Genes in Inflammatory Bowel Disease Identifies an Associated Rare Variant in BTNL2 and Implicates Other Immune Related Genes\",\"Can share capital be reduced other than by way of a buy-back?\",\"Use of a general imaging model to achieve predictive autofocus in the scanning electron microscope.\",\"Enforcing patent rights against goods in transit:A new threat to transborder trade in generic medicines\",\"Identifying recombinants in human and primate immunodeficiency virus sequence alignments using quartet scanning\",\"Out-of-pocket payments, health care access and utilisation in south-eastern Nigeria: a gender perspective\",\"The Change in Macroalgal Assemblages through the Saldanha Bay/Langebaan Lagoon Ecosystem (South Africa)\",\"Challenges facing primary school educators of English Second (or other) Language learners in the Western Cape\",\"Antenatal depressive symptoms and perinatal complications: a prospective study in rural Ethiopia\",\"A Remarkably Stable Phosphorylated Form of Ca 2+ -ATPase Prepared from Ca 2+ -loaded and Fluorescein Isothiocyanate-labeled Sarcoplasmic Reticulum Vesicles\",\"Educators' motivation on integration of ICTs into pedagogy: case of disadvantaged areas\",\"Measurements of top-quark pair to Z-boson cross-section ratios at \\u221as = 13, 8, 7 TeV with the ATLAS detector\",\"Evolutionary dynamics of ten novel Gamma-PVs: insights from phylogenetic incongruence, recombination and phylodynamic analyses\",\"\\u2018Researching practice': a first step in evaluating the complex practices in a university-community \\u2018Knowledge Co-op'\",\"A review of South African research in atmospheric science and physical oceanography during 2000-2005\",\"Relationship between the lateral acromion angle and postoperative persistent pain of distal clavicle fracture treated with clavicle hook plate\",\"Stable Isotope Imprints during Pyrite Leaching: Implications for Acid Rock Drainage Characterization\",\"Comparison of six methods to estimate adherence in an ART-na\\u00efve cohort in a resource-poor setting: which best predicts virological and resistance outcomes?\",\"Structure of an aliphatic amidase from Geobacillus pallidus RAPc8\",\"The consumer's 'right to fair, reasonable and just terms' under the new consumer Protection Act in comparative perspective\",\"Understanding the ANC at sub-national level\",\"Anti-retroviral therapy increases the prevalence of dyslipidemia in South African HIV-infected patients\",\"Research-policy partnerships - experiences of the Mental Health and Poverty Project in Ghana, South Africa, Uganda and Zambia\",\"Mathematical and computational modelling of the dynamic behaviour of direct current plasma arcs\",\"Mental, behavioral and neurodevelopmental disorders in the ICD-11: an international perspective on key changes and controversies\",\"The maintenance of capital and Companies Bill 2007\",\"Measurement of the Inelastic Proton-Proton Cross Section at s = 13 \\u2009 \\u2009 TeV with the ATLAS Detector at the LHC\",\"Predicting Success in Higher Education: The Value of Criterion and Norm-referenced Assessments\",\"Linkage to HIV, TB and non-communicable disease care from a mobile testing unit in Cape Town, South Africa\",\"A Systematic Review of Individual and Contextual Factors Affecting ART Initiation, Adherence, and Retention for HIV-Infected Pregnant and Postpartum Women\",\"Asn 102 of the Gonadotropin-releasing Hormone Receptor Is a Critical Determinant of Potency for Agonists Containing C-terminal Glycinamide\",\"Pregabalin for the treatment of generalized anxiety disorder: an update\",\"Toward the identification of a phytocannabinoid-like compound in the flowers of a South African medicinal plant (Leonotis leonurus)\",\"Protocol for the modeling the epidemiologic transition study: a longitudinal observational study of energy balance and change in body weight, diabetes and cardiovascular disease risk\",\"The H3ABioNet helpdesk: an online bioinformatics resource, enhancing Africa\\u2019s capacity for genomics research\",\"Is the Western Cape at risk of an outbreak of preventable childhood diseases? Lessons from an evaluation of routine immunisation coverage\",\"A comparative analysis of polyfunctional T cells and secreted cytokines induced by Bacille Calmette-Guerin immunisation in children and adults\",\"Coagulation for the clinician\",\"The Conservation Costs of Game Ranching\",\"Large-scale spatial distribution patterns of echinoderms in nearshore rocky habitats\",\"Can we determine when marine endotherms feed? A case study with seabirds\",\"Molecular signatures of prostate stem cells reveal novel signaling pathways and provide insights into prostate cancer\",\"The prevalence of liquid chromatography-tandem mass spectrometry confirmed paediatric poisoning at Red Cross War Memorial Children\\u2019s Hospital, Cape Town, South Africa\",\"The role of ICTs in higher education in South Africa: one strategy for addressing teaching and learning challenges\",\"The role of crude human saliva and purified salivary MUC5B and MUC7 mucins in the inhibition of Human Immunodeficiency Virus type 1 in an inhibition assay\",\"UV-mediated Regulation of the anti-senescence factor Tbx2\",\"Association between ethnicity and obesity with high-density lipoprotein (HDL) function and subclass distribution\",\"Guideline for the management of acute asthma in adults: 2013 update\",\"Utilisation-focused evaluation of ICT in education: the case of DFAQ consultation space\",\"The sixth data release of the Sloan digital sky survey\",\"Pediatric systemic lupus erythematosus patients in South Africa have high prevalence and severity of cardiac and vascular manifestations\",\"New excavations at Klein Kliphuis rock shelter, Cederberg Mountains, Western Cape, South Africa: the Late Holocene deposits\",\"Promoting sexual and reproductive health among adolescents in southern and eastern Africa (PREPARE): project design and conceptual framework\",\"Intelligent Cognitive Radio Models for Enhancing Future Radio Astronomy Observations\",\"Screening for diabetic retinopathy in primary care with a mobile fundal camera - evaluation of a South African pilot project\",\"Abundance of Antarctic blue whales south of 60\\u00b0S from three complete circumpolar sets of surveys\",\"Antibiotic stewardship ward rounds and a dedicated prescription chart reduce antibiotic consumption and pharmacy costs without affecting inpatient mortality or re-admission rates\",\"The role of multilateral organizations and governments in advancing social innovation in health care delivery\",\"Exploring the feasibility of using mobile phones to improve the management of clients with cervical cancer precursor lesions\",\"Correlated Event-by-Event Fluctuations of Flow Harmonics in Pb-Pb Collisions at \\u221asNN = 2.76 TeV\",\"Pain in amaXhosa women living with HIV/AIDS: a cross-sectional study of ambulant outpatients\",\"Negative pressure wound therapy management of the \\\"open abdomen\\\" following trauma: a prospective study and systematic review\",\"Integrating informatics tools and portable sequencing technology for rapid detection of resistance to anti-tuberculous drugs\",\"Comparison of a clinical prediction rule and a LAM antigen-detection assay for the rapid diagnosis of TBM in a high HIV prevalence setting\",\"The importance of monitoring the Greater Agulhas Current and its inter-ocean exchanges using large mooring arrays\",\"CO in Hickson compact group galaxies with enhanced warm H 2 emission: Evidence for galaxy evolution?\",\"Point-of-care CD4 testing to inform selection of antiretroviral medications in South African antenatal clinics: a cost-effectiveness analysis\",\"Implementing community participation through legislative reform: a study of the policy framework for community participation in the Western Cape province of South Africa\",\"Reproductive awareness and recognition of unintended pregnancy: young women, key informants and health care providers perspectives in South Africa\",\"X-Switch: An Efficient  Multi-User  Multi-Language Web Application Server.\",\"Phenomenography: from critical aspects to knowledge claim\",\"A comparative evaluation of PDQ-Evidence\",\"Uses and Gratifications of Computers in South African Elderly People\",\"An estimate of the recreational value of the Agulhas Plain, South Africa, with special reference to the value of plant biodiversity\",\"Chronic disease risk factors, healthy days and medical claims in South African employees presenting for health risk screening\",\"Search for FCNC single top-quark production at \\u221as = 7 TeV with the ATLAS detector\",\"Modes of transmission and attack rates of group A Streptococcal infection: a protocol for a systematic review and meta-analysis\",\"The burden of imported malaria in Cape Town, South Africa\",\"An ultrasonographic analysis of the activation patterns of abdominal muscles in children with spastic type cerebral palsy and in typically developing individuals: a comparative study\",\"Ethnic disparities in fertility and its determinants in Nigeria\",\"Factors shaping lecturers\\u2019 adoption of OER at three South African universities\",\"Cleavage of the moaX-encoded fused molybdopterin synthase from Mycobacterium tuberculosis is necessary for activity\",\"Are stage-based health information messages effective and good value for money in improving maternal newborn and child health outcomes in India? Protocol for an individually randomized controlled trial\",\"Greenhouse gas network design using backward Lagrangian particle dispersion modelling \\u2013 Part 2: Sensitivity analyses and South African test case\",\"Current trends in drug treatment of obsessive\\u2013compulsive disorder\",\"DaGO-Fun: tool for Gene Ontology-based functional analysis using term information content measures\",\"Inequalities in health and health risk factors in the Southern African Development Community: evidence from World Health Surveys\",\"What is your corporate brand worth?  A guide to brand valuation approaches\",\"Migration intensity has no effect on peak HIV prevalence: an ecological study\",\"A novel Markov model projecting costs and outcomes of providing antiretroviral therapy to public patients in private practices versus public clinics in south Africa\",\"IL-4R\\u03b1-associated antigen processing by B cells promotes immunity in Nippostrongylus brasiliensis infection\",\"Donor milk intake and infant growth in a South African neonatal unit: a cohort study\",\"Admitting engineering students with the best chance of success: technological literacy and the Technological Profile Inventory (TPI)\",\"Estimating farmers\\u2019 willingness to pay for weather index-based crop insurance uptake in West Africa: Insight from a pilot initiative in Southwestern Burkina Faso\",\"Aspects of South African law as it applies to corruption in the workplace\",\"Capital budgeting practices in South Africa: A review\",\"Working with 'necessary contradictions': a social realist meta-analysis of an academic development programme review\",\"The effects of two early parenting interventions on child aggression and risk for violence in Brazil (The PI\\u00c1 Trial): protocol for a randomised controlled trial\",\"Motivations, facilitators and barriers to accessing hepatitis C treatment among people who inject drugs in two South African cities\",\"Re-envisioning paediatric nurse training in a re-engineered health care system\",\"Non-communicable diseases surveillance: overview of magnitude and determinants in Kenya from STEPwise approach survey of 2015\",\"Inclination of scholars to major in information systems or computer science\",\"The essential multiobjectivity of linear programming\",\"Chronic and moderate consumption of reduced-alcohol wine confers cardiac benefits in a rat model of pulmonary arterial hypertension\",\"Evidence for an increasing incidence and severity of Harmful Algal Blooms in the southern Benguela region\",\"Protein sequences bound to mineral surfaces persist into deep time\",\"The economic and environmental effects of a carbon tax in South Africa: A dynamic CGE modelling approach\",\"The PTAP sequence duplication in HIV-1 subtype C Gag p6 in drug-naive subjects of India and South Africa\",\"A balanced view of balanced solutions\",\"Oldest evidence of toolmaking hominins in a grassland-dominated ecosystem\",\"Program spending to increase adherence: South African cervical cancer screening\",\"Antiretroviral treatment outcomes amongst older adults in a large multicentre cohort in South Africa\",\"L-2 hydroxyglutaric aciduria in a South African Staffordshire Bull Terrier\",\"Preliminary assessment of the Falklands Patagonian toothfish (Dissostichus eleginoides) population: Use of recruitment indices and the estimation of unreported catches\",\"Hypertension, end-stage renal disease and mesangiocapillary glomerulonephritis in methamphetamine users\",\"Designing online conferences to promote professional development in Africa\",\"Expanding the clinical spectrum of hereditary fibrosing poikiloderma with tendon contractures, myopathy and pulmonary fibrosis due to FAM111B mutations\",\"Phytoplankton distribution and nitrogen dynamics in the southwest indian subtropical gyre and Southern Ocean waters\",\"Discursive constructions of medical students identities in informal course-based online discussions\",\"Breastfeeding and the 2015 South African guidelines for prevention of mother-to-child transmission of HIV\",\"An exploratory study of what happens to women who are denied abortions in Cape Town, South Africa\",\"A phase I trial to evaluate the safety and pharmacokinetics of low-dose methotrexate as an anti-malarial drug in Kenyan adult healthy volunteers\",\"CRIMALDDI: platform technologies and novel anti-malarial drug targets\",\"Conflict and tuberculosis in Sudan: a 10-year review of the National Tuberculosis Programme, 2004-2014\",\"Towards understanding the drivers of policy change: a case study of infection control policies for multi-drug resistant tuberculosis in South Africa\",\"Parate executie clauses: Is the debate dead?\"]},\"selected\":{\"id\":\"1105\"},\"selection_policy\":{\"id\":\"1106\"}},\"id\":\"1096\",\"type\":\"ColumnDataSource\"},{\"attributes\":{},\"id\":\"1075\",\"type\":\"DataRange1d\"},{\"attributes\":{\"callback\":null,\"tooltips\":[[\"paper\",\"@title\"]]},\"id\":\"1085\",\"type\":\"HoverTool\"},{\"attributes\":{\"fill_alpha\":{\"value\":0.7},\"fill_color\":{\"field\":\"labels\",\"transform\":{\"id\":\"1095\"}},\"line_alpha\":{\"value\":0.7},\"line_color\":{\"field\":\"labels\",\"transform\":{\"id\":\"1095\"}},\"x\":{\"field\":\"dim1\"},\"y\":{\"field\":\"dim2\"}},\"id\":\"1098\",\"type\":\"Scatter\"},{\"attributes\":{},\"id\":\"1073\",\"type\":\"DataRange1d\"},{\"attributes\":{\"text\":\"Clustering of UCT publication(t-SNE of 30 perplexity dimensionsinality reduction)\"},\"id\":\"1071\",\"type\":\"Title\"},{\"attributes\":{\"data_source\":{\"id\":\"1096\"},\"glyph\":{\"id\":\"1098\"},\"hover_glyph\":null,\"muted_glyph\":null,\"nonselection_glyph\":{\"id\":\"1099\"},\"view\":{\"id\":\"1101\"}},\"id\":\"1100\",\"type\":\"GlyphRenderer\"},{\"attributes\":{\"fill_alpha\":{\"value\":0.1},\"fill_color\":{\"field\":\"labels\",\"transform\":{\"id\":\"1095\"}},\"line_alpha\":{\"value\":0.1},\"line_color\":{\"field\":\"labels\",\"transform\":{\"id\":\"1095\"}},\"x\":{\"field\":\"dim1\"},\"y\":{\"field\":\"dim2\"}},\"id\":\"1099\",\"type\":\"Scatter\"},{\"attributes\":{\"overlay\":{\"id\":\"1087\"}},\"id\":\"1083\",\"type\":\"BoxZoomTool\"},{\"attributes\":{},\"id\":\"1084\",\"type\":\"ResetTool\"}],\"root_ids\":[\"1070\"]},\"title\":\"Bokeh Application\",\"version\":\"2.3.3\"}};\n",
              "  var render_items = [{\"docid\":\"45447d3d-e5ac-4e1b-bd42-24b176d2b27c\",\"root_ids\":[\"1070\"],\"roots\":{\"1070\":\"adf30478-8c6c-4127-9399-cffec8ba482a\"}}];\n",
              "  root.Bokeh.embed.embed_items_notebook(docs_json, render_items);\n",
              "\n",
              "  }\n",
              "  if (root.Bokeh !== undefined) {\n",
              "    embed_document(root);\n",
              "  } else {\n",
              "    var attempts = 0;\n",
              "    var timer = setInterval(function(root) {\n",
              "      if (root.Bokeh !== undefined) {\n",
              "        clearInterval(timer);\n",
              "        embed_document(root);\n",
              "      } else {\n",
              "        attempts++;\n",
              "        if (attempts > 100) {\n",
              "          clearInterval(timer);\n",
              "          console.log(\"Bokeh: ERROR: Unable to run BokehJS code because BokehJS library is missing\");\n",
              "        }\n",
              "      }\n",
              "    }, 10, root)\n",
              "  }\n",
              "})(window);"
            ],
            "application/vnd.bokehjs_exec.v0+json": ""
          },
          "metadata": {
            "application/vnd.bokehjs_exec.v0+json": {
              "id": "1070"
            }
          }
        }
      ],
      "source": [
        "from bokeh.transform import linear_cmap\n",
        "from bokeh.palettes import d3\n",
        "from bokeh.models import CategoricalColorMapper\n",
        "from bokeh.palettes import Viridis256, Turbo256, Inferno256, Greys256\n",
        "from bokeh.models import CategoricalColorMapper\n",
        "from bokeh.models import LinearColorMapper, ColorBar\n",
        "from bokeh.transform import transform\n",
        "from bokeh.plotting import figure,show\n",
        "\n",
        "output_notebook()\n",
        "plot_tsne = bp.figure(plot_width = 700, plot_height = 500, \n",
        "                       title = \"Clustering of UCT publication(t-SNE of 30 perplexity dimensionsinality reduction)\",\n",
        "                       tools = \"pan, wheel_zoom, box_zoom, reset, hover, save\",\n",
        "                       x_axis_type = None, y_axis_type = None, min_border = 1)\n",
        "\n",
        "#palette = d3[\"Category20\"][len(tsne1020_df[\"labels\"].unique())]\n",
        "#mapper = linear_cmap(field_name='labels', palette=palette ,low=min(tsne1020_df[\"labels\"]) ,high=max(tsne1020_df[\"labels\"]))\n",
        "mapper = LinearColorMapper(palette='Turbo256', low=tsne30_df[\"labels\"].min() ,high=tsne30_df[\"labels\"].max())\n",
        "\n",
        "#color_map = CategoricalColorMapper(factors = umap1020_df[\"labels\"].unique(), palette = palette)\n",
        "\n",
        "plot_tsne.scatter(x = \"dim1\", y = \"dim2\", \n",
        "                 color= transform('labels', mapper), \n",
        "                 source = tsne30_df,\n",
        "                 alpha = 0.7)\n",
        "#color_bar = ColorBar(color_mapper=mapper['transform'], width=8,  location=(0,0),title=\"cluster labels\")\n",
        "color_bar = ColorBar(color_mapper = mapper,\n",
        "                     label_standoff = 14,\n",
        "                     location = (0,0),\n",
        "                     title = 'Plot')\n",
        "plot_tsne.add_layout(color_bar, 'right')\n",
        "hover = plot_tsne.select(dict(type = HoverTool))\n",
        "hover.tooltips = {\"paper\": \"@title\"}\n",
        "\n",
        "show(plot_tsne)"
      ]
    },
    {
      "cell_type": "code",
      "execution_count": null,
      "metadata": {
        "id": "QYR0QEW3EMDs"
      },
      "outputs": [],
      "source": [
        "from bokeh.transform import linear_cmap\n",
        "from bokeh.palettes import d3\n",
        "from bokeh.models import CategoricalColorMapper\n",
        "from bokeh.palettes import Viridis256, Turbo256, Inferno256, Greys256\n",
        "from bokeh.models import CategoricalColorMapper\n",
        "from bokeh.models import LinearColorMapper, ColorBar\n",
        "from bokeh.transform import transform\n",
        "from bokeh.plotting import figure,show\n",
        "\n",
        "output_notebook()\n",
        "plot_tsne = bp.figure(plot_width = 700, plot_height = 500, \n",
        "                       title = \"Clustering of UCT publication(t-SNE of 50 perplexity dimensionsinality reduction)\",\n",
        "                       tools = \"pan, wheel_zoom, box_zoom, reset, hover, save\",\n",
        "                       x_axis_type = None, y_axis_type = None, min_border = 1)\n",
        "\n",
        "#palette = d3[\"Category20\"][len(tsne1020_df[\"labels\"].unique())]\n",
        "#mapper = linear_cmap(field_name='labels', palette=palette ,low=min(tsne1020_df[\"labels\"]) ,high=max(tsne1020_df[\"labels\"]))\n",
        "mapper = LinearColorMapper(palette='Turbo256', low=tsne50_df[\"labels\"].min() ,high=tsne50_df[\"labels\"].max())\n",
        "\n",
        "#color_map = CategoricalColorMapper(factors = umap1020_df[\"labels\"].unique(), palette = palette)\n",
        "\n",
        "plot_tsne.scatter(x = \"dim1\", y = \"dim2\", \n",
        "                 color= transform('labels', mapper), \n",
        "                 source = tsne50_df,\n",
        "                 alpha = 0.7)\n",
        "#color_bar = ColorBar(color_mapper=mapper['transform'], width=8,  location=(0,0),title=\"cluster labels\")\n",
        "color_bar = ColorBar(color_mapper = mapper,\n",
        "                     label_standoff = 14,\n",
        "                     location = (0,0),\n",
        "                     title = 'Plot')\n",
        "plot_tsne.add_layout(color_bar, 'right')\n",
        "hover = plot_tsne.select(dict(type = HoverTool))\n",
        "hover.tooltips = {\"paper\": \"@title\"}\n",
        "\n",
        "show(plot_tsne)"
      ]
    },
    {
      "cell_type": "markdown",
      "metadata": {
        "id": "UAY2HyT0NqiN"
      },
      "source": [
        "## UMAP Spectral clustering"
      ]
    },
    {
      "cell_type": "code",
      "execution_count": null,
      "metadata": {
        "id": "87dDjmlRNo67"
      },
      "outputs": [],
      "source": [
        "!pip install hdbscan"
      ]
    },
    {
      "cell_type": "code",
      "execution_count": null,
      "metadata": {
        "id": "8ov_poGfK-FV"
      },
      "outputs": [],
      "source": [
        "!pip install umap-learn"
      ]
    },
    {
      "cell_type": "code",
      "execution_count": null,
      "metadata": {
        "id": "lB5ukEsEJyI-"
      },
      "outputs": [],
      "source": [
        "import random\n",
        "from functools import partial\n",
        "\n",
        "import numpy as np\n",
        "import pandas as pd\n",
        "import matplotlib.pyplot as plt\n",
        "import hdbscan\n",
        "import umap.umap_ as umap\n",
        "import tensorflow as tf\n",
        "import tensorflow_hub as hub\n",
        "from sklearn.metrics.cluster import normalized_mutual_info_score\n",
        "from sklearn.metrics.cluster import adjusted_rand_score\n",
        "from tqdm.notebook import trange\n",
        "from hyperopt import fmin, tpe, hp, STATUS_OK, space_eval, Trials\n",
        "\n",
        "pd.set_option(\"display.max_rows\", 600)\n",
        "pd.set_option(\"display.max_columns\", 500)\n",
        "pd.set_option(\"max_colwidth\", 400)"
      ]
    },
    {
      "cell_type": "code",
      "execution_count": null,
      "metadata": {
        "id": "G16lGXE1J7l3"
      },
      "outputs": [],
      "source": [
        "def generate_clusters(message_embeddings,\n",
        "                      n_neighbors,\n",
        "                      n_components, \n",
        "                      min_cluster_size,\n",
        "                      min_samples = None,\n",
        "                      random_state = None):\n",
        "    \"\"\"\n",
        "    Returns HDBSCAN objects after first performing dimensionality reduction using UMAP\n",
        "    \n",
        "    Arguments:\n",
        "        message_embeddings: embeddings to use\n",
        "        n_neighbors: int, UMAP hyperparameter n_neighbors\n",
        "        n_components: int, UMAP hyperparameter n_components\n",
        "        min_cluster_size: int, HDBSCAN hyperparameter min_cluster_size\n",
        "        min_samples: int, HDBSCAN hyperparameter min_samples\n",
        "        random_state: int, random seed\n",
        "        \n",
        "    Returns:\n",
        "        clusters: HDBSCAN object of clusters\n",
        "    \"\"\"\n",
        "    \n",
        "    umap_embeddings = (umap.UMAP(n_neighbors = n_neighbors, \n",
        "                                n_components = n_components, \n",
        "                                metric = 'cosine', \n",
        "                                random_state=random_state)\n",
        "                            .fit_transform(message_embeddings))\n",
        "\n",
        "    clusters = hdbscan.HDBSCAN(min_cluster_size = min_cluster_size, \n",
        "                               min_samples = min_samples,\n",
        "                               metric='euclidean', \n",
        "                               gen_min_span_tree=True,\n",
        "                               cluster_selection_method='eom').fit(umap_embeddings)\n",
        "    \n",
        "    return clusters"
      ]
    },
    {
      "cell_type": "code",
      "execution_count": null,
      "metadata": {
        "id": "E2_he4moKI4e"
      },
      "outputs": [],
      "source": [
        "def score_clusters(clusters, prob_threshold = 0.05):\n",
        "    \"\"\"\n",
        "    Returns the label count and cost of a given clustering\n",
        "\n",
        "    Arguments:\n",
        "        clusters: HDBSCAN clustering object\n",
        "        prob_threshold: float, probability threshold to use for deciding\n",
        "                        what cluster labels are considered low confidence\n",
        "\n",
        "    Returns:\n",
        "        label_count: int, number of unique cluster labels, including noise\n",
        "        cost: float, fraction of data points whose cluster assignment has\n",
        "              a probability below cutoff threshold\n",
        "    \"\"\"\n",
        "    \n",
        "    cluster_labels = clusters.labels_\n",
        "    label_count = len(np.unique(cluster_labels))\n",
        "    total_num = len(clusters.labels_)\n",
        "    cost = (np.count_nonzero(clusters.probabilities_ < prob_threshold)/total_num)\n",
        "    \n",
        "    return label_count, cost"
      ]
    },
    {
      "cell_type": "code",
      "execution_count": null,
      "metadata": {
        "id": "eVXpWXB_KRWe"
      },
      "outputs": [],
      "source": [
        "def random_search(embeddings, space, num_evals):\n",
        "    \"\"\"\n",
        "    Randomly search parameter space of clustering pipeline\n",
        "\n",
        "    Arguments:\n",
        "        embeddings: embeddings to use\n",
        "        space: dict, contains keys for 'n_neighbors', 'n_components',\n",
        "               and 'min_cluster_size' and values with\n",
        "               corresponding lists or ranges of parameters to search\n",
        "        num_evals: int, number of random parameter combinations to try\n",
        "\n",
        "    Returns:\n",
        "        df_result: pandas dataframe containing info on each evaluation\n",
        "                   performed, including run_id, parameters used, label\n",
        "                   count, and cost\n",
        "    \"\"\"\n",
        "    \n",
        "    results = []\n",
        "    \n",
        "    for i in trange(num_evals):\n",
        "        n_neighbors = random.choice(space['n_neighbors'])\n",
        "        n_components = random.choice(space['n_components'])\n",
        "        min_cluster_size = random.choice(space['min_cluster_size'])\n",
        "        min_samples = random.choice(space['min_samples'])\n",
        "        random_state = space['random_state']\n",
        "        \n",
        "        clusters = generate_clusters(embeddings, \n",
        "                                     n_neighbors=n_neighbors, \n",
        "                                     n_components=n_components, \n",
        "                                     min_cluster_size=min_cluster_size, \n",
        "                                     min_samples = min_samples,\n",
        "                                     random_state=random_state)\n",
        "    \n",
        "        label_count, cost = score_clusters(clusters, prob_threshold = 0.05)\n",
        "                \n",
        "        results.append([i, n_neighbors, n_components, min_cluster_size, min_samples, label_count, cost])\n",
        "    \n",
        "    result_df = pd.DataFrame(results, columns=['run_id', 'n_neighbors', 'n_components', \n",
        "                                               'min_cluster_size','min_samples', 'label_count', 'cost'])\n",
        "    \n",
        "    return result_df.sort_values(by='cost')"
      ]
    },
    {
      "cell_type": "code",
      "execution_count": null,
      "metadata": {
        "id": "rO73pny2KY7c"
      },
      "outputs": [],
      "source": [
        "def objective(params, embeddings, label_lower, label_upper):\n",
        "    \"\"\"\n",
        "    Objective function for hyperopt to minimize\n",
        "\n",
        "    Arguments:\n",
        "        params: dict, contains keys for 'n_neighbors', 'n_components',\n",
        "               'min_cluster_size', 'random_state' and\n",
        "               their values to use for evaluation\n",
        "        embeddings: embeddings to use\n",
        "        label_lower: int, lower end of range of number of expected clusters\n",
        "        label_upper: int, upper end of range of number of expected clusters\n",
        "\n",
        "    Returns:\n",
        "        loss: cost function result incorporating penalties for falling\n",
        "              outside desired range for number of clusters\n",
        "        label_count: int, number of unique cluster labels, including noise\n",
        "        status: string, hypoeropt status\n",
        "\n",
        "        \"\"\"\n",
        "    \n",
        "    clusters = generate_clusters(embeddings, \n",
        "                                 n_neighbors = params['n_neighbors'], \n",
        "                                 n_components = params['n_components'], \n",
        "                                 min_cluster_size = params['min_cluster_size'],\n",
        "                                 min_samples = params['min_samples'],\n",
        "                                 random_state = params['random_state'])\n",
        "    \n",
        "    label_count, cost = score_clusters(clusters, prob_threshold = 0.05)\n",
        "    \n",
        "    #15% penalty on the cost function if outside the desired range of groups\n",
        "    if (label_count < label_lower) | (label_count > label_upper):\n",
        "        penalty = 0.60 \n",
        "    else:\n",
        "        penalty = 0\n",
        "    \n",
        "    loss = cost + penalty\n",
        "    \n",
        "    return {'loss': loss, 'label_count': label_count, 'status': STATUS_OK}"
      ]
    },
    {
      "cell_type": "code",
      "execution_count": null,
      "metadata": {
        "id": "YkRlKCdh4LmF"
      },
      "outputs": [],
      "source": [
        "def bayesian_search(embeddings, space, label_lower, label_upper, max_evals=100):\n",
        "    \"\"\"\n",
        "    Perform bayesian search on hyperparameter space using hyperopt\n",
        "\n",
        "    Arguments:\n",
        "        embeddings: embeddings to use\n",
        "        space: dict, contains keys for 'n_neighbors', 'n_components',\n",
        "               'min_cluster_size', and 'random_state' and\n",
        "               values that use built-in hyperopt functions to define\n",
        "               search spaces for each\n",
        "        label_lower: int, lower end of range of number of expected clusters\n",
        "        label_upper: int, upper end of range of number of expected clusters\n",
        "        max_evals: int, maximum number of parameter combinations to try\n",
        "\n",
        "    Saves the following to instance variables:\n",
        "        best_params: dict, contains keys for 'n_neighbors', 'n_components',\n",
        "               'min_cluster_size', 'min_samples', and 'random_state' and\n",
        "               values associated with lowest cost scenario tested\n",
        "        best_clusters: HDBSCAN object associated with lowest cost scenario\n",
        "                       tested\n",
        "        trials: hyperopt trials object for search\n",
        "\n",
        "        \"\"\"\n",
        "    \n",
        "    trials = Trials()\n",
        "    fmin_objective = partial(objective, \n",
        "                             embeddings=embeddings, \n",
        "                             label_lower=label_lower,\n",
        "                             label_upper=label_upper)\n",
        "    \n",
        "    best = fmin(fmin_objective, \n",
        "                space = space, \n",
        "                algo=tpe.suggest,\n",
        "                max_evals=max_evals, \n",
        "                trials=trials)\n",
        "\n",
        "    best_params = space_eval(space, best)\n",
        "    print ('best:')\n",
        "    print (best_params)\n",
        "    print (f\"label count: {trials.best_trial['result']['label_count']}\")\n",
        "    \n",
        "    best_clusters = generate_clusters(embeddings, \n",
        "                                      n_neighbors = best_params['n_neighbors'], \n",
        "                                      n_components = best_params['n_components'], \n",
        "                                      min_cluster_size = best_params['min_cluster_size'],\n",
        "                                      random_state = best_params['random_state'])\n",
        "    \n",
        "    return best_params, best_clusters, trials"
      ]
    },
    {
      "cell_type": "code",
      "execution_count": null,
      "metadata": {
        "id": "F6wgudxtK6hJ"
      },
      "outputs": [],
      "source": [
        "space = {\n",
        "        \"n_neighbors\": range(5,20),\n",
        "        \"n_components\": range(2,50),\n",
        "        \"min_cluster_size\": range(2,10),\n",
        "        \"min_samples\": range(5,10),\n",
        "        \"random_state\": 42\n",
        "    }\n",
        "\n",
        "random_use = random_search(summary_embeddings, space, 100)"
      ]
    },
    {
      "cell_type": "code",
      "execution_count": null,
      "metadata": {
        "id": "1XNrMGIhL168"
      },
      "outputs": [],
      "source": [
        "random_use"
      ]
    },
    {
      "cell_type": "code",
      "execution_count": null,
      "metadata": {
        "id": "ey0G4lp3DGE-"
      },
      "outputs": [],
      "source": [
        "hspace = {\n",
        "    \"n_neighbors\": hp.choice('n_neighbors', range(2,15)),\n",
        "    \"n_components\": hp.choice('n_components', range(2,50)),\n",
        "    \"min_cluster_size\": hp.choice('min_cluster_size', range(2,10)),\n",
        "    \"min_samples\": hp.choice('min_samples', range(2,10)),\n",
        "    \"random_state\": 42\n",
        "}\n",
        "label_lower = 10\n",
        "label_upper = 100\n",
        "max_evals = 100"
      ]
    },
    {
      "cell_type": "code",
      "execution_count": null,
      "metadata": {
        "id": "4DF9Gq3hDNhi"
      },
      "outputs": [],
      "source": [
        "best_params_use, best_clusters_use, trials_use = bayesian_search(summary_embeddings, \n",
        "                                                                 space=hspace, \n",
        "                                                                 label_lower=label_lower, \n",
        "                                                                 label_upper=label_upper, \n",
        "                                                                 max_evals=max_evals)"
      ]
    },
    {
      "cell_type": "code",
      "execution_count": null,
      "metadata": {
        "id": "7nBKSIxIQ2_4"
      },
      "outputs": [],
      "source": [
        "#'min_cluster_size': 8, 'min_samples': 2, 'n_components': 49, 'n_neighbors': 3, 'random_state': 42}\n",
        "#randim search 33\t45\t12\t5\t23\n",
        "#15\t7\t2\t5\t\n",
        "#'min_cluster_size': 8, 'min_samples': 4, 'n_components': 39, 'n_neighbors': 3, 'random_state': 42}\n",
        "n_neighbors = 3\n",
        "n_components = 26\n",
        "umap_embeddings = (umap.UMAP(n_neighbors = n_neighbors, \n",
        "                                n_components = n_components, \n",
        "                                metric = 'cosine', \n",
        "                                random_state=42)\n",
        "                            .fit_transform(summary_embeddings))"
      ]
    },
    {
      "cell_type": "code",
      "execution_count": null,
      "metadata": {
        "id": "E1k1jeUZcA9y"
      },
      "outputs": [],
      "source": [
        "import hdbscan\n",
        "#7,9 optimum\n",
        "hbscan_min_clustersize = 8\n",
        "hbscan_min_sample = 2\n",
        "\n",
        "cluster_umap = hdbscan.HDBSCAN(min_cluster_size = hbscan_min_clustersize, \n",
        "                               min_samples = hbscan_min_sample,\n",
        "                               metric='euclidean', \n",
        "                               gen_min_span_tree=True,\n",
        "                               cluster_selection_method='eom',\n",
        "                               cluster_selection_epsilon = 0.1,).fit(umap_embeddings)\n"
      ]
    },
    {
      "cell_type": "code",
      "execution_count": null,
      "metadata": {
        "id": "IXalE7eZiSDN"
      },
      "outputs": [],
      "source": [
        "labels_umap = pd.DataFrame(cluster_umap.labels_)"
      ]
    },
    {
      "cell_type": "code",
      "execution_count": null,
      "metadata": {
        "id": "AgTuNxqbOghy"
      },
      "outputs": [],
      "source": [
        "labels_umap.value_counts()"
      ]
    },
    {
      "cell_type": "code",
      "execution_count": null,
      "metadata": {
        "colab": {
          "base_uri": "https://localhost:8080/"
        },
        "id": "mOE8SsJYbLhE",
        "outputId": "f8fa186d-3c89-436f-f236-6b62e4d56008"
      },
      "outputs": [
        {
          "output_type": "stream",
          "name": "stderr",
          "text": [
            "/usr/local/lib/python3.7/dist-packages/sklearn/utils/validation.py:993: DataConversionWarning: A column-vector y was passed when a 1d array was expected. Please change the shape of y to (n_samples, ), for example using ravel().\n",
            "  y = column_or_1d(y, warn=True)\n"
          ]
        },
        {
          "output_type": "execute_result",
          "data": {
            "text/plain": [
              "0.36006537"
            ]
          },
          "metadata": {},
          "execution_count": 82
        }
      ],
      "source": [
        "import sklearn.metrics as metrics\n",
        "metrics.silhouette_score(umap_embeddings, labels_umap, metric='euclidean')"
      ]
    },
    {
      "cell_type": "code",
      "execution_count": null,
      "metadata": {
        "id": "se4QadTmkN4R"
      },
      "outputs": [],
      "source": [
        "n_neighbors = 3\n",
        "n_components = 2\n",
        "umap_embeddings_2 = (umap.UMAP(n_neighbors = n_neighbors, \n",
        "                                n_components = n_components, \n",
        "                                metric = 'cosine', \n",
        "                                random_state=42)\n",
        "                            .fit_transform(summary_embeddings))"
      ]
    },
    {
      "cell_type": "code",
      "execution_count": null,
      "metadata": {
        "id": "-1lCfF-KjOff"
      },
      "outputs": [],
      "source": [
        "umap_embeddings_2 = pd.DataFrame(umap_embeddings_2, columns = ('dim1', 'dim2'))\n",
        "umap_embeddings_2[\"title\"] = titles\n",
        "#tsne_df['tokens'] = list(sentences_tokenized)\n",
        "umap_embeddings_2['labels'] = labels_umap\n",
        "umap_embeddings_2.head(1)"
      ]
    },
    {
      "cell_type": "code",
      "execution_count": null,
      "metadata": {
        "id": "mrQ_9k0BLuF9"
      },
      "outputs": [],
      "source": [
        "from bokeh.transform import linear_cmap\n",
        "#from bokeh.palettes import d3\n",
        "from bokeh.palettes import Viridis256, Turbo256, Inferno256, Greys256\n",
        "from bokeh.models import CategoricalColorMapper\n",
        "from bokeh.models import LinearColorMapper, ColorBar\n",
        "from bokeh.transform import transform\n",
        "from bokeh.plotting import figure,show\n",
        "\n",
        "output_notebook()\n",
        "plot_tsne = bp.figure(plot_width = 700, plot_height = 500, \n",
        "                       title = \"clustering of UCT publication(umap embeddings) BART\",\n",
        "                       tools = \"pan, wheel_zoom, box_zoom, reset, hover, save\",\n",
        "                       x_axis_type = None, y_axis_type = None, min_border = 1)\n",
        "\n",
        "#palette = d3[\"Category20\"][len(tsne230_df[\"labels\"].unique())]\n",
        "#mapper = linear_cmap(field_name='labels', palette=palette ,low=min(tsne220_df[\"labels\"]) ,high=max(tsne220_df[\"labels\"]))\n",
        "\n",
        "mapper = LinearColorMapper(palette='Turbo256', low=umap_embeddings_2[\"labels\"].min() ,high=umap_embeddings_2[\"labels\"].max())\n",
        "#color_map = CategoricalColorMapper(factors = umap1020_df[\"labels\"].unique(), palette = palette)\n",
        "\n",
        "plot_tsne.scatter(x = \"dim1\", y = \"dim2\", \n",
        "                 color= transform('labels', mapper), \n",
        "                 source = umap_embeddings_2,\n",
        "                 alpha = 0.7)\n",
        "#color_bar = ColorBar(color_mapper=mapper['transform'], width=8,  location=(0,0),title=\"cluster labels\")\n",
        "color_bar = ColorBar(color_mapper = mapper,\n",
        "                     label_standoff = 14,\n",
        "                     location = (0,0),\n",
        "                     title = 'Plot')\n",
        "\n",
        "plot_tsne.add_layout(color_bar, 'right')\n",
        "hover = plot_tsne.select(dict(type = HoverTool))\n",
        "hover.tooltips = {\"paper\": \"@title\"}\n",
        "\n",
        "show(plot_tsne)"
      ]
    },
    {
      "cell_type": "code",
      "execution_count": null,
      "metadata": {
        "id": "ud7SkKRGoCRw"
      },
      "outputs": [],
      "source": [
        "import collections\n",
        "from pathlib import Path\n",
        "import spacy\n",
        "from spacy import displacy\n",
        "nlp = spacy.load(\"en_core_web_sm\")\n",
        "nlp.max_length = 10030000"
      ]
    },
    {
      "cell_type": "code",
      "execution_count": null,
      "metadata": {
        "id": "2_6yCeygkgav"
      },
      "outputs": [],
      "source": [
        "def get_group(df, category_col, category):\n",
        "    \"\"\"\n",
        "    Returns documents of a single category\n",
        "    \n",
        "    Arguments:\n",
        "        df: pandas dataframe of documents\n",
        "        category_col: str, column name corresponding to categories or clusters\n",
        "        category: int, cluster number to return\n",
        "    Returns:\n",
        "        single_category: pandas dataframe with documents from a single category\n",
        "    \"\"\"\n",
        "    \n",
        "    single_category = df[df[category_col]==category].reset_index(drop=True)\n",
        "\n",
        "    return single_category "
      ]
    },
    {
      "cell_type": "code",
      "execution_count": null,
      "metadata": {
        "id": "Iocmr-UElzKk"
      },
      "outputs": [],
      "source": [
        "def most_common(lst, n_words):\n",
        "    \"\"\"\n",
        "    Get most common words in a list of words\n",
        "    \n",
        "    Arguments:\n",
        "        lst: list, each element is a word\n",
        "        n_words: number of top common words to return\n",
        "    \n",
        "    Returns:\n",
        "        counter.most_common(n_words): counter object of n most common words\n",
        "    \"\"\"\n",
        "    counter=collections.Counter(lst)\n",
        "    return counter.most_common(n_words)"
      ]
    },
    {
      "cell_type": "code",
      "execution_count": null,
      "metadata": {
        "id": "CFAjuQ6nmIpS"
      },
      "outputs": [],
      "source": [
        "def apply_and_summarize_labels(df, category_col):\n",
        "    \"\"\"\n",
        "    Assign groups to original documents and provide group counts\n",
        "\n",
        "    Arguments:\n",
        "        df: pandas dataframe of original documents of interest to\n",
        "            cluster\n",
        "        category_col: str, column name corresponding to categories or clusters\n",
        "\n",
        "    Returns:\n",
        "        summary_df: pandas dataframe with model cluster assignment, number\n",
        "                    of documents in each cluster and derived labels\n",
        "    \"\"\"\n",
        "    \n",
        "    numerical_labels = df[category_col].unique()\n",
        "    \n",
        "    # create dictionary of the numerical category to the generated label\n",
        "    label_dict = {}\n",
        "    for label in numerical_labels:\n",
        "        current_category = list(get_group(df, category_col, label)['text'])\n",
        "        label_dict[label] = extract_labels(current_category)\n",
        "        \n",
        "    # create summary dataframe of numerical labels and counts\n",
        "    summary_df = (df.groupby(category_col)['text'].count()\n",
        "                    .reset_index()\n",
        "                    .rename(columns={'text':'count'})\n",
        "                    .sort_values('count', ascending=False))\n",
        "    \n",
        "    # apply generated labels\n",
        "    summary_df['label'] = summary_df.apply(lambda x: label_dict[x[category_col]], axis = 1)\n",
        "    \n",
        "    return summary_df"
      ]
    },
    {
      "cell_type": "code",
      "execution_count": null,
      "metadata": {
        "id": "ELXbQHqzly91"
      },
      "outputs": [],
      "source": [
        "def extract_labels(category_docs, print_word_counts=True):\n",
        "    \"\"\"\n",
        "    Extract labels from documents in the same cluster by concatenating\n",
        "    most common verbs, objects, and nouns\n",
        "\n",
        "    Argument:\n",
        "        category_docs: list of documents, all from the same category or\n",
        "                       clustering\n",
        "        print_word_counts: bool, True will print word counts of each type in this category\n",
        "\n",
        "    Returns:\n",
        "        label: str, group label derived from concatentating most common\n",
        "               verb, object, and two most common nouns\n",
        "\n",
        "    \"\"\"\n",
        "\n",
        "    verbs = []\n",
        "    dobjs = []\n",
        "    nouns = []\n",
        "    adjs = []\n",
        "    \n",
        "    verb = ''\n",
        "    dobj = ''\n",
        "    noun1 = ''\n",
        "    noun2 = ''\n",
        "\n",
        "    # for each document, append verbs, dobs, nouns, and adjectives to \n",
        "    # running lists for whole cluster\n",
        "    for i in range(len(category_docs)):\n",
        "        doc = nlp(category_docs[i])\n",
        "        for token in doc:\n",
        "            if token.is_stop==False:\n",
        "                if token.dep_ == 'ROOT':\n",
        "                    verbs.append(token.text.lower())\n",
        "\n",
        "                elif token.dep_=='dobj':\n",
        "                    dobjs.append(token.lemma_.lower())\n",
        "\n",
        "                elif token.pos_=='NOUN':\n",
        "                    nouns.append(token.lemma_.lower())\n",
        "                    \n",
        "                elif token.pos_=='ADJ':\n",
        "                    adjs.append(token.lemma_.lower())\n",
        "\n",
        "    # for printing out for inspection purposes\n",
        "    if print_word_counts:\n",
        "        for word_lst in [verbs]:\n",
        "            counter=collections.Counter(word_lst)\n",
        "            counter_verbs = counter\n",
        "\n",
        "        for word_lst in [dobjs]:\n",
        "            counter=collections.Counter(word_lst)\n",
        "            counter_dobjs = counter\n",
        "\n",
        "        for word_lst in [nouns]:\n",
        "            counter=collections.Counter(word_lst)\n",
        "            counter_nouns = counter\n",
        "        \n",
        "        for word_lst in [adjs]:\n",
        "            counter=collections.Counter(word_lst)\n",
        "            counter_adjs = counter\n",
        "    \n",
        "    # take most common words of each form\n",
        "    if len(verbs) > 0:\n",
        "        verb = most_common(verbs, 1)[0][0]\n",
        "    \n",
        "    if len(dobjs) > 0:\n",
        "        dobj = most_common(dobjs, 1)[0][0]\n",
        "    \n",
        "    if len(nouns) > 0:\n",
        "        noun1 = most_common(nouns, 1)[0][0]\n",
        "    \n",
        "    if len(set(nouns)) > 1:\n",
        "        noun2 = most_common(nouns, 2)[1][0]\n",
        "    \n",
        "    # concatenate the most common verb-dobj-noun1-noun2 (if they exist)\n",
        "    label_words = [verb, dobj]\n",
        "    \n",
        "    for word in [noun1, noun2]:\n",
        "        if word not in label_words:\n",
        "            label_words.append(word)\n",
        "    \n",
        "    if '' in label_words:\n",
        "        label_words.remove('')\n",
        "    \n",
        "    label = '_'.join(label_words)\n",
        "    \n",
        "    return label, counter_verbs, counter_dobjs, counter_nouns, counter_adjs"
      ]
    },
    {
      "cell_type": "code",
      "execution_count": null,
      "metadata": {
        "id": "Z_oX3uOxm6h2"
      },
      "outputs": [],
      "source": [
        "bert_metadata['labels'] = labels_umap"
      ]
    },
    {
      "cell_type": "code",
      "source": [
        "emb_df = pd.concat([summary_embeddings, labels_umap], axis = 1)"
      ],
      "metadata": {
        "id": "VqfXCL3zHSmm"
      },
      "execution_count": null,
      "outputs": []
    },
    {
      "cell_type": "code",
      "source": [
        "from sklearn.metrics.pairwise import cosine_similarity\n",
        "import seaborn as sns; sns.set_theme()\n",
        "X = emb_df[emb_df.iloc[: , -1] == 0]\n",
        "cosinesimilarity1 = cosine_similarity(X.iloc[: , :-1].dropna())\n",
        "fig, ax = plt.subplots(figsize=(20,10))         # Sample figsize in inches\n",
        "sns.heatmap(cosinesimilarity1, ax=ax, cmap = 'YlGnBu')"
      ],
      "metadata": {
        "id": "JPeHR7B-HMOT"
      },
      "execution_count": null,
      "outputs": []
    },
    {
      "cell_type": "code",
      "source": [
        "Y =bert_metadata[bert_metadata['labels'] == 0]"
      ],
      "metadata": {
        "id": "5ejYx2WcdJTC"
      },
      "execution_count": null,
      "outputs": []
    },
    {
      "cell_type": "code",
      "source": [
        "Y.title"
      ],
      "metadata": {
        "id": "J_bg4paWIy7A"
      },
      "execution_count": null,
      "outputs": []
    },
    {
      "cell_type": "code",
      "source": [
        "!pip install networkx\n",
        "g = bert_metadata['Author_'].str.split(';', expand=True)"
      ],
      "metadata": {
        "colab": {
          "base_uri": "https://localhost:8080/"
        },
        "id": "MfVtQ__WQ6SR",
        "outputId": "927891fa-aa1c-4400-cb59-a1918f3c58d3"
      },
      "execution_count": null,
      "outputs": [
        {
          "output_type": "stream",
          "name": "stdout",
          "text": [
            "Requirement already satisfied: networkx in /usr/local/lib/python3.7/dist-packages (2.6.3)\n"
          ]
        }
      ]
    },
    {
      "cell_type": "code",
      "source": [
        "labels_umap = labels_umap.rename(columns={0: 'labels'})"
      ],
      "metadata": {
        "id": "Qj7ex74RAGK9"
      },
      "execution_count": null,
      "outputs": []
    },
    {
      "cell_type": "code",
      "source": [
        "data_graph = pd.concat([g, labels_umap], axis = 1)"
      ],
      "metadata": {
        "id": "f3gCOlGt_Dzs"
      },
      "execution_count": null,
      "outputs": []
    },
    {
      "cell_type": "code",
      "source": [
        "data_graph.head(1)"
      ],
      "metadata": {
        "id": "CFta6CUP_7j_"
      },
      "execution_count": null,
      "outputs": []
    },
    {
      "cell_type": "code",
      "source": [
        "graph_data = data_graph.set_index('labels').stack().reset_index()"
      ],
      "metadata": {
        "id": "Y-H_h_Ig_WOq"
      },
      "execution_count": null,
      "outputs": []
    },
    {
      "cell_type": "code",
      "source": [
        "graph_data.head(1)"
      ],
      "metadata": {
        "colab": {
          "base_uri": "https://localhost:8080/",
          "height": 80
        },
        "id": "vDFxjYcSF9-r",
        "outputId": "cd30eca2-4db5-4689-d6de-3fbd92ab4767"
      },
      "execution_count": null,
      "outputs": [
        {
          "output_type": "execute_result",
          "data": {
            "text/html": [
              "\n",
              "  <div id=\"df-b02e8de3-f5af-4177-9584-9e2225945277\">\n",
              "    <div class=\"colab-df-container\">\n",
              "      <div>\n",
              "<style scoped>\n",
              "    .dataframe tbody tr th:only-of-type {\n",
              "        vertical-align: middle;\n",
              "    }\n",
              "\n",
              "    .dataframe tbody tr th {\n",
              "        vertical-align: top;\n",
              "    }\n",
              "\n",
              "    .dataframe thead th {\n",
              "        text-align: right;\n",
              "    }\n",
              "</style>\n",
              "<table border=\"1\" class=\"dataframe\">\n",
              "  <thead>\n",
              "    <tr style=\"text-align: right;\">\n",
              "      <th></th>\n",
              "      <th>labels</th>\n",
              "      <th>level_1</th>\n",
              "      <th>0</th>\n",
              "    </tr>\n",
              "  </thead>\n",
              "  <tbody>\n",
              "    <tr>\n",
              "      <th>0</th>\n",
              "      <td>35</td>\n",
              "      <td>0</td>\n",
              "      <td>Deacon, Andrew\\n</td>\n",
              "    </tr>\n",
              "  </tbody>\n",
              "</table>\n",
              "</div>\n",
              "      <button class=\"colab-df-convert\" onclick=\"convertToInteractive('df-b02e8de3-f5af-4177-9584-9e2225945277')\"\n",
              "              title=\"Convert this dataframe to an interactive table.\"\n",
              "              style=\"display:none;\">\n",
              "        \n",
              "  <svg xmlns=\"http://www.w3.org/2000/svg\" height=\"24px\"viewBox=\"0 0 24 24\"\n",
              "       width=\"24px\">\n",
              "    <path d=\"M0 0h24v24H0V0z\" fill=\"none\"/>\n",
              "    <path d=\"M18.56 5.44l.94 2.06.94-2.06 2.06-.94-2.06-.94-.94-2.06-.94 2.06-2.06.94zm-11 1L8.5 8.5l.94-2.06 2.06-.94-2.06-.94L8.5 2.5l-.94 2.06-2.06.94zm10 10l.94 2.06.94-2.06 2.06-.94-2.06-.94-.94-2.06-.94 2.06-2.06.94z\"/><path d=\"M17.41 7.96l-1.37-1.37c-.4-.4-.92-.59-1.43-.59-.52 0-1.04.2-1.43.59L10.3 9.45l-7.72 7.72c-.78.78-.78 2.05 0 2.83L4 21.41c.39.39.9.59 1.41.59.51 0 1.02-.2 1.41-.59l7.78-7.78 2.81-2.81c.8-.78.8-2.07 0-2.86zM5.41 20L4 18.59l7.72-7.72 1.47 1.35L5.41 20z\"/>\n",
              "  </svg>\n",
              "      </button>\n",
              "      \n",
              "  <style>\n",
              "    .colab-df-container {\n",
              "      display:flex;\n",
              "      flex-wrap:wrap;\n",
              "      gap: 12px;\n",
              "    }\n",
              "\n",
              "    .colab-df-convert {\n",
              "      background-color: #E8F0FE;\n",
              "      border: none;\n",
              "      border-radius: 50%;\n",
              "      cursor: pointer;\n",
              "      display: none;\n",
              "      fill: #1967D2;\n",
              "      height: 32px;\n",
              "      padding: 0 0 0 0;\n",
              "      width: 32px;\n",
              "    }\n",
              "\n",
              "    .colab-df-convert:hover {\n",
              "      background-color: #E2EBFA;\n",
              "      box-shadow: 0px 1px 2px rgba(60, 64, 67, 0.3), 0px 1px 3px 1px rgba(60, 64, 67, 0.15);\n",
              "      fill: #174EA6;\n",
              "    }\n",
              "\n",
              "    [theme=dark] .colab-df-convert {\n",
              "      background-color: #3B4455;\n",
              "      fill: #D2E3FC;\n",
              "    }\n",
              "\n",
              "    [theme=dark] .colab-df-convert:hover {\n",
              "      background-color: #434B5C;\n",
              "      box-shadow: 0px 1px 3px 1px rgba(0, 0, 0, 0.15);\n",
              "      filter: drop-shadow(0px 1px 2px rgba(0, 0, 0, 0.3));\n",
              "      fill: #FFFFFF;\n",
              "    }\n",
              "  </style>\n",
              "\n",
              "      <script>\n",
              "        const buttonEl =\n",
              "          document.querySelector('#df-b02e8de3-f5af-4177-9584-9e2225945277 button.colab-df-convert');\n",
              "        buttonEl.style.display =\n",
              "          google.colab.kernel.accessAllowed ? 'block' : 'none';\n",
              "\n",
              "        async function convertToInteractive(key) {\n",
              "          const element = document.querySelector('#df-b02e8de3-f5af-4177-9584-9e2225945277');\n",
              "          const dataTable =\n",
              "            await google.colab.kernel.invokeFunction('convertToInteractive',\n",
              "                                                     [key], {});\n",
              "          if (!dataTable) return;\n",
              "\n",
              "          const docLinkHtml = 'Like what you see? Visit the ' +\n",
              "            '<a target=\"_blank\" href=https://colab.research.google.com/notebooks/data_table.ipynb>data table notebook</a>'\n",
              "            + ' to learn more about interactive tables.';\n",
              "          element.innerHTML = '';\n",
              "          dataTable['output_type'] = 'display_data';\n",
              "          await google.colab.output.renderOutput(dataTable, element);\n",
              "          const docLink = document.createElement('div');\n",
              "          docLink.innerHTML = docLinkHtml;\n",
              "          element.appendChild(docLink);\n",
              "        }\n",
              "      </script>\n",
              "    </div>\n",
              "  </div>\n",
              "  "
            ],
            "text/plain": [
              "   labels  level_1                 0\n",
              "0      35        0  Deacon, Andrew\\n"
            ]
          },
          "metadata": {},
          "execution_count": 124
        }
      ]
    },
    {
      "cell_type": "code",
      "source": [
        "graph_data = graph_data.rename(columns={0: 'authors'})"
      ],
      "metadata": {
        "id": "qa0OYfjHHkMO"
      },
      "execution_count": null,
      "outputs": []
    },
    {
      "cell_type": "code",
      "source": [
        "import networkx as nx\n",
        "G = nx.Graph()"
      ],
      "metadata": {
        "id": "ksuwalGz4uR0"
      },
      "execution_count": null,
      "outputs": []
    },
    {
      "cell_type": "code",
      "source": [
        "g = nx.from_pandas_edgelist(graph_data, source='labels', target='authors') \n",
        "nx.draw(g)"
      ],
      "metadata": {
        "id": "sHn4D0KKF4cK"
      },
      "execution_count": null,
      "outputs": []
    },
    {
      "cell_type": "code",
      "source": [
        "authors = list(graph_data.authors.unique())\n",
        "labels = list(graph_data.labels.unique())"
      ],
      "metadata": {
        "id": "A-zsmAvqHTtb"
      },
      "execution_count": null,
      "outputs": []
    },
    {
      "cell_type": "code",
      "source": [
        "dict(zip(authors, authors))"
      ],
      "metadata": {
        "id": "PS9_8O-WIF74"
      },
      "execution_count": null,
      "outputs": []
    },
    {
      "cell_type": "code",
      "source": [
        "g.degree('Chimusa, Emile R\\n')"
      ],
      "metadata": {
        "id": "T7sOWY8NKjMN"
      },
      "execution_count": null,
      "outputs": []
    },
    {
      "cell_type": "code",
      "source": [
        "import matplotlib.pyplot as plt\n",
        "\n",
        "plt.figure(figsize=(40, 40))\n",
        "\n",
        "# 1. Create the graph\n",
        "g = nx.from_pandas_edgelist(graph_data, source='authors', target='labels') \n",
        "\n",
        "# 2. Create a layout for our nodes \n",
        "layout = nx.spring_layout(g,iterations=50)\n",
        "\n",
        "# 3. Draw the parts we want\n",
        "# Edges thin and grey\n",
        "# People small and grey\n",
        "# Clubs sized according to their number of connections\n",
        "# Clubs blue\n",
        "# Labels for clubs ONLY\n",
        "# People who are highly connected are a highlighted color\n",
        "\n",
        "# Go through every club name, ask the graph how many\n",
        "# connections it has. Multiply that by 80 to get the circle size\n",
        "club_size = [g.degree(author) * 80 for author in authors]\n",
        "nx.draw_networkx_nodes(g, \n",
        "                       layout, \n",
        "                       nodelist=authors, \n",
        "                       node_size=club_size, # a LIST of sizes, based on g.degree\n",
        "                       node_color='lightblue')\n",
        "\n",
        "# Draw EVERYONE\n",
        "nx.draw_networkx_nodes(g, layout, nodelist=labels, node_color='#cccccc', node_size=100)\n",
        "\n",
        "# Draw POPULAR PEOPLE\n",
        "popular_people = [person for person in labels if g.degree(person) > 1]\n",
        "nx.draw_networkx_nodes(g, layout, nodelist=popular_people, node_color='orange', label=labels, node_size=100)\n",
        "\n",
        "nx.draw_networkx_edges(g, layout, width=1, edge_color=\"#cccccc\")\n",
        "\n",
        "node_labels = dict(zip(authors, authors))\n",
        "nx.draw_networkx_labels(g, layout, labels=node_labels, font_size=11)\n",
        "\n",
        "# 4. Turn off the axis because I know you don't want it\n",
        "plt.axis('off')\n",
        "\n",
        "plt.title(\"UCT author network\")\n",
        "\n",
        "# 5. Tell matplotlib to show it\n",
        "plt.show()"
      ],
      "metadata": {
        "id": "JUgjnPNSIbwk"
      },
      "execution_count": null,
      "outputs": []
    },
    {
      "cell_type": "code",
      "source": [
        "example_category = list(get_group(Y, 'labels', 0)['Author_'])\n",
        "k = extract_labels(example_category, True)"
      ],
      "metadata": {
        "id": "p9o4tDMKIfSh"
      },
      "execution_count": null,
      "outputs": []
    },
    {
      "cell_type": "code",
      "source": [
        "example_category"
      ],
      "metadata": {
        "id": "EJqaE-OW9Z19"
      },
      "execution_count": null,
      "outputs": []
    },
    {
      "cell_type": "code",
      "source": [
        "from sklearn.feature_extraction.text import CountVectorizer\n",
        "vectorizer = CountVectorizer()\n",
        "vectorizer.fit(Y.Author_)\n",
        "#vector = vectorizer.transform(Y.Author_)\n",
        "vectorizer.vocabulary_"
      ],
      "metadata": {
        "id": "UsCQl2V9-hQH"
      },
      "execution_count": null,
      "outputs": []
    },
    {
      "cell_type": "code",
      "source": [
        "from sklearn.feature_extraction.text import TfidfVectorizer\n",
        "from wordcloud import WordCloud\n",
        "import matplotlib.pyplot as plt\n",
        "#bag = pd.DataFrame.from_dict(k[4], orient='index').reset_index()\n",
        "#d = {}\n",
        "#for a, x in bag.values:\n",
        "#  d[a] = x\n",
        "\n",
        "vectorizer = TfidfVectorizer(stop_words='english')\n",
        "vecs = vectorizer.fit_transform(Y.text1)\n",
        "feature_names = vectorizer.get_feature_names()\n",
        "dense = vecs.todense()\n",
        "lst1 = dense.tolist()\n",
        "df = pd.DataFrame(lst1, columns=feature_names)\n",
        "\n",
        "wordcloud = WordCloud(width=1000, height=800)\n",
        "wordcloud.generate_from_frequencies(df.T.sum(axis=1))\n",
        "plt.figure()\n",
        "plt.imshow(wordcloud, interpolation=\"bilinear\")\n",
        "plt.axis(\"off\")\n",
        "plt.show()"
      ],
      "metadata": {
        "id": "_GKgAwMms5qp"
      },
      "execution_count": null,
      "outputs": []
    },
    {
      "cell_type": "code",
      "source": [
        "example_category = list(get_group(bert_metadata, 'labels', 5)['text1'])\n",
        "k = extract_labels(example_category, True)"
      ],
      "metadata": {
        "id": "zOU_HzeE5-Zm"
      },
      "execution_count": null,
      "outputs": []
    },
    {
      "cell_type": "code",
      "source": [
        "from sklearn.metrics.pairwise import cosine_similarity\n",
        "import seaborn as sns; sns.set_theme()\n",
        "X = emb_df[emb_df.iloc[: , -1] == 5]\n",
        "cosinesimilarity1 = cosine_similarity(X.iloc[: , :-1].dropna())\n",
        "fig, ax = plt.subplots(figsize=(20,10))         # Sample figsize in inches\n",
        "sns.heatmap(cosinesimilarity1, ax=ax, cmap = 'YlGnBu')"
      ],
      "metadata": {
        "id": "YNPXmx54TEnG"
      },
      "execution_count": null,
      "outputs": []
    },
    {
      "cell_type": "code",
      "source": [
        "Y =bert_metadata[bert_metadata['labels'] == 5]"
      ],
      "metadata": {
        "id": "qHdEg88kUQzB"
      },
      "execution_count": null,
      "outputs": []
    },
    {
      "cell_type": "code",
      "source": [
        "Y.title"
      ],
      "metadata": {
        "id": "vUCbN9OVUccN"
      },
      "execution_count": null,
      "outputs": []
    },
    {
      "cell_type": "code",
      "source": [
        "from wordcloud import WordCloud\n",
        "import matplotlib.pyplot as plt\n",
        "#bag = pd.DataFrame.from_dict(k[3], orient='index').reset_index()\n",
        "#d = {}\n",
        "#for a, x in bag.values:\n",
        " # d[a] = x\n",
        "vectorizer = TfidfVectorizer(stop_words='english')\n",
        "vecs = vectorizer.fit_transform(Y.text1)\n",
        "feature_names = vectorizer.get_feature_names()\n",
        "dense = vecs.todense()\n",
        "lst1 = dense.tolist()\n",
        "df = pd.DataFrame(lst1, columns=feature_names)\n",
        "\n",
        "wordcloud = WordCloud(width=1000, height=800)\n",
        "wordcloud.generate_from_frequencies(df.T.sum(axis=1))\n",
        "plt.figure()\n",
        "plt.imshow(wordcloud, interpolation=\"bilinear\")\n",
        "plt.axis(\"off\")\n",
        "plt.show()"
      ],
      "metadata": {
        "id": "6V4H-xOgSVFE"
      },
      "execution_count": null,
      "outputs": []
    },
    {
      "cell_type": "code",
      "source": [
        "L = bert_metadata[bert_metadata['labels'] == 15]"
      ],
      "metadata": {
        "id": "-dPZ28q_-mHY"
      },
      "execution_count": null,
      "outputs": []
    },
    {
      "cell_type": "code",
      "source": [
        "L.title"
      ],
      "metadata": {
        "id": "EJWLBQspicSi"
      },
      "execution_count": null,
      "outputs": []
    },
    {
      "cell_type": "code",
      "source": [
        "from sklearn.metrics.pairwise import cosine_similarity\n",
        "import seaborn as sns; sns.set_theme()\n",
        "X = emb_df[emb_df.iloc[: , -1] == 15]\n",
        "cosinesimilarity1 = cosine_similarity(X.iloc[: , :-1].dropna())\n",
        "fig, ax = plt.subplots(figsize=(20,10))         # Sample figsize in inches\n",
        "sns.heatmap(cosinesimilarity1, ax=ax, cmap = 'YlGnBu')"
      ],
      "metadata": {
        "id": "osZu_FQ3dUno"
      },
      "execution_count": null,
      "outputs": []
    },
    {
      "cell_type": "code",
      "source": [
        "from wordcloud import WordCloud\n",
        "import matplotlib.pyplot as plt\n",
        "#bag = pd.DataFrame.from_dict(k[3], orient='index').reset_index()\n",
        "#d = {}\n",
        "#for a, x in bag.values:\n",
        " # d[a] = x\n",
        "vectorizer = TfidfVectorizer(stop_words='english')\n",
        "vecs = vectorizer.fit_transform(L.text1)\n",
        "feature_names = vectorizer.get_feature_names()\n",
        "dense = vecs.todense()\n",
        "lst1 = dense.tolist()\n",
        "df = pd.DataFrame(lst1, columns=feature_names)\n",
        "\n",
        "wordcloud = WordCloud(width=1000, height=800)\n",
        "wordcloud.generate_from_frequencies(df.T.sum(axis=1))\n",
        "plt.figure()\n",
        "plt.imshow(wordcloud, interpolation=\"bilinear\")\n",
        "plt.axis(\"off\")\n",
        "plt.show()"
      ],
      "metadata": {
        "id": "q2d077pEfkWW"
      },
      "execution_count": null,
      "outputs": []
    },
    {
      "cell_type": "code",
      "execution_count": null,
      "metadata": {
        "id": "t5wnPgkAb2W5"
      },
      "outputs": [],
      "source": [
        "sentences = bert_metadata.text1.to_list()"
      ]
    },
    {
      "cell_type": "code",
      "execution_count": null,
      "metadata": {
        "id": "WGgL8vJLbubQ"
      },
      "outputs": [],
      "source": [
        "sent = []\n",
        "\n",
        "for i in range(len(sentences)):\n",
        "  s = \" \"\n",
        "  \n",
        " # joins elements of list1 by '-'\n",
        " # and stores in sting s\n",
        "  s = s.join(sentences[i])\n",
        "  sent.append(s)"
      ]
    },
    {
      "cell_type": "code",
      "execution_count": null,
      "metadata": {
        "id": "YVOSCIZRchZR"
      },
      "outputs": [],
      "source": [
        "sent = pd.DataFrame(sent, columns=['text'])\n",
        "sent['labels'] = labels_umap"
      ]
    },
    {
      "cell_type": "code",
      "execution_count": null,
      "metadata": {
        "id": "xTM3VaQTc3z7"
      },
      "outputs": [],
      "source": [
        "sent.head(5)"
      ]
    },
    {
      "cell_type": "code",
      "execution_count": null,
      "metadata": {
        "id": "qqi_4q7uQG0i"
      },
      "outputs": [],
      "source": [
        "numerical_labels = sent['labels'].unique()\n",
        "    \n",
        "    # create dictionary of the numerical category to the generated label\n",
        "label_dict = {}\n",
        "for label in numerical_labels:\n",
        "  current_category = list(get_group(sent, 'labels', label)['text'])\n",
        "  label_dict = extract_labels(current_category, True)"
      ]
    },
    {
      "cell_type": "code",
      "execution_count": null,
      "metadata": {
        "id": "qRXoSFrUofia"
      },
      "outputs": [],
      "source": [
        "cluster_summary = apply_and_summarize_labels(bert_metadata, 'labels')\n",
        "cluster_summary.head(20)"
      ]
    }
  ],
  "metadata": {
    "colab": {
      "collapsed_sections": [],
      "machine_shape": "hm",
      "name": "SciBERT_bartsummaries.ipynb",
      "provenance": [],
      "include_colab_link": true
    },
    "kernelspec": {
      "display_name": "Python 3",
      "name": "python3"
    },
    "widgets": {
      "application/vnd.jupyter.widget-state+json": {
        "853208db23f542e48c8bf4887511ffaa": {
          "model_module": "@jupyter-widgets/controls",
          "model_name": "HBoxModel",
          "model_module_version": "1.5.0",
          "state": {
            "_view_name": "HBoxView",
            "_dom_classes": [],
            "_model_name": "HBoxModel",
            "_view_module": "@jupyter-widgets/controls",
            "_model_module_version": "1.5.0",
            "_view_count": null,
            "_view_module_version": "1.5.0",
            "box_style": "",
            "layout": "IPY_MODEL_e4f6fa5f808c46ffb59e3e5776ce17e0",
            "_model_module": "@jupyter-widgets/controls",
            "children": [
              "IPY_MODEL_704521372da243c988e3990456017ef5",
              "IPY_MODEL_c050bf3d77d24f37904f7749727f4460",
              "IPY_MODEL_bc2f62cec0ec431390e7c4406bb527ff"
            ]
          }
        },
        "e4f6fa5f808c46ffb59e3e5776ce17e0": {
          "model_module": "@jupyter-widgets/base",
          "model_name": "LayoutModel",
          "model_module_version": "1.2.0",
          "state": {
            "_view_name": "LayoutView",
            "grid_template_rows": null,
            "right": null,
            "justify_content": null,
            "_view_module": "@jupyter-widgets/base",
            "overflow": null,
            "_model_module_version": "1.2.0",
            "_view_count": null,
            "flex_flow": null,
            "width": null,
            "min_width": null,
            "border": null,
            "align_items": null,
            "bottom": null,
            "_model_module": "@jupyter-widgets/base",
            "top": null,
            "grid_column": null,
            "overflow_y": null,
            "overflow_x": null,
            "grid_auto_flow": null,
            "grid_area": null,
            "grid_template_columns": null,
            "flex": null,
            "_model_name": "LayoutModel",
            "justify_items": null,
            "grid_row": null,
            "max_height": null,
            "align_content": null,
            "visibility": null,
            "align_self": null,
            "height": null,
            "min_height": null,
            "padding": null,
            "grid_auto_rows": null,
            "grid_gap": null,
            "max_width": null,
            "order": null,
            "_view_module_version": "1.2.0",
            "grid_template_areas": null,
            "object_position": null,
            "object_fit": null,
            "grid_auto_columns": null,
            "margin": null,
            "display": null,
            "left": null
          }
        },
        "704521372da243c988e3990456017ef5": {
          "model_module": "@jupyter-widgets/controls",
          "model_name": "HTMLModel",
          "model_module_version": "1.5.0",
          "state": {
            "_view_name": "HTMLView",
            "style": "IPY_MODEL_cab614831c4d4ce78ff21b603ddd5860",
            "_dom_classes": [],
            "description": "",
            "_model_name": "HTMLModel",
            "placeholder": "​",
            "_view_module": "@jupyter-widgets/controls",
            "_model_module_version": "1.5.0",
            "value": "Batches: 100%",
            "_view_count": null,
            "_view_module_version": "1.5.0",
            "description_tooltip": null,
            "_model_module": "@jupyter-widgets/controls",
            "layout": "IPY_MODEL_d393149d57b84c399600c4073225a478"
          }
        },
        "c050bf3d77d24f37904f7749727f4460": {
          "model_module": "@jupyter-widgets/controls",
          "model_name": "FloatProgressModel",
          "model_module_version": "1.5.0",
          "state": {
            "_view_name": "ProgressView",
            "style": "IPY_MODEL_27dfbeb84e09418395b2c6dda64e3ab8",
            "_dom_classes": [],
            "description": "",
            "_model_name": "FloatProgressModel",
            "bar_style": "success",
            "max": 9,
            "_view_module": "@jupyter-widgets/controls",
            "_model_module_version": "1.5.0",
            "value": 9,
            "_view_count": null,
            "_view_module_version": "1.5.0",
            "orientation": "horizontal",
            "min": 0,
            "description_tooltip": null,
            "_model_module": "@jupyter-widgets/controls",
            "layout": "IPY_MODEL_9d38a6422180482c9935c76e87c9ac98"
          }
        },
        "bc2f62cec0ec431390e7c4406bb527ff": {
          "model_module": "@jupyter-widgets/controls",
          "model_name": "HTMLModel",
          "model_module_version": "1.5.0",
          "state": {
            "_view_name": "HTMLView",
            "style": "IPY_MODEL_38d6ae10cd6a405a95762dbb3bd63597",
            "_dom_classes": [],
            "description": "",
            "_model_name": "HTMLModel",
            "placeholder": "​",
            "_view_module": "@jupyter-widgets/controls",
            "_model_module_version": "1.5.0",
            "value": " 9/9 [04:44&lt;00:00, 23.15s/it]",
            "_view_count": null,
            "_view_module_version": "1.5.0",
            "description_tooltip": null,
            "_model_module": "@jupyter-widgets/controls",
            "layout": "IPY_MODEL_cace61ce172c472cb400ee944f7b152f"
          }
        },
        "cab614831c4d4ce78ff21b603ddd5860": {
          "model_module": "@jupyter-widgets/controls",
          "model_name": "DescriptionStyleModel",
          "model_module_version": "1.5.0",
          "state": {
            "_view_name": "StyleView",
            "_model_name": "DescriptionStyleModel",
            "description_width": "",
            "_view_module": "@jupyter-widgets/base",
            "_model_module_version": "1.5.0",
            "_view_count": null,
            "_view_module_version": "1.2.0",
            "_model_module": "@jupyter-widgets/controls"
          }
        },
        "d393149d57b84c399600c4073225a478": {
          "model_module": "@jupyter-widgets/base",
          "model_name": "LayoutModel",
          "model_module_version": "1.2.0",
          "state": {
            "_view_name": "LayoutView",
            "grid_template_rows": null,
            "right": null,
            "justify_content": null,
            "_view_module": "@jupyter-widgets/base",
            "overflow": null,
            "_model_module_version": "1.2.0",
            "_view_count": null,
            "flex_flow": null,
            "width": null,
            "min_width": null,
            "border": null,
            "align_items": null,
            "bottom": null,
            "_model_module": "@jupyter-widgets/base",
            "top": null,
            "grid_column": null,
            "overflow_y": null,
            "overflow_x": null,
            "grid_auto_flow": null,
            "grid_area": null,
            "grid_template_columns": null,
            "flex": null,
            "_model_name": "LayoutModel",
            "justify_items": null,
            "grid_row": null,
            "max_height": null,
            "align_content": null,
            "visibility": null,
            "align_self": null,
            "height": null,
            "min_height": null,
            "padding": null,
            "grid_auto_rows": null,
            "grid_gap": null,
            "max_width": null,
            "order": null,
            "_view_module_version": "1.2.0",
            "grid_template_areas": null,
            "object_position": null,
            "object_fit": null,
            "grid_auto_columns": null,
            "margin": null,
            "display": null,
            "left": null
          }
        },
        "27dfbeb84e09418395b2c6dda64e3ab8": {
          "model_module": "@jupyter-widgets/controls",
          "model_name": "ProgressStyleModel",
          "model_module_version": "1.5.0",
          "state": {
            "_view_name": "StyleView",
            "_model_name": "ProgressStyleModel",
            "description_width": "",
            "_view_module": "@jupyter-widgets/base",
            "_model_module_version": "1.5.0",
            "_view_count": null,
            "_view_module_version": "1.2.0",
            "bar_color": null,
            "_model_module": "@jupyter-widgets/controls"
          }
        },
        "9d38a6422180482c9935c76e87c9ac98": {
          "model_module": "@jupyter-widgets/base",
          "model_name": "LayoutModel",
          "model_module_version": "1.2.0",
          "state": {
            "_view_name": "LayoutView",
            "grid_template_rows": null,
            "right": null,
            "justify_content": null,
            "_view_module": "@jupyter-widgets/base",
            "overflow": null,
            "_model_module_version": "1.2.0",
            "_view_count": null,
            "flex_flow": null,
            "width": null,
            "min_width": null,
            "border": null,
            "align_items": null,
            "bottom": null,
            "_model_module": "@jupyter-widgets/base",
            "top": null,
            "grid_column": null,
            "overflow_y": null,
            "overflow_x": null,
            "grid_auto_flow": null,
            "grid_area": null,
            "grid_template_columns": null,
            "flex": null,
            "_model_name": "LayoutModel",
            "justify_items": null,
            "grid_row": null,
            "max_height": null,
            "align_content": null,
            "visibility": null,
            "align_self": null,
            "height": null,
            "min_height": null,
            "padding": null,
            "grid_auto_rows": null,
            "grid_gap": null,
            "max_width": null,
            "order": null,
            "_view_module_version": "1.2.0",
            "grid_template_areas": null,
            "object_position": null,
            "object_fit": null,
            "grid_auto_columns": null,
            "margin": null,
            "display": null,
            "left": null
          }
        },
        "38d6ae10cd6a405a95762dbb3bd63597": {
          "model_module": "@jupyter-widgets/controls",
          "model_name": "DescriptionStyleModel",
          "model_module_version": "1.5.0",
          "state": {
            "_view_name": "StyleView",
            "_model_name": "DescriptionStyleModel",
            "description_width": "",
            "_view_module": "@jupyter-widgets/base",
            "_model_module_version": "1.5.0",
            "_view_count": null,
            "_view_module_version": "1.2.0",
            "_model_module": "@jupyter-widgets/controls"
          }
        },
        "cace61ce172c472cb400ee944f7b152f": {
          "model_module": "@jupyter-widgets/base",
          "model_name": "LayoutModel",
          "model_module_version": "1.2.0",
          "state": {
            "_view_name": "LayoutView",
            "grid_template_rows": null,
            "right": null,
            "justify_content": null,
            "_view_module": "@jupyter-widgets/base",
            "overflow": null,
            "_model_module_version": "1.2.0",
            "_view_count": null,
            "flex_flow": null,
            "width": null,
            "min_width": null,
            "border": null,
            "align_items": null,
            "bottom": null,
            "_model_module": "@jupyter-widgets/base",
            "top": null,
            "grid_column": null,
            "overflow_y": null,
            "overflow_x": null,
            "grid_auto_flow": null,
            "grid_area": null,
            "grid_template_columns": null,
            "flex": null,
            "_model_name": "LayoutModel",
            "justify_items": null,
            "grid_row": null,
            "max_height": null,
            "align_content": null,
            "visibility": null,
            "align_self": null,
            "height": null,
            "min_height": null,
            "padding": null,
            "grid_auto_rows": null,
            "grid_gap": null,
            "max_width": null,
            "order": null,
            "_view_module_version": "1.2.0",
            "grid_template_areas": null,
            "object_position": null,
            "object_fit": null,
            "grid_auto_columns": null,
            "margin": null,
            "display": null,
            "left": null
          }
        }
      }
    }
  },
  "nbformat": 4,
  "nbformat_minor": 0
}